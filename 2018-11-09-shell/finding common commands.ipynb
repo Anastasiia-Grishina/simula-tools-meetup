{
 "cells": [
  {
   "cell_type": "markdown",
   "metadata": {},
   "source": [
    "# Finding common commands from my bash history\n",
    "\n",
    "aliases and functions are shortcuts for doing common or cumbersome tasks.\n",
    "Looking through your command history can help identify good candidates\n",
    "(or use your own annoyance at typing things often).\n",
    "\n",
    "First, read my bash history file"
   ]
  },
  {
   "cell_type": "code",
   "execution_count": 1,
   "metadata": {},
   "outputs": [],
   "source": [
    "import os\n",
    "history_file = os.path.expanduser('~/.bash_history')\n",
    "with open(history_file, errors='replace') as f:\n",
    "    history = f.read().splitlines()"
   ]
  },
  {
   "cell_type": "code",
   "execution_count": 2,
   "metadata": {},
   "outputs": [
    {
     "data": {
      "text/plain": [
       "['echo $PATH',\n",
       " 'brew cask install vscode',\n",
       " 'mate ~/.bashrc',\n",
       " 'which bash',\n",
       " 'bash',\n",
       " 'brew install git',\n",
       " 'j',\n",
       " 'cd',\n",
       " 'pwd',\n",
       " 'j']"
      ]
     },
     "execution_count": 2,
     "metadata": {},
     "output_type": "execute_result"
    }
   ],
   "source": [
    "history[:10]"
   ]
  },
  {
   "cell_type": "code",
   "execution_count": 3,
   "metadata": {},
   "outputs": [
    {
     "data": {
      "text/plain": [
       "45521"
      ]
     },
     "execution_count": 3,
     "metadata": {},
     "output_type": "execute_result"
    }
   ],
   "source": [
    "len(history)"
   ]
  },
  {
   "cell_type": "markdown",
   "metadata": {},
   "source": [
    "Find the most common commands:"
   ]
  },
  {
   "cell_type": "code",
   "execution_count": 4,
   "metadata": {},
   "outputs": [
    {
     "data": {
      "text/plain": [
       "[('gitx', 1830),\n",
       " ('ls', 1734),\n",
       " ('git diff', 1551),\n",
       " ('mp', 831),\n",
       " ('kubectl get pod', 594),\n",
       " ('git log', 536),\n",
       " ('pr', 475),\n",
       " ('ip', 376),\n",
       " ('git push mine -f', 319),\n",
       " ('git push mine', 316)]"
      ]
     },
     "execution_count": 4,
     "metadata": {},
     "output_type": "execute_result"
    }
   ],
   "source": [
    "from collections import Counter\n",
    "all_commands = Counter(history)\n",
    "all_commands.most_common(10)\n"
   ]
  },
  {
   "cell_type": "markdown",
   "metadata": {},
   "source": [
    "Partial commands"
   ]
  },
  {
   "cell_type": "code",
   "execution_count": 5,
   "metadata": {},
   "outputs": [],
   "source": [
    "import shlex\n",
    "\n",
    "def get_ngrams(history, n):\n",
    "    \"\"\"Get all the n-word sequences, wherever they occur in a line\"\"\"\n",
    "    ngrams = []\n",
    "    for line in history:\n",
    "        try:\n",
    "            words = tuple(shlex.split(line))\n",
    "        except ValueError:\n",
    "            # not a valid command, use simple splitting\n",
    "            continue\n",
    "\n",
    "        chunks = 1 + len(words) - n\n",
    "        if chunks < 1:\n",
    "            continue\n",
    "        for i in range(chunks):\n",
    "            ngrams.append(' '.join(words[i:i+n]))\n",
    "    return ngrams\n"
   ]
  },
  {
   "cell_type": "code",
   "execution_count": 6,
   "metadata": {},
   "outputs": [
    {
     "data": {
      "text/plain": [
       "[('git diff', 1750),\n",
       " ('kubectl get', 1675),\n",
       " ('git push', 1117),\n",
       " ('get pod', 1100),\n",
       " ('git log', 723),\n",
       " ('push mine', 661),\n",
       " ('| grep', 660),\n",
       " ('pip install', 648),\n",
       " ('python -m', 485),\n",
       " ('kubectl logs', 411)]"
      ]
     },
     "execution_count": 6,
     "metadata": {},
     "output_type": "execute_result"
    }
   ],
   "source": [
    "ngrams = get_ngrams(history, 2)\n",
    "Counter(ngrams).most_common(10)"
   ]
  },
  {
   "cell_type": "code",
   "execution_count": 7,
   "metadata": {},
   "outputs": [],
   "source": [
    "def get_all_subcommands(history):\n",
    "    \"\"\"Get all subsets of commands starting from the beginning\n",
    "    \n",
    "    The most popular long ones of these are good candidates for aliases\n",
    "    \"\"\"\n",
    "    subcommands = []\n",
    "    for line in history:\n",
    "        try:\n",
    "            words = tuple(shlex.split(line))\n",
    "        except ValueError:\n",
    "            # not a valid command, skip it\n",
    "            continue\n",
    "        commands = [words]\n",
    "        \n",
    "        while words:\n",
    "            indices = [\n",
    "                words.index(c)\n",
    "                for c in ('|', ';')\n",
    "                if c in words \n",
    "            ]\n",
    "            if indices:\n",
    "                idx = min(indices)\n",
    "                # add next snippet\n",
    "                commands.append(words[:idx])\n",
    "                words = words[idx+1:]\n",
    "                # and the full right-hand side,\n",
    "                # even if it's multiple commands\n",
    "                commands.append(words)\n",
    "            else:\n",
    "                words = []\n",
    "        for command in commands:\n",
    "            for n in range(1, len(command)):\n",
    "                subcommands.append(' '.join(command[:n]))\n",
    "    return subcommands"
   ]
  },
  {
   "cell_type": "code",
   "execution_count": 8,
   "metadata": {},
   "outputs": [],
   "source": [
    "all_subcommands = get_all_subcommands(history)"
   ]
  },
  {
   "cell_type": "code",
   "execution_count": 9,
   "metadata": {},
   "outputs": [
    {
     "data": {
      "text/plain": [
       "77699"
      ]
     },
     "execution_count": 9,
     "metadata": {},
     "output_type": "execute_result"
    }
   ],
   "source": [
    "len(all_subcommands)"
   ]
  },
  {
   "cell_type": "code",
   "execution_count": 10,
   "metadata": {},
   "outputs": [
    {
     "data": {
      "text/plain": [
       "[('git', 6486),\n",
       " ('mate', 4979),\n",
       " ('kubectl', 3544),\n",
       " ('j', 2218),\n",
       " ('kubectl get', 1822),\n",
       " ('cd', 1460),\n",
       " ('docker', 1442),\n",
       " ('ls', 1201),\n",
       " ('conda', 1078),\n",
       " ('python', 1029),\n",
       " ('grep', 880),\n",
       " ('git push', 859),\n",
       " ('pip', 769),\n",
       " ('pip install', 622),\n",
       " ('make', 594),\n",
       " ('b', 556),\n",
       " ('helm', 543),\n",
       " ('ag', 516),\n",
       " ('pytest', 475),\n",
       " ('python -m', 473),\n",
       " ('npm', 449),\n",
       " ('kubectl logs', 425),\n",
       " ('cat', 413),\n",
       " ('kubectl delete', 396),\n",
       " ('kubectl get pod', 378),\n",
       " ('kubectl describe', 377),\n",
       " ('gcloud', 371),\n",
       " ('brew', 367),\n",
       " ('rm', 365),\n",
       " ('ssh', 356),\n",
       " ('kubectl delete pod', 348),\n",
       " ('git push mine', 342),\n",
       " ('git commit', 328),\n",
       " ('docker run', 326),\n",
       " ('conda install', 314),\n",
       " ('python3', 291),\n",
       " ('python3 .circleci/integration-test.py', 287),\n",
       " ('setup', 263),\n",
       " ('c', 245),\n",
       " ('pip install -e', 235),\n",
       " ('git reset', 232),\n",
       " ('git rebase', 229),\n",
       " ('conda build', 228),\n",
       " ('jupyter', 223),\n",
       " ('open', 217),\n",
       " ('git add', 206),\n",
       " ('git diff', 201),\n",
       " ('rm -rf', 193),\n",
       " ('kubectl get pod |', 193),\n",
       " ('export', 190),\n",
       " ('unison', 189),\n",
       " ('git log', 188),\n",
       " ('kubectl describe node', 185),\n",
       " ('git commit -am', 184),\n",
       " ('docker build', 184),\n",
       " ('minikube', 183),\n",
       " ('eval', 179),\n",
       " ('git show', 177),\n",
       " ('kubectl get pod | grep', 176),\n",
       " ('docker build -t', 173),\n",
       " ('docker run --rm', 167),\n",
       " ('curl', 165),\n",
       " ('conda create', 158),\n",
       " ('cp', 156),\n",
       " ('kubectl describe pod', 153),\n",
       " ('mv', 151),\n",
       " ('git clean', 150),\n",
       " ('docker-machine', 150),\n",
       " ('python3 .circleci/integration-test.py run', 150),\n",
       " ('python -m repo2docker', 149),\n",
       " ('conda-smithy', 145),\n",
       " ('npm run', 144),\n",
       " ('helm upgrade', 143),\n",
       " ('conda create -n', 142),\n",
       " ('docker run --rm -it', 141),\n",
       " ('psg', 135),\n",
       " ('du', 130),\n",
       " ('otool', 130),\n",
       " ('nb', 129),\n",
       " ('du -hs', 127),\n",
       " ('gcloud container', 124),\n",
       " ('echo', 123),\n",
       " ('which', 119),\n",
       " ('gcloud compute', 115),\n",
       " ('find', 114),\n",
       " ('python3 .circleci/integration-test.py copy', 112),\n",
       " ('python3 .circleci/integration-test.py copy .', 112),\n",
       " ('eval $(docker-machine', 109),\n",
       " ('eval $(docker-machine env', 108),\n",
       " ('docker pull', 106),\n",
       " ('mkcd', 106),\n",
       " ('gcloud container clusters', 106),\n",
       " ('bash', 105),\n",
       " ('time', 105),\n",
       " ('git checkout', 103),\n",
       " ('kubectl config', 103),\n",
       " ('kubectl exec', 103),\n",
       " ('clone', 102),\n",
       " ('activate', 102),\n",
       " ('otool -L', 102)]"
      ]
     },
     "execution_count": 10,
     "metadata": {},
     "output_type": "execute_result"
    }
   ],
   "source": [
    "counts = Counter(all_subcommands)\n",
    "counts.most_common(100)"
   ]
  },
  {
   "cell_type": "markdown",
   "metadata": {},
   "source": [
    "Some of these most used commands are aliases:"
   ]
  },
  {
   "cell_type": "code",
   "execution_count": 12,
   "metadata": {},
   "outputs": [
    {
     "data": {
      "text/plain": [
       "[\"alias c-='git-last-branch'\",\n",
       " \"alias checkout='git fuzzy-checkout'\",\n",
       " \"alias cherry='git cherry-pick'\",\n",
       " \"alias ci='git commit'\",\n",
       " \"alias cleardnscache='dscacheutil -flushcache'\",\n",
       " \"alias clone='git clone --recursive'\",\n",
       " \"alias co='git fuzzy-checkout'\",\n",
       " \"alias commit='git commit'\",\n",
       " \"alias da='deactivate'\",\n",
       " \"alias develop='pip install -e .'\"]"
      ]
     },
     "execution_count": 12,
     "metadata": {},
     "output_type": "execute_result"
    }
   ],
   "source": [
    "alias_list = !bash -l -c alias\n",
    "alias_list[10:20]"
   ]
  },
  {
   "cell_type": "markdown",
   "metadata": {},
   "source": [
    "parse the bash aliases into a dict"
   ]
  },
  {
   "cell_type": "code",
   "execution_count": 15,
   "metadata": {},
   "outputs": [],
   "source": [
    "aliases = {}\n",
    "for line in alias_list:\n",
    "    alias, key_value = line.split(' ', 1)\n",
    "    key, value = key_value.split('=', 1)\n",
    "    aliases[key] = value\n"
   ]
  },
  {
   "cell_type": "markdown",
   "metadata": {},
   "source": [
    "Which are my most commonly used aliases?"
   ]
  },
  {
   "cell_type": "code",
   "execution_count": 16,
   "metadata": {},
   "outputs": [
    {
     "name": "stdout",
     "output_type": "stream",
     "text": [
      "alias git='hub' 6486\n",
      "alias mate='openmate' 4979\n",
      "alias ls='ls -G' 1201\n",
      "alias b='git checkout -b' 556\n",
      "alias rm='rm -i' 365\n",
      "alias setup='python setup.py' 263\n",
      "alias c='git fuzzy-checkout' 245\n",
      "alias psg='psgrep' 135\n",
      "alias nb='jupyter notebook' 129\n",
      "alias clone='git clone --recursive' 102\n",
      "alias pskill='psgrepkillall' 56\n",
      "alias inplace='python setup.py build_ext --inplace' 45\n",
      "alias cherry='git cherry-pick' 42\n"
     ]
    }
   ],
   "source": [
    "seen = set()\n",
    "for cmd, count in counts.most_common(200):\n",
    "    key = cmd.split()[0]\n",
    "    if key in aliases and key not in seen:\n",
    "        seen.add(key)\n",
    "        print(f\"alias {key}={aliases[key]} {count}\")"
   ]
  }
 ],
 "metadata": {
  "kernelspec": {
   "display_name": "Python 3",
   "language": "python",
   "name": "python3"
  },
  "language_info": {
   "codemirror_mode": {
    "name": "ipython",
    "version": 3
   },
   "file_extension": ".py",
   "mimetype": "text/x-python",
   "name": "python",
   "nbconvert_exporter": "python",
   "pygments_lexer": "ipython3",
   "version": "3.6.5"
  }
 },
 "nbformat": 4,
 "nbformat_minor": 2
}
