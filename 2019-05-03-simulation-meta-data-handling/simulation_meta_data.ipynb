{
 "cells": [
  {
   "cell_type": "markdown",
   "metadata": {},
   "source": [
    "## Handling simulation meta data using pandas\n",
    "\n",
    "Suppose your simulations are run using a parameter.cfg file that contains parameters and meta data for your simulations. Also suppose your simulation results are too large to store them on your laptop long term, so instead you outsource storage to your Google Drive and only keep the .cfg file on your laptop. In this situation we can use pandas to easily make sense of the meta data and find the simulation that we are looking for. Our example data files for this exercise are stored in \"./data/\".\n",
    "\n",
    "We need the following libraries:"
   ]
  },
  {
   "cell_type": "code",
   "execution_count": 2,
   "metadata": {},
   "outputs": [],
   "source": [
    "import pandas\n",
    "import glob\n",
    "from configparser import ConfigParser"
   ]
  },
  {
   "cell_type": "markdown",
   "metadata": {},
   "source": [
    "Glob returns a list of all paths fitting a pattern:"
   ]
  },
  {
   "cell_type": "code",
   "execution_count": 33,
   "metadata": {},
   "outputs": [
    {
     "data": {
      "text/plain": [
       "['./data/simulation1.cfg',\n",
       " './data/simulation3.cfg',\n",
       " './data/simulation0.cfg',\n",
       " './data/simulation2.cfg']"
      ]
     },
     "execution_count": 33,
     "metadata": {},
     "output_type": "execute_result"
    }
   ],
   "source": [
    "files = glob.glob(\"./data/*.cfg\")\n",
    "files"
   ]
  },
  {
   "cell_type": "markdown",
   "metadata": {},
   "source": [
    "We initialise a ConfigParser to read the .cfg files and tell it which section(s) we are interested in: "
   ]
  },
  {
   "cell_type": "code",
   "execution_count": 39,
   "metadata": {},
   "outputs": [],
   "source": [
    "config = ConfigParser()\n",
    "config.optionxform = str\n",
    "sections = ['Simulation', 'Parameter']"
   ]
  },
  {
   "cell_type": "markdown",
   "metadata": {},
   "source": [
    "Create a dictionary of dictionaries holding all simulation parameters from the files. The truncated file name serves as the key for each parameter dictionary _d_ in _data_."
   ]
  },
  {
   "cell_type": "code",
   "execution_count": 48,
   "metadata": {},
   "outputs": [],
   "source": [
    "data = {}\n",
    "for file in files:\n",
    "    config.read(file)\n",
    "    d = {}\n",
    "    for section in sections:\n",
    "        options = config.items(section)\n",
    "        for key, value in options:\n",
    "            d[key] = value\n",
    "    fname = file.split(\"/\")[-1]\n",
    "    data[fname] = d"
   ]
  },
  {
   "cell_type": "code",
   "execution_count": 49,
   "metadata": {},
   "outputs": [
    {
     "data": {
      "text/plain": [
       "{'simulation1.cfg': {'id': 'simulation1',\n",
       "  'solver': 'direct',\n",
       "  'debug': '0',\n",
       "  'N': '2',\n",
       "  'TOL': '1e-7',\n",
       "  'rho': '1000 * kg/m**3',\n",
       "  'K': '1e-7 * m**2/Pa/s',\n",
       "  'phi': '0.2',\n",
       "  'beta': '1',\n",
       "  'qi': '0',\n",
       "  'qo': '0',\n",
       "  'tf': '0.5 * s',\n",
       "  'dt': '0.1 * s',\n",
       "  'theta': '0.5'},\n",
       " 'simulation3.cfg': {'id': 'simulation3',\n",
       "  'solver': 'direct',\n",
       "  'debug': '0',\n",
       "  'N': '2',\n",
       "  'TOL': '1e-7',\n",
       "  'rho': '1000 * kg/m**3',\n",
       "  'K': '1e-7 * m**2/Pa/s',\n",
       "  'phi': '0.1',\n",
       "  'beta': '1',\n",
       "  'qi': '0.1',\n",
       "  'qo': '0',\n",
       "  'tf': '0.5 * s',\n",
       "  'dt': '0.1 * s',\n",
       "  'theta': '0.5'},\n",
       " 'simulation0.cfg': {'id': 'simulation0',\n",
       "  'solver': 'direct',\n",
       "  'debug': '0',\n",
       "  'N': '2',\n",
       "  'TOL': '1e-7',\n",
       "  'rho': '1000 * kg/m**3',\n",
       "  'K': '1e-7 * m**2/Pa/s',\n",
       "  'phi': '0.1',\n",
       "  'beta': '1',\n",
       "  'qi': '0',\n",
       "  'qo': '0',\n",
       "  'tf': '0.5 * s',\n",
       "  'dt': '0.1 * s',\n",
       "  'theta': '0.5'},\n",
       " 'simulation2.cfg': {'id': 'simulation2',\n",
       "  'solver': 'direct',\n",
       "  'debug': '0',\n",
       "  'N': '2',\n",
       "  'TOL': '1e-7',\n",
       "  'rho': '1000 * kg/m**3',\n",
       "  'K': '1e-7 * m**2/Pa/s',\n",
       "  'phi': '0.1',\n",
       "  'beta': '0.1',\n",
       "  'qi': '0',\n",
       "  'qo': '0',\n",
       "  'tf': '0.5 * s',\n",
       "  'dt': '0.1 * s',\n",
       "  'theta': '0.5'}}"
      ]
     },
     "execution_count": 49,
     "metadata": {},
     "output_type": "execute_result"
    }
   ],
   "source": [
    "data"
   ]
  },
  {
   "cell_type": "markdown",
   "metadata": {},
   "source": [
    "Create a pandas table from the dictionary _data_"
   ]
  },
  {
   "cell_type": "code",
   "execution_count": 24,
   "metadata": {},
   "outputs": [],
   "source": [
    "tab = pandas.DataFrame.from_dict(data, orient=\"index\")"
   ]
  },
  {
   "cell_type": "markdown",
   "metadata": {},
   "source": [
    "Now we can look at the values of a parameter for each file in our table:"
   ]
  },
  {
   "cell_type": "code",
   "execution_count": 26,
   "metadata": {},
   "outputs": [
    {
     "data": {
      "text/plain": [
       "simulation0.cfg    1e-7\n",
       "simulation1.cfg    1e-7\n",
       "simulation2.cfg    1e-7\n",
       "simulation3.cfg    1e-7\n",
       "Name: TOL, dtype: object"
      ]
     },
     "execution_count": 26,
     "metadata": {},
     "output_type": "execute_result"
    }
   ],
   "source": [
    "tab.TOL"
   ]
  },
  {
   "cell_type": "code",
   "execution_count": 27,
   "metadata": {},
   "outputs": [
    {
     "data": {
      "text/plain": [
       "simulation0.cfg      1\n",
       "simulation1.cfg      1\n",
       "simulation2.cfg    0.1\n",
       "simulation3.cfg      1\n",
       "Name: beta, dtype: object"
      ]
     },
     "execution_count": 27,
     "metadata": {},
     "output_type": "execute_result"
    }
   ],
   "source": [
    "tab.beta"
   ]
  },
  {
   "cell_type": "code",
   "execution_count": 29,
   "metadata": {},
   "outputs": [
    {
     "data": {
      "text/plain": [
       "simulation0.cfg      0\n",
       "simulation1.cfg      0\n",
       "simulation2.cfg      0\n",
       "simulation3.cfg    0.1\n",
       "Name: qi, dtype: object"
      ]
     },
     "execution_count": 29,
     "metadata": {},
     "output_type": "execute_result"
    }
   ],
   "source": [
    "tab.qi"
   ]
  },
  {
   "cell_type": "markdown",
   "metadata": {},
   "source": [
    "We can also filter by parameter values"
   ]
  },
  {
   "cell_type": "code",
   "execution_count": 31,
   "metadata": {},
   "outputs": [
    {
     "data": {
      "text/html": [
       "<div>\n",
       "<style scoped>\n",
       "    .dataframe tbody tr th:only-of-type {\n",
       "        vertical-align: middle;\n",
       "    }\n",
       "\n",
       "    .dataframe tbody tr th {\n",
       "        vertical-align: top;\n",
       "    }\n",
       "\n",
       "    .dataframe thead th {\n",
       "        text-align: right;\n",
       "    }\n",
       "</style>\n",
       "<table border=\"1\" class=\"dataframe\">\n",
       "  <thead>\n",
       "    <tr style=\"text-align: right;\">\n",
       "      <th></th>\n",
       "      <th>N</th>\n",
       "      <th>TOL</th>\n",
       "      <th>rho</th>\n",
       "      <th>K</th>\n",
       "      <th>phi</th>\n",
       "      <th>beta</th>\n",
       "      <th>qi</th>\n",
       "      <th>qo</th>\n",
       "      <th>tf</th>\n",
       "      <th>dt</th>\n",
       "      <th>theta</th>\n",
       "    </tr>\n",
       "  </thead>\n",
       "  <tbody>\n",
       "    <tr>\n",
       "      <th>simulation2.cfg</th>\n",
       "      <td>2</td>\n",
       "      <td>1e-7</td>\n",
       "      <td>1000 * kg/m**3</td>\n",
       "      <td>1e-7 * m**2/Pa/s</td>\n",
       "      <td>0.1</td>\n",
       "      <td>0.1</td>\n",
       "      <td>0</td>\n",
       "      <td>0</td>\n",
       "      <td>0.5 * s</td>\n",
       "      <td>0.1 * s</td>\n",
       "      <td>0.5</td>\n",
       "    </tr>\n",
       "  </tbody>\n",
       "</table>\n",
       "</div>"
      ],
      "text/plain": [
       "                 N   TOL             rho                 K  phi beta qi qo  \\\n",
       "simulation2.cfg  2  1e-7  1000 * kg/m**3  1e-7 * m**2/Pa/s  0.1  0.1  0  0   \n",
       "\n",
       "                      tf       dt theta  \n",
       "simulation2.cfg  0.5 * s  0.1 * s   0.5  "
      ]
     },
     "execution_count": 31,
     "metadata": {},
     "output_type": "execute_result"
    }
   ],
   "source": [
    "tab[tab.beta == '0.1']"
   ]
  },
  {
   "cell_type": "code",
   "execution_count": 32,
   "metadata": {},
   "outputs": [
    {
     "data": {
      "text/html": [
       "<div>\n",
       "<style scoped>\n",
       "    .dataframe tbody tr th:only-of-type {\n",
       "        vertical-align: middle;\n",
       "    }\n",
       "\n",
       "    .dataframe tbody tr th {\n",
       "        vertical-align: top;\n",
       "    }\n",
       "\n",
       "    .dataframe thead th {\n",
       "        text-align: right;\n",
       "    }\n",
       "</style>\n",
       "<table border=\"1\" class=\"dataframe\">\n",
       "  <thead>\n",
       "    <tr style=\"text-align: right;\">\n",
       "      <th></th>\n",
       "      <th>N</th>\n",
       "      <th>TOL</th>\n",
       "      <th>rho</th>\n",
       "      <th>K</th>\n",
       "      <th>phi</th>\n",
       "      <th>beta</th>\n",
       "      <th>qi</th>\n",
       "      <th>qo</th>\n",
       "      <th>tf</th>\n",
       "      <th>dt</th>\n",
       "      <th>theta</th>\n",
       "    </tr>\n",
       "  </thead>\n",
       "  <tbody>\n",
       "    <tr>\n",
       "      <th>simulation0.cfg</th>\n",
       "      <td>2</td>\n",
       "      <td>1e-7</td>\n",
       "      <td>1000 * kg/m**3</td>\n",
       "      <td>1e-7 * m**2/Pa/s</td>\n",
       "      <td>0.1</td>\n",
       "      <td>1</td>\n",
       "      <td>0</td>\n",
       "      <td>0</td>\n",
       "      <td>0.5 * s</td>\n",
       "      <td>0.1 * s</td>\n",
       "      <td>0.5</td>\n",
       "    </tr>\n",
       "    <tr>\n",
       "      <th>simulation1.cfg</th>\n",
       "      <td>2</td>\n",
       "      <td>1e-7</td>\n",
       "      <td>1000 * kg/m**3</td>\n",
       "      <td>1e-7 * m**2/Pa/s</td>\n",
       "      <td>0.2</td>\n",
       "      <td>1</td>\n",
       "      <td>0</td>\n",
       "      <td>0</td>\n",
       "      <td>0.5 * s</td>\n",
       "      <td>0.1 * s</td>\n",
       "      <td>0.5</td>\n",
       "    </tr>\n",
       "    <tr>\n",
       "      <th>simulation2.cfg</th>\n",
       "      <td>2</td>\n",
       "      <td>1e-7</td>\n",
       "      <td>1000 * kg/m**3</td>\n",
       "      <td>1e-7 * m**2/Pa/s</td>\n",
       "      <td>0.1</td>\n",
       "      <td>0.1</td>\n",
       "      <td>0</td>\n",
       "      <td>0</td>\n",
       "      <td>0.5 * s</td>\n",
       "      <td>0.1 * s</td>\n",
       "      <td>0.5</td>\n",
       "    </tr>\n",
       "  </tbody>\n",
       "</table>\n",
       "</div>"
      ],
      "text/plain": [
       "                 N   TOL             rho                 K  phi beta qi qo  \\\n",
       "simulation0.cfg  2  1e-7  1000 * kg/m**3  1e-7 * m**2/Pa/s  0.1    1  0  0   \n",
       "simulation1.cfg  2  1e-7  1000 * kg/m**3  1e-7 * m**2/Pa/s  0.2    1  0  0   \n",
       "simulation2.cfg  2  1e-7  1000 * kg/m**3  1e-7 * m**2/Pa/s  0.1  0.1  0  0   \n",
       "\n",
       "                      tf       dt theta  \n",
       "simulation0.cfg  0.5 * s  0.1 * s   0.5  \n",
       "simulation1.cfg  0.5 * s  0.1 * s   0.5  \n",
       "simulation2.cfg  0.5 * s  0.1 * s   0.5  "
      ]
     },
     "execution_count": 32,
     "metadata": {},
     "output_type": "execute_result"
    }
   ],
   "source": [
    "tab[tab.qi == '0']"
   ]
  }
 ],
 "metadata": {
  "kernelspec": {
   "display_name": "Python 3",
   "language": "python",
   "name": "python3"
  },
  "language_info": {
   "codemirror_mode": {
    "name": "ipython",
    "version": 3
   },
   "file_extension": ".py",
   "mimetype": "text/x-python",
   "name": "python",
   "nbconvert_exporter": "python",
   "pygments_lexer": "ipython3",
   "version": "3.7.1"
  }
 },
 "nbformat": 4,
 "nbformat_minor": 2
}
