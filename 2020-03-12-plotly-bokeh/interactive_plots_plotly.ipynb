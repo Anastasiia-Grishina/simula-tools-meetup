{
 "cells": [
  {
   "cell_type": "markdown",
   "metadata": {},
   "source": [
    "# L03.1 Interactive plots with Plotly\n",
    "\n",
    "In order for this lecture to be standalone, we will use the dataset by the [Gapminder foundation](https://www.gapminder.org/). This dataset is very rich and allows us to demonstrate a rich demonstration of Plotly's capabilities."
   ]
  },
  {
   "cell_type": "code",
   "execution_count": 1,
   "metadata": {},
   "outputs": [],
   "source": [
    "from gapminder import gapminder\n",
    "df = gapminder"
   ]
  },
  {
   "cell_type": "code",
   "execution_count": 2,
   "metadata": {},
   "outputs": [
    {
     "name": "stdout",
     "output_type": "stream",
     "text": [
      "<class 'pandas.core.frame.DataFrame'>\n",
      "RangeIndex: 1704 entries, 0 to 1703\n",
      "Data columns (total 6 columns):\n",
      "country      1704 non-null object\n",
      "continent    1704 non-null object\n",
      "year         1704 non-null int64\n",
      "lifeExp      1704 non-null float64\n",
      "pop          1704 non-null int64\n",
      "gdpPercap    1704 non-null float64\n",
      "dtypes: float64(2), int64(2), object(2)\n",
      "memory usage: 80.0+ KB\n"
     ]
    }
   ],
   "source": [
    "df.info()"
   ]
  },
  {
   "cell_type": "code",
   "execution_count": 3,
   "metadata": {},
   "outputs": [
    {
     "data": {
      "text/plain": [
       "array(['Afghanistan', 'Albania', 'Algeria', 'Angola', 'Argentina',\n",
       "       'Australia', 'Austria', 'Bahrain', 'Bangladesh', 'Belgium',\n",
       "       'Benin', 'Bolivia', 'Bosnia and Herzegovina', 'Botswana', 'Brazil',\n",
       "       'Bulgaria', 'Burkina Faso', 'Burundi', 'Cambodia', 'Cameroon',\n",
       "       'Canada', 'Central African Republic', 'Chad', 'Chile', 'China',\n",
       "       'Colombia', 'Comoros', 'Congo, Dem. Rep.', 'Congo, Rep.',\n",
       "       'Costa Rica', \"Cote d'Ivoire\", 'Croatia', 'Cuba', 'Czech Republic',\n",
       "       'Denmark', 'Djibouti', 'Dominican Republic', 'Ecuador', 'Egypt',\n",
       "       'El Salvador', 'Equatorial Guinea', 'Eritrea', 'Ethiopia',\n",
       "       'Finland', 'France', 'Gabon', 'Gambia', 'Germany', 'Ghana',\n",
       "       'Greece', 'Guatemala', 'Guinea', 'Guinea-Bissau', 'Haiti',\n",
       "       'Honduras', 'Hong Kong, China', 'Hungary', 'Iceland', 'India',\n",
       "       'Indonesia', 'Iran', 'Iraq', 'Ireland', 'Israel', 'Italy',\n",
       "       'Jamaica', 'Japan', 'Jordan', 'Kenya', 'Korea, Dem. Rep.',\n",
       "       'Korea, Rep.', 'Kuwait', 'Lebanon', 'Lesotho', 'Liberia', 'Libya',\n",
       "       'Madagascar', 'Malawi', 'Malaysia', 'Mali', 'Mauritania',\n",
       "       'Mauritius', 'Mexico', 'Mongolia', 'Montenegro', 'Morocco',\n",
       "       'Mozambique', 'Myanmar', 'Namibia', 'Nepal', 'Netherlands',\n",
       "       'New Zealand', 'Nicaragua', 'Niger', 'Nigeria', 'Norway', 'Oman',\n",
       "       'Pakistan', 'Panama', 'Paraguay', 'Peru', 'Philippines', 'Poland',\n",
       "       'Portugal', 'Puerto Rico', 'Reunion', 'Romania', 'Rwanda',\n",
       "       'Sao Tome and Principe', 'Saudi Arabia', 'Senegal', 'Serbia',\n",
       "       'Sierra Leone', 'Singapore', 'Slovak Republic', 'Slovenia',\n",
       "       'Somalia', 'South Africa', 'Spain', 'Sri Lanka', 'Sudan',\n",
       "       'Swaziland', 'Sweden', 'Switzerland', 'Syria', 'Taiwan',\n",
       "       'Tanzania', 'Thailand', 'Togo', 'Trinidad and Tobago', 'Tunisia',\n",
       "       'Turkey', 'Uganda', 'United Kingdom', 'United States', 'Uruguay',\n",
       "       'Venezuela', 'Vietnam', 'West Bank and Gaza', 'Yemen, Rep.',\n",
       "       'Zambia', 'Zimbabwe'], dtype=object)"
      ]
     },
     "execution_count": 3,
     "metadata": {},
     "output_type": "execute_result"
    }
   ],
   "source": [
    "df['country'].unique() # Display unique entries in row 'country'"
   ]
  },
  {
   "cell_type": "code",
   "execution_count": 4,
   "metadata": {},
   "outputs": [
    {
     "data": {
      "text/html": [
       "<div>\n",
       "<style scoped>\n",
       "    .dataframe tbody tr th:only-of-type {\n",
       "        vertical-align: middle;\n",
       "    }\n",
       "\n",
       "    .dataframe tbody tr th {\n",
       "        vertical-align: top;\n",
       "    }\n",
       "\n",
       "    .dataframe thead th {\n",
       "        text-align: right;\n",
       "    }\n",
       "</style>\n",
       "<table border=\"1\" class=\"dataframe\">\n",
       "  <thead>\n",
       "    <tr style=\"text-align: right;\">\n",
       "      <th></th>\n",
       "      <th>country</th>\n",
       "      <th>continent</th>\n",
       "      <th>year</th>\n",
       "      <th>lifeExp</th>\n",
       "      <th>pop</th>\n",
       "      <th>gdpPercap</th>\n",
       "    </tr>\n",
       "  </thead>\n",
       "  <tbody>\n",
       "    <tr>\n",
       "      <td>0</td>\n",
       "      <td>Afghanistan</td>\n",
       "      <td>Asia</td>\n",
       "      <td>1952</td>\n",
       "      <td>28.801</td>\n",
       "      <td>8425333</td>\n",
       "      <td>779.445314</td>\n",
       "    </tr>\n",
       "    <tr>\n",
       "      <td>1</td>\n",
       "      <td>Afghanistan</td>\n",
       "      <td>Asia</td>\n",
       "      <td>1957</td>\n",
       "      <td>30.332</td>\n",
       "      <td>9240934</td>\n",
       "      <td>820.853030</td>\n",
       "    </tr>\n",
       "    <tr>\n",
       "      <td>2</td>\n",
       "      <td>Afghanistan</td>\n",
       "      <td>Asia</td>\n",
       "      <td>1962</td>\n",
       "      <td>31.997</td>\n",
       "      <td>10267083</td>\n",
       "      <td>853.100710</td>\n",
       "    </tr>\n",
       "    <tr>\n",
       "      <td>3</td>\n",
       "      <td>Afghanistan</td>\n",
       "      <td>Asia</td>\n",
       "      <td>1967</td>\n",
       "      <td>34.020</td>\n",
       "      <td>11537966</td>\n",
       "      <td>836.197138</td>\n",
       "    </tr>\n",
       "    <tr>\n",
       "      <td>4</td>\n",
       "      <td>Afghanistan</td>\n",
       "      <td>Asia</td>\n",
       "      <td>1972</td>\n",
       "      <td>36.088</td>\n",
       "      <td>13079460</td>\n",
       "      <td>739.981106</td>\n",
       "    </tr>\n",
       "    <tr>\n",
       "      <td>5</td>\n",
       "      <td>Afghanistan</td>\n",
       "      <td>Asia</td>\n",
       "      <td>1977</td>\n",
       "      <td>38.438</td>\n",
       "      <td>14880372</td>\n",
       "      <td>786.113360</td>\n",
       "    </tr>\n",
       "    <tr>\n",
       "      <td>6</td>\n",
       "      <td>Afghanistan</td>\n",
       "      <td>Asia</td>\n",
       "      <td>1982</td>\n",
       "      <td>39.854</td>\n",
       "      <td>12881816</td>\n",
       "      <td>978.011439</td>\n",
       "    </tr>\n",
       "    <tr>\n",
       "      <td>7</td>\n",
       "      <td>Afghanistan</td>\n",
       "      <td>Asia</td>\n",
       "      <td>1987</td>\n",
       "      <td>40.822</td>\n",
       "      <td>13867957</td>\n",
       "      <td>852.395945</td>\n",
       "    </tr>\n",
       "    <tr>\n",
       "      <td>8</td>\n",
       "      <td>Afghanistan</td>\n",
       "      <td>Asia</td>\n",
       "      <td>1992</td>\n",
       "      <td>41.674</td>\n",
       "      <td>16317921</td>\n",
       "      <td>649.341395</td>\n",
       "    </tr>\n",
       "    <tr>\n",
       "      <td>9</td>\n",
       "      <td>Afghanistan</td>\n",
       "      <td>Asia</td>\n",
       "      <td>1997</td>\n",
       "      <td>41.763</td>\n",
       "      <td>22227415</td>\n",
       "      <td>635.341351</td>\n",
       "    </tr>\n",
       "  </tbody>\n",
       "</table>\n",
       "</div>"
      ],
      "text/plain": [
       "       country continent  year  lifeExp       pop   gdpPercap\n",
       "0  Afghanistan      Asia  1952   28.801   8425333  779.445314\n",
       "1  Afghanistan      Asia  1957   30.332   9240934  820.853030\n",
       "2  Afghanistan      Asia  1962   31.997  10267083  853.100710\n",
       "3  Afghanistan      Asia  1967   34.020  11537966  836.197138\n",
       "4  Afghanistan      Asia  1972   36.088  13079460  739.981106\n",
       "5  Afghanistan      Asia  1977   38.438  14880372  786.113360\n",
       "6  Afghanistan      Asia  1982   39.854  12881816  978.011439\n",
       "7  Afghanistan      Asia  1987   40.822  13867957  852.395945\n",
       "8  Afghanistan      Asia  1992   41.674  16317921  649.341395\n",
       "9  Afghanistan      Asia  1997   41.763  22227415  635.341351"
      ]
     },
     "execution_count": 4,
     "metadata": {},
     "output_type": "execute_result"
    }
   ],
   "source": [
    "df.head(10) # display first 10 entries"
   ]
  },
  {
   "cell_type": "markdown",
   "metadata": {},
   "source": [
    "Looking at the head of the dataframe tells us that we have information on life expectancies, population, and GDP for each country every 5 years. This should allow us to produce some interesting plots!\n",
    "\n",
    "## Plotly\n",
    "\n",
    "### Line charts\n",
    "\n",
    "We already used line charts in the basic plotting example. Let's check out how life expectancy has been doing over the years in Europe."
   ]
  },
  {
   "cell_type": "code",
   "execution_count": 13,
   "metadata": {},
   "outputs": [
    {
     "data": {
      "text/html": [
       "<div>\n",
       "<style scoped>\n",
       "    .dataframe tbody tr th:only-of-type {\n",
       "        vertical-align: middle;\n",
       "    }\n",
       "\n",
       "    .dataframe tbody tr th {\n",
       "        vertical-align: top;\n",
       "    }\n",
       "\n",
       "    .dataframe thead th {\n",
       "        text-align: right;\n",
       "    }\n",
       "</style>\n",
       "<table border=\"1\" class=\"dataframe\">\n",
       "  <thead>\n",
       "    <tr style=\"text-align: right;\">\n",
       "      <th></th>\n",
       "      <th>country</th>\n",
       "      <th>continent</th>\n",
       "      <th>year</th>\n",
       "      <th>lifeExp</th>\n",
       "      <th>pop</th>\n",
       "      <th>gdpPercap</th>\n",
       "    </tr>\n",
       "  </thead>\n",
       "  <tbody>\n",
       "    <tr>\n",
       "      <td>12</td>\n",
       "      <td>Albania</td>\n",
       "      <td>Europe</td>\n",
       "      <td>1952</td>\n",
       "      <td>55.23</td>\n",
       "      <td>1282697</td>\n",
       "      <td>1601.056136</td>\n",
       "    </tr>\n",
       "    <tr>\n",
       "      <td>13</td>\n",
       "      <td>Albania</td>\n",
       "      <td>Europe</td>\n",
       "      <td>1957</td>\n",
       "      <td>59.28</td>\n",
       "      <td>1476505</td>\n",
       "      <td>1942.284244</td>\n",
       "    </tr>\n",
       "    <tr>\n",
       "      <td>14</td>\n",
       "      <td>Albania</td>\n",
       "      <td>Europe</td>\n",
       "      <td>1962</td>\n",
       "      <td>64.82</td>\n",
       "      <td>1728137</td>\n",
       "      <td>2312.888958</td>\n",
       "    </tr>\n",
       "    <tr>\n",
       "      <td>15</td>\n",
       "      <td>Albania</td>\n",
       "      <td>Europe</td>\n",
       "      <td>1967</td>\n",
       "      <td>66.22</td>\n",
       "      <td>1984060</td>\n",
       "      <td>2760.196931</td>\n",
       "    </tr>\n",
       "    <tr>\n",
       "      <td>16</td>\n",
       "      <td>Albania</td>\n",
       "      <td>Europe</td>\n",
       "      <td>1972</td>\n",
       "      <td>67.69</td>\n",
       "      <td>2263554</td>\n",
       "      <td>3313.422188</td>\n",
       "    </tr>\n",
       "  </tbody>\n",
       "</table>\n",
       "</div>"
      ],
      "text/plain": [
       "    country continent  year  lifeExp      pop    gdpPercap\n",
       "12  Albania    Europe  1952    55.23  1282697  1601.056136\n",
       "13  Albania    Europe  1957    59.28  1476505  1942.284244\n",
       "14  Albania    Europe  1962    64.82  1728137  2312.888958\n",
       "15  Albania    Europe  1967    66.22  1984060  2760.196931\n",
       "16  Albania    Europe  1972    67.69  2263554  3313.422188"
      ]
     },
     "execution_count": 13,
     "metadata": {},
     "output_type": "execute_result"
    }
   ],
   "source": [
    "is_europe = df['continent'] == \"Europe\"\n",
    "europe = df[is_europe]\n",
    "europe.head()"
   ]
  },
  {
   "cell_type": "code",
   "execution_count": 36,
   "metadata": {},
   "outputs": [
    {
     "data": {
      "application/vnd.plotly.v1+json": {
       "config": {
        "plotlyServerURL": "https://plot.ly"
       },
       "data": [
        {
         "mode": "lines",
         "name": "Albania",
         "type": "scatter",
         "visible": "legendonly",
         "x": [
          1952,
          1957,
          1962,
          1967,
          1972,
          1977,
          1982,
          1987,
          1992,
          1997,
          2002,
          2007
         ],
         "y": [
          55.23,
          59.28,
          64.82,
          66.22,
          67.69,
          68.93,
          70.42,
          72,
          71.581,
          72.95,
          75.65100000000002,
          76.423
         ]
        },
        {
         "mode": "lines",
         "name": "Austria",
         "type": "scatter",
         "visible": "legendonly",
         "x": [
          1952,
          1957,
          1962,
          1967,
          1972,
          1977,
          1982,
          1987,
          1992,
          1997,
          2002,
          2007
         ],
         "y": [
          66.8,
          67.48,
          69.54,
          70.14,
          70.63,
          72.17,
          73.18,
          74.94,
          76.04,
          77.51,
          78.98,
          79.829
         ]
        },
        {
         "mode": "lines",
         "name": "Belgium",
         "type": "scatter",
         "visible": "legendonly",
         "x": [
          1952,
          1957,
          1962,
          1967,
          1972,
          1977,
          1982,
          1987,
          1992,
          1997,
          2002,
          2007
         ],
         "y": [
          68,
          69.24,
          70.25,
          70.94,
          71.44,
          72.8,
          73.93,
          75.35,
          76.46,
          77.53,
          78.32,
          79.441
         ]
        },
        {
         "mode": "lines",
         "name": "Bosnia and Herzegovina",
         "type": "scatter",
         "visible": "legendonly",
         "x": [
          1952,
          1957,
          1962,
          1967,
          1972,
          1977,
          1982,
          1987,
          1992,
          1997,
          2002,
          2007
         ],
         "y": [
          53.82,
          58.45,
          61.93,
          64.79,
          67.45,
          69.86,
          70.69,
          71.14,
          72.178,
          73.244,
          74.09,
          74.852
         ]
        },
        {
         "mode": "lines",
         "name": "Bulgaria",
         "type": "scatter",
         "visible": "legendonly",
         "x": [
          1952,
          1957,
          1962,
          1967,
          1972,
          1977,
          1982,
          1987,
          1992,
          1997,
          2002,
          2007
         ],
         "y": [
          59.6,
          66.61,
          69.51,
          70.42,
          70.9,
          70.81,
          71.08,
          71.34,
          71.19,
          70.32,
          72.14,
          73.005
         ]
        },
        {
         "mode": "lines",
         "name": "Croatia",
         "type": "scatter",
         "visible": "legendonly",
         "x": [
          1952,
          1957,
          1962,
          1967,
          1972,
          1977,
          1982,
          1987,
          1992,
          1997,
          2002,
          2007
         ],
         "y": [
          61.21,
          64.77,
          67.13,
          68.5,
          69.61,
          70.64,
          70.46,
          71.52,
          72.527,
          73.68,
          74.876,
          75.748
         ]
        },
        {
         "mode": "lines",
         "name": "Czech Republic",
         "type": "scatter",
         "visible": "legendonly",
         "x": [
          1952,
          1957,
          1962,
          1967,
          1972,
          1977,
          1982,
          1987,
          1992,
          1997,
          2002,
          2007
         ],
         "y": [
          66.87,
          69.03,
          69.9,
          70.38,
          70.29,
          70.71,
          70.96,
          71.58,
          72.4,
          74.01,
          75.51,
          76.486
         ]
        },
        {
         "mode": "lines",
         "name": "Denmark",
         "type": "scatter",
         "visible": true,
         "x": [
          1952,
          1957,
          1962,
          1967,
          1972,
          1977,
          1982,
          1987,
          1992,
          1997,
          2002,
          2007
         ],
         "y": [
          70.78,
          71.81,
          72.35,
          72.96,
          73.47,
          74.69,
          74.63,
          74.8,
          75.33,
          76.11,
          77.18,
          78.332
         ]
        },
        {
         "mode": "lines",
         "name": "Finland",
         "type": "scatter",
         "visible": "legendonly",
         "x": [
          1952,
          1957,
          1962,
          1967,
          1972,
          1977,
          1982,
          1987,
          1992,
          1997,
          2002,
          2007
         ],
         "y": [
          66.55,
          67.49,
          68.75,
          69.83,
          70.87,
          72.52,
          74.55,
          74.83,
          75.7,
          77.13,
          78.37,
          79.313
         ]
        },
        {
         "mode": "lines",
         "name": "France",
         "type": "scatter",
         "visible": "legendonly",
         "x": [
          1952,
          1957,
          1962,
          1967,
          1972,
          1977,
          1982,
          1987,
          1992,
          1997,
          2002,
          2007
         ],
         "y": [
          67.41,
          68.93,
          70.51,
          71.55,
          72.38,
          73.83,
          74.89,
          76.34,
          77.46,
          78.64,
          79.59,
          80.657
         ]
        },
        {
         "mode": "lines",
         "name": "Germany",
         "type": "scatter",
         "visible": "legendonly",
         "x": [
          1952,
          1957,
          1962,
          1967,
          1972,
          1977,
          1982,
          1987,
          1992,
          1997,
          2002,
          2007
         ],
         "y": [
          67.5,
          69.1,
          70.3,
          70.8,
          71,
          72.5,
          73.8,
          74.847,
          76.07,
          77.34,
          78.67,
          79.406
         ]
        },
        {
         "mode": "lines",
         "name": "Greece",
         "type": "scatter",
         "visible": "legendonly",
         "x": [
          1952,
          1957,
          1962,
          1967,
          1972,
          1977,
          1982,
          1987,
          1992,
          1997,
          2002,
          2007
         ],
         "y": [
          65.86,
          67.86,
          69.51,
          71,
          72.34,
          73.68,
          75.24,
          76.67,
          77.03,
          77.869,
          78.256,
          79.483
         ]
        },
        {
         "mode": "lines",
         "name": "Hungary",
         "type": "scatter",
         "visible": "legendonly",
         "x": [
          1952,
          1957,
          1962,
          1967,
          1972,
          1977,
          1982,
          1987,
          1992,
          1997,
          2002,
          2007
         ],
         "y": [
          64.03,
          66.41,
          67.96,
          69.5,
          69.76,
          69.95,
          69.39,
          69.58,
          69.17,
          71.04,
          72.59,
          73.33800000000002
         ]
        },
        {
         "mode": "lines",
         "name": "Iceland",
         "type": "scatter",
         "visible": "legendonly",
         "x": [
          1952,
          1957,
          1962,
          1967,
          1972,
          1977,
          1982,
          1987,
          1992,
          1997,
          2002,
          2007
         ],
         "y": [
          72.49,
          73.47,
          73.68,
          73.73,
          74.46,
          76.11,
          76.99,
          77.23,
          78.77,
          78.95,
          80.5,
          81.757
         ]
        },
        {
         "mode": "lines",
         "name": "Ireland",
         "type": "scatter",
         "visible": "legendonly",
         "x": [
          1952,
          1957,
          1962,
          1967,
          1972,
          1977,
          1982,
          1987,
          1992,
          1997,
          2002,
          2007
         ],
         "y": [
          66.91,
          68.9,
          70.29,
          71.08,
          71.28,
          72.03,
          73.1,
          74.36,
          75.467,
          76.122,
          77.783,
          78.885
         ]
        },
        {
         "mode": "lines",
         "name": "Italy",
         "type": "scatter",
         "visible": "legendonly",
         "x": [
          1952,
          1957,
          1962,
          1967,
          1972,
          1977,
          1982,
          1987,
          1992,
          1997,
          2002,
          2007
         ],
         "y": [
          65.94,
          67.81,
          69.24,
          71.06,
          72.19,
          73.48,
          74.98,
          76.42,
          77.44,
          78.82,
          80.24,
          80.546
         ]
        },
        {
         "mode": "lines",
         "name": "Montenegro",
         "type": "scatter",
         "visible": "legendonly",
         "x": [
          1952,
          1957,
          1962,
          1967,
          1972,
          1977,
          1982,
          1987,
          1992,
          1997,
          2002,
          2007
         ],
         "y": [
          59.164,
          61.448,
          63.728,
          67.178,
          70.63600000000002,
          73.066,
          74.101,
          74.865,
          75.435,
          75.445,
          73.98100000000002,
          74.543
         ]
        },
        {
         "mode": "lines",
         "name": "Netherlands",
         "type": "scatter",
         "visible": "legendonly",
         "x": [
          1952,
          1957,
          1962,
          1967,
          1972,
          1977,
          1982,
          1987,
          1992,
          1997,
          2002,
          2007
         ],
         "y": [
          72.13,
          72.99,
          73.23,
          73.82,
          73.75,
          75.24,
          76.05,
          76.83,
          77.42,
          78.03,
          78.53,
          79.762
         ]
        },
        {
         "mode": "lines",
         "name": "Norway",
         "type": "scatter",
         "x": [
          1952,
          1957,
          1962,
          1967,
          1972,
          1977,
          1982,
          1987,
          1992,
          1997,
          2002,
          2007
         ],
         "y": [
          72.67,
          73.44,
          73.47,
          74.08,
          74.34,
          75.37,
          75.97,
          75.89,
          77.32,
          78.32,
          79.05,
          80.196
         ]
        },
        {
         "mode": "lines",
         "name": "Poland",
         "type": "scatter",
         "visible": "legendonly",
         "x": [
          1952,
          1957,
          1962,
          1967,
          1972,
          1977,
          1982,
          1987,
          1992,
          1997,
          2002,
          2007
         ],
         "y": [
          61.31,
          65.77,
          67.64,
          69.61,
          70.85,
          70.67,
          71.32,
          70.98,
          70.99,
          72.75,
          74.67,
          75.563
         ]
        },
        {
         "mode": "lines",
         "name": "Portugal",
         "type": "scatter",
         "visible": "legendonly",
         "x": [
          1952,
          1957,
          1962,
          1967,
          1972,
          1977,
          1982,
          1987,
          1992,
          1997,
          2002,
          2007
         ],
         "y": [
          59.82,
          61.51,
          64.39,
          66.6,
          69.26,
          70.41,
          72.77,
          74.06,
          74.86,
          75.97,
          77.29,
          78.098
         ]
        },
        {
         "mode": "lines",
         "name": "Romania",
         "type": "scatter",
         "visible": "legendonly",
         "x": [
          1952,
          1957,
          1962,
          1967,
          1972,
          1977,
          1982,
          1987,
          1992,
          1997,
          2002,
          2007
         ],
         "y": [
          61.05,
          64.1,
          66.8,
          66.8,
          69.21,
          69.46,
          69.66,
          69.53,
          69.36,
          69.72,
          71.322,
          72.476
         ]
        },
        {
         "mode": "lines",
         "name": "Serbia",
         "type": "scatter",
         "visible": "legendonly",
         "x": [
          1952,
          1957,
          1962,
          1967,
          1972,
          1977,
          1982,
          1987,
          1992,
          1997,
          2002,
          2007
         ],
         "y": [
          57.996,
          61.685,
          64.531,
          66.914,
          68.7,
          70.3,
          70.16199999999999,
          71.218,
          71.65899999999998,
          72.232,
          73.21300000000002,
          74.002
         ]
        },
        {
         "mode": "lines",
         "name": "Slovak Republic",
         "type": "scatter",
         "visible": "legendonly",
         "x": [
          1952,
          1957,
          1962,
          1967,
          1972,
          1977,
          1982,
          1987,
          1992,
          1997,
          2002,
          2007
         ],
         "y": [
          64.36,
          67.45,
          70.33,
          70.98,
          70.35,
          70.45,
          70.8,
          71.08,
          71.38,
          72.71,
          73.8,
          74.663
         ]
        },
        {
         "mode": "lines",
         "name": "Slovenia",
         "type": "scatter",
         "visible": "legendonly",
         "x": [
          1952,
          1957,
          1962,
          1967,
          1972,
          1977,
          1982,
          1987,
          1992,
          1997,
          2002,
          2007
         ],
         "y": [
          65.57,
          67.85,
          69.15,
          69.18,
          69.82,
          70.97,
          71.063,
          72.25,
          73.64,
          75.13,
          76.66,
          77.926
         ]
        },
        {
         "mode": "lines",
         "name": "Spain",
         "type": "scatter",
         "visible": "legendonly",
         "x": [
          1952,
          1957,
          1962,
          1967,
          1972,
          1977,
          1982,
          1987,
          1992,
          1997,
          2002,
          2007
         ],
         "y": [
          64.94,
          66.66,
          69.69,
          71.44,
          73.06,
          74.39,
          76.3,
          76.9,
          77.57,
          78.77,
          79.78,
          80.941
         ]
        },
        {
         "mode": "lines",
         "name": "Sweden",
         "type": "scatter",
         "x": [
          1952,
          1957,
          1962,
          1967,
          1972,
          1977,
          1982,
          1987,
          1992,
          1997,
          2002,
          2007
         ],
         "y": [
          71.86,
          72.49,
          73.37,
          74.16,
          74.72,
          75.44,
          76.42,
          77.19,
          78.16,
          79.39,
          80.04,
          80.884
         ]
        },
        {
         "mode": "lines",
         "name": "Switzerland",
         "type": "scatter",
         "visible": "legendonly",
         "x": [
          1952,
          1957,
          1962,
          1967,
          1972,
          1977,
          1982,
          1987,
          1992,
          1997,
          2002,
          2007
         ],
         "y": [
          69.62,
          70.56,
          71.32,
          72.77,
          73.78,
          75.39,
          76.21,
          77.41,
          78.03,
          79.37,
          80.62,
          81.70100000000002
         ]
        },
        {
         "mode": "lines",
         "name": "Turkey",
         "type": "scatter",
         "visible": "legendonly",
         "x": [
          1952,
          1957,
          1962,
          1967,
          1972,
          1977,
          1982,
          1987,
          1992,
          1997,
          2002,
          2007
         ],
         "y": [
          43.585,
          48.07899999999999,
          52.098,
          54.33600000000001,
          57.005,
          59.507,
          61.036,
          63.108,
          66.146,
          68.835,
          70.845,
          71.777
         ]
        },
        {
         "mode": "lines",
         "name": "United Kingdom",
         "type": "scatter",
         "visible": "legendonly",
         "x": [
          1952,
          1957,
          1962,
          1967,
          1972,
          1977,
          1982,
          1987,
          1992,
          1997,
          2002,
          2007
         ],
         "y": [
          69.18,
          70.42,
          70.76,
          71.36,
          72.01,
          72.76,
          74.04,
          75.007,
          76.42,
          77.218,
          78.471,
          79.425
         ]
        }
       ],
       "layout": {
        "autosize": false,
        "height": 450,
        "template": {
         "data": {
          "bar": [
           {
            "error_x": {
             "color": "#2a3f5f"
            },
            "error_y": {
             "color": "#2a3f5f"
            },
            "marker": {
             "line": {
              "color": "#E5ECF6",
              "width": 0.5
             }
            },
            "type": "bar"
           }
          ],
          "barpolar": [
           {
            "marker": {
             "line": {
              "color": "#E5ECF6",
              "width": 0.5
             }
            },
            "type": "barpolar"
           }
          ],
          "carpet": [
           {
            "aaxis": {
             "endlinecolor": "#2a3f5f",
             "gridcolor": "white",
             "linecolor": "white",
             "minorgridcolor": "white",
             "startlinecolor": "#2a3f5f"
            },
            "baxis": {
             "endlinecolor": "#2a3f5f",
             "gridcolor": "white",
             "linecolor": "white",
             "minorgridcolor": "white",
             "startlinecolor": "#2a3f5f"
            },
            "type": "carpet"
           }
          ],
          "choropleth": [
           {
            "colorbar": {
             "outlinewidth": 0,
             "ticks": ""
            },
            "type": "choropleth"
           }
          ],
          "contour": [
           {
            "colorbar": {
             "outlinewidth": 0,
             "ticks": ""
            },
            "colorscale": [
             [
              0,
              "#0d0887"
             ],
             [
              0.1111111111111111,
              "#46039f"
             ],
             [
              0.2222222222222222,
              "#7201a8"
             ],
             [
              0.3333333333333333,
              "#9c179e"
             ],
             [
              0.4444444444444444,
              "#bd3786"
             ],
             [
              0.5555555555555556,
              "#d8576b"
             ],
             [
              0.6666666666666666,
              "#ed7953"
             ],
             [
              0.7777777777777778,
              "#fb9f3a"
             ],
             [
              0.8888888888888888,
              "#fdca26"
             ],
             [
              1,
              "#f0f921"
             ]
            ],
            "type": "contour"
           }
          ],
          "contourcarpet": [
           {
            "colorbar": {
             "outlinewidth": 0,
             "ticks": ""
            },
            "type": "contourcarpet"
           }
          ],
          "heatmap": [
           {
            "colorbar": {
             "outlinewidth": 0,
             "ticks": ""
            },
            "colorscale": [
             [
              0,
              "#0d0887"
             ],
             [
              0.1111111111111111,
              "#46039f"
             ],
             [
              0.2222222222222222,
              "#7201a8"
             ],
             [
              0.3333333333333333,
              "#9c179e"
             ],
             [
              0.4444444444444444,
              "#bd3786"
             ],
             [
              0.5555555555555556,
              "#d8576b"
             ],
             [
              0.6666666666666666,
              "#ed7953"
             ],
             [
              0.7777777777777778,
              "#fb9f3a"
             ],
             [
              0.8888888888888888,
              "#fdca26"
             ],
             [
              1,
              "#f0f921"
             ]
            ],
            "type": "heatmap"
           }
          ],
          "heatmapgl": [
           {
            "colorbar": {
             "outlinewidth": 0,
             "ticks": ""
            },
            "colorscale": [
             [
              0,
              "#0d0887"
             ],
             [
              0.1111111111111111,
              "#46039f"
             ],
             [
              0.2222222222222222,
              "#7201a8"
             ],
             [
              0.3333333333333333,
              "#9c179e"
             ],
             [
              0.4444444444444444,
              "#bd3786"
             ],
             [
              0.5555555555555556,
              "#d8576b"
             ],
             [
              0.6666666666666666,
              "#ed7953"
             ],
             [
              0.7777777777777778,
              "#fb9f3a"
             ],
             [
              0.8888888888888888,
              "#fdca26"
             ],
             [
              1,
              "#f0f921"
             ]
            ],
            "type": "heatmapgl"
           }
          ],
          "histogram": [
           {
            "marker": {
             "colorbar": {
              "outlinewidth": 0,
              "ticks": ""
             }
            },
            "type": "histogram"
           }
          ],
          "histogram2d": [
           {
            "colorbar": {
             "outlinewidth": 0,
             "ticks": ""
            },
            "colorscale": [
             [
              0,
              "#0d0887"
             ],
             [
              0.1111111111111111,
              "#46039f"
             ],
             [
              0.2222222222222222,
              "#7201a8"
             ],
             [
              0.3333333333333333,
              "#9c179e"
             ],
             [
              0.4444444444444444,
              "#bd3786"
             ],
             [
              0.5555555555555556,
              "#d8576b"
             ],
             [
              0.6666666666666666,
              "#ed7953"
             ],
             [
              0.7777777777777778,
              "#fb9f3a"
             ],
             [
              0.8888888888888888,
              "#fdca26"
             ],
             [
              1,
              "#f0f921"
             ]
            ],
            "type": "histogram2d"
           }
          ],
          "histogram2dcontour": [
           {
            "colorbar": {
             "outlinewidth": 0,
             "ticks": ""
            },
            "colorscale": [
             [
              0,
              "#0d0887"
             ],
             [
              0.1111111111111111,
              "#46039f"
             ],
             [
              0.2222222222222222,
              "#7201a8"
             ],
             [
              0.3333333333333333,
              "#9c179e"
             ],
             [
              0.4444444444444444,
              "#bd3786"
             ],
             [
              0.5555555555555556,
              "#d8576b"
             ],
             [
              0.6666666666666666,
              "#ed7953"
             ],
             [
              0.7777777777777778,
              "#fb9f3a"
             ],
             [
              0.8888888888888888,
              "#fdca26"
             ],
             [
              1,
              "#f0f921"
             ]
            ],
            "type": "histogram2dcontour"
           }
          ],
          "mesh3d": [
           {
            "colorbar": {
             "outlinewidth": 0,
             "ticks": ""
            },
            "type": "mesh3d"
           }
          ],
          "parcoords": [
           {
            "line": {
             "colorbar": {
              "outlinewidth": 0,
              "ticks": ""
             }
            },
            "type": "parcoords"
           }
          ],
          "pie": [
           {
            "automargin": true,
            "type": "pie"
           }
          ],
          "scatter": [
           {
            "marker": {
             "colorbar": {
              "outlinewidth": 0,
              "ticks": ""
             }
            },
            "type": "scatter"
           }
          ],
          "scatter3d": [
           {
            "line": {
             "colorbar": {
              "outlinewidth": 0,
              "ticks": ""
             }
            },
            "marker": {
             "colorbar": {
              "outlinewidth": 0,
              "ticks": ""
             }
            },
            "type": "scatter3d"
           }
          ],
          "scattercarpet": [
           {
            "marker": {
             "colorbar": {
              "outlinewidth": 0,
              "ticks": ""
             }
            },
            "type": "scattercarpet"
           }
          ],
          "scattergeo": [
           {
            "marker": {
             "colorbar": {
              "outlinewidth": 0,
              "ticks": ""
             }
            },
            "type": "scattergeo"
           }
          ],
          "scattergl": [
           {
            "marker": {
             "colorbar": {
              "outlinewidth": 0,
              "ticks": ""
             }
            },
            "type": "scattergl"
           }
          ],
          "scattermapbox": [
           {
            "marker": {
             "colorbar": {
              "outlinewidth": 0,
              "ticks": ""
             }
            },
            "type": "scattermapbox"
           }
          ],
          "scatterpolar": [
           {
            "marker": {
             "colorbar": {
              "outlinewidth": 0,
              "ticks": ""
             }
            },
            "type": "scatterpolar"
           }
          ],
          "scatterpolargl": [
           {
            "marker": {
             "colorbar": {
              "outlinewidth": 0,
              "ticks": ""
             }
            },
            "type": "scatterpolargl"
           }
          ],
          "scatterternary": [
           {
            "marker": {
             "colorbar": {
              "outlinewidth": 0,
              "ticks": ""
             }
            },
            "type": "scatterternary"
           }
          ],
          "surface": [
           {
            "colorbar": {
             "outlinewidth": 0,
             "ticks": ""
            },
            "colorscale": [
             [
              0,
              "#0d0887"
             ],
             [
              0.1111111111111111,
              "#46039f"
             ],
             [
              0.2222222222222222,
              "#7201a8"
             ],
             [
              0.3333333333333333,
              "#9c179e"
             ],
             [
              0.4444444444444444,
              "#bd3786"
             ],
             [
              0.5555555555555556,
              "#d8576b"
             ],
             [
              0.6666666666666666,
              "#ed7953"
             ],
             [
              0.7777777777777778,
              "#fb9f3a"
             ],
             [
              0.8888888888888888,
              "#fdca26"
             ],
             [
              1,
              "#f0f921"
             ]
            ],
            "type": "surface"
           }
          ],
          "table": [
           {
            "cells": {
             "fill": {
              "color": "#EBF0F8"
             },
             "line": {
              "color": "white"
             }
            },
            "header": {
             "fill": {
              "color": "#C8D4E3"
             },
             "line": {
              "color": "white"
             }
            },
            "type": "table"
           }
          ]
         },
         "layout": {
          "annotationdefaults": {
           "arrowcolor": "#2a3f5f",
           "arrowhead": 0,
           "arrowwidth": 1
          },
          "coloraxis": {
           "colorbar": {
            "outlinewidth": 0,
            "ticks": ""
           }
          },
          "colorscale": {
           "diverging": [
            [
             0,
             "#8e0152"
            ],
            [
             0.1,
             "#c51b7d"
            ],
            [
             0.2,
             "#de77ae"
            ],
            [
             0.3,
             "#f1b6da"
            ],
            [
             0.4,
             "#fde0ef"
            ],
            [
             0.5,
             "#f7f7f7"
            ],
            [
             0.6,
             "#e6f5d0"
            ],
            [
             0.7,
             "#b8e186"
            ],
            [
             0.8,
             "#7fbc41"
            ],
            [
             0.9,
             "#4d9221"
            ],
            [
             1,
             "#276419"
            ]
           ],
           "sequential": [
            [
             0,
             "#0d0887"
            ],
            [
             0.1111111111111111,
             "#46039f"
            ],
            [
             0.2222222222222222,
             "#7201a8"
            ],
            [
             0.3333333333333333,
             "#9c179e"
            ],
            [
             0.4444444444444444,
             "#bd3786"
            ],
            [
             0.5555555555555556,
             "#d8576b"
            ],
            [
             0.6666666666666666,
             "#ed7953"
            ],
            [
             0.7777777777777778,
             "#fb9f3a"
            ],
            [
             0.8888888888888888,
             "#fdca26"
            ],
            [
             1,
             "#f0f921"
            ]
           ],
           "sequentialminus": [
            [
             0,
             "#0d0887"
            ],
            [
             0.1111111111111111,
             "#46039f"
            ],
            [
             0.2222222222222222,
             "#7201a8"
            ],
            [
             0.3333333333333333,
             "#9c179e"
            ],
            [
             0.4444444444444444,
             "#bd3786"
            ],
            [
             0.5555555555555556,
             "#d8576b"
            ],
            [
             0.6666666666666666,
             "#ed7953"
            ],
            [
             0.7777777777777778,
             "#fb9f3a"
            ],
            [
             0.8888888888888888,
             "#fdca26"
            ],
            [
             1,
             "#f0f921"
            ]
           ]
          },
          "colorway": [
           "#636efa",
           "#EF553B",
           "#00cc96",
           "#ab63fa",
           "#FFA15A",
           "#19d3f3",
           "#FF6692",
           "#B6E880",
           "#FF97FF",
           "#FECB52"
          ],
          "font": {
           "color": "#2a3f5f"
          },
          "geo": {
           "bgcolor": "white",
           "lakecolor": "white",
           "landcolor": "#E5ECF6",
           "showlakes": true,
           "showland": true,
           "subunitcolor": "white"
          },
          "hoverlabel": {
           "align": "left"
          },
          "hovermode": "closest",
          "mapbox": {
           "style": "light"
          },
          "paper_bgcolor": "white",
          "plot_bgcolor": "#E5ECF6",
          "polar": {
           "angularaxis": {
            "gridcolor": "white",
            "linecolor": "white",
            "ticks": ""
           },
           "bgcolor": "#E5ECF6",
           "radialaxis": {
            "gridcolor": "white",
            "linecolor": "white",
            "ticks": ""
           }
          },
          "scene": {
           "xaxis": {
            "backgroundcolor": "#E5ECF6",
            "gridcolor": "white",
            "gridwidth": 2,
            "linecolor": "white",
            "showbackground": true,
            "ticks": "",
            "zerolinecolor": "white"
           },
           "yaxis": {
            "backgroundcolor": "#E5ECF6",
            "gridcolor": "white",
            "gridwidth": 2,
            "linecolor": "white",
            "showbackground": true,
            "ticks": "",
            "zerolinecolor": "white"
           },
           "zaxis": {
            "backgroundcolor": "#E5ECF6",
            "gridcolor": "white",
            "gridwidth": 2,
            "linecolor": "white",
            "showbackground": true,
            "ticks": "",
            "zerolinecolor": "white"
           }
          },
          "shapedefaults": {
           "line": {
            "color": "#2a3f5f"
           }
          },
          "ternary": {
           "aaxis": {
            "gridcolor": "white",
            "linecolor": "white",
            "ticks": ""
           },
           "baxis": {
            "gridcolor": "white",
            "linecolor": "white",
            "ticks": ""
           },
           "bgcolor": "#E5ECF6",
           "caxis": {
            "gridcolor": "white",
            "linecolor": "white",
            "ticks": ""
           }
          },
          "title": {
           "x": 0.05
          },
          "xaxis": {
           "automargin": true,
           "gridcolor": "white",
           "linecolor": "white",
           "ticks": "",
           "title": {
            "standoff": 15
           },
           "zerolinecolor": "white",
           "zerolinewidth": 2
          },
          "yaxis": {
           "automargin": true,
           "gridcolor": "white",
           "linecolor": "white",
           "ticks": "",
           "title": {
            "standoff": 15
           },
           "zerolinecolor": "white",
           "zerolinewidth": 2
          }
         }
        },
        "width": 700,
        "xaxis": {
         "autorange": true,
         "linecolor": "rgb(204, 204, 204)",
         "linewidth": 2,
         "range": [
          1952,
          2007
         ],
         "ticks": "outside",
         "title": {
          "text": "year"
         },
         "type": "linear"
        },
        "yaxis": {
         "autorange": true,
         "linecolor": "rgb(204, 204, 204)",
         "linewidth": 2,
         "range": [
          70.21866666666666,
          81.44533333333334
         ],
         "ticks": "outside",
         "title": {
          "text": "life expectancy"
         },
         "type": "linear"
        }
       }
      },
      "image/png": "[encoded data removed]",
      "text/html": [
       "<div>\n",
       "        \n",
       "        \n",
       "            <div id=\"58a80569-1397-498e-a977-61f7562b6887\" class=\"plotly-graph-div\" style=\"height:525px; width:100%;\"></div>\n",
       "            <script type=\"text/javascript\">\n",
       "                require([\"plotly\"], function(Plotly) {\n",
       "                    window.PLOTLYENV=window.PLOTLYENV || {};\n",
       "                    \n",
       "                if (document.getElementById(\"58a80569-1397-498e-a977-61f7562b6887\")) {\n",
       "                    Plotly.newPlot(\n",
       "                        '58a80569-1397-498e-a977-61f7562b6887',\n",
       "                        [{\"mode\": \"lines\", \"name\": \"Albania\", \"type\": \"scatter\", \"x\": [1952, 1957, 1962, 1967, 1972, 1977, 1982, 1987, 1992, 1997, 2002, 2007], \"y\": [55.23, 59.28, 64.82, 66.22, 67.69, 68.93, 70.42, 72.0, 71.581, 72.95, 75.65100000000002, 76.423]}, {\"mode\": \"lines\", \"name\": \"Austria\", \"type\": \"scatter\", \"x\": [1952, 1957, 1962, 1967, 1972, 1977, 1982, 1987, 1992, 1997, 2002, 2007], \"y\": [66.8, 67.48, 69.54, 70.14, 70.63, 72.17, 73.18, 74.94, 76.04, 77.51, 78.98, 79.829]}, {\"mode\": \"lines\", \"name\": \"Belgium\", \"type\": \"scatter\", \"x\": [1952, 1957, 1962, 1967, 1972, 1977, 1982, 1987, 1992, 1997, 2002, 2007], \"y\": [68.0, 69.24, 70.25, 70.94, 71.44, 72.8, 73.93, 75.35, 76.46, 77.53, 78.32, 79.441]}, {\"mode\": \"lines\", \"name\": \"Bosnia and Herzegovina\", \"type\": \"scatter\", \"x\": [1952, 1957, 1962, 1967, 1972, 1977, 1982, 1987, 1992, 1997, 2002, 2007], \"y\": [53.82, 58.45, 61.93, 64.79, 67.45, 69.86, 70.69, 71.14, 72.178, 73.244, 74.09, 74.852]}, {\"mode\": \"lines\", \"name\": \"Bulgaria\", \"type\": \"scatter\", \"x\": [1952, 1957, 1962, 1967, 1972, 1977, 1982, 1987, 1992, 1997, 2002, 2007], \"y\": [59.6, 66.61, 69.51, 70.42, 70.9, 70.81, 71.08, 71.34, 71.19, 70.32, 72.14, 73.005]}, {\"mode\": \"lines\", \"name\": \"Croatia\", \"type\": \"scatter\", \"x\": [1952, 1957, 1962, 1967, 1972, 1977, 1982, 1987, 1992, 1997, 2002, 2007], \"y\": [61.21, 64.77, 67.13, 68.5, 69.61, 70.64, 70.46, 71.52, 72.527, 73.68, 74.876, 75.748]}, {\"mode\": \"lines\", \"name\": \"Czech Republic\", \"type\": \"scatter\", \"x\": [1952, 1957, 1962, 1967, 1972, 1977, 1982, 1987, 1992, 1997, 2002, 2007], \"y\": [66.87, 69.03, 69.9, 70.38, 70.29, 70.71, 70.96, 71.58, 72.4, 74.01, 75.51, 76.486]}, {\"mode\": \"lines\", \"name\": \"Denmark\", \"type\": \"scatter\", \"x\": [1952, 1957, 1962, 1967, 1972, 1977, 1982, 1987, 1992, 1997, 2002, 2007], \"y\": [70.78, 71.81, 72.35, 72.96, 73.47, 74.69, 74.63, 74.8, 75.33, 76.11, 77.18, 78.332]}, {\"mode\": \"lines\", \"name\": \"Finland\", \"type\": \"scatter\", \"x\": [1952, 1957, 1962, 1967, 1972, 1977, 1982, 1987, 1992, 1997, 2002, 2007], \"y\": [66.55, 67.49, 68.75, 69.83, 70.87, 72.52, 74.55, 74.83, 75.7, 77.13, 78.37, 79.313]}, {\"mode\": \"lines\", \"name\": \"France\", \"type\": \"scatter\", \"x\": [1952, 1957, 1962, 1967, 1972, 1977, 1982, 1987, 1992, 1997, 2002, 2007], \"y\": [67.41, 68.93, 70.51, 71.55, 72.38, 73.83, 74.89, 76.34, 77.46, 78.64, 79.59, 80.657]}, {\"mode\": \"lines\", \"name\": \"Germany\", \"type\": \"scatter\", \"x\": [1952, 1957, 1962, 1967, 1972, 1977, 1982, 1987, 1992, 1997, 2002, 2007], \"y\": [67.5, 69.1, 70.3, 70.8, 71.0, 72.5, 73.8, 74.847, 76.07, 77.34, 78.67, 79.406]}, {\"mode\": \"lines\", \"name\": \"Greece\", \"type\": \"scatter\", \"x\": [1952, 1957, 1962, 1967, 1972, 1977, 1982, 1987, 1992, 1997, 2002, 2007], \"y\": [65.86, 67.86, 69.51, 71.0, 72.34, 73.68, 75.24, 76.67, 77.03, 77.869, 78.256, 79.483]}, {\"mode\": \"lines\", \"name\": \"Hungary\", \"type\": \"scatter\", \"x\": [1952, 1957, 1962, 1967, 1972, 1977, 1982, 1987, 1992, 1997, 2002, 2007], \"y\": [64.03, 66.41, 67.96, 69.5, 69.76, 69.95, 69.39, 69.58, 69.17, 71.04, 72.59, 73.33800000000002]}, {\"mode\": \"lines\", \"name\": \"Iceland\", \"type\": \"scatter\", \"x\": [1952, 1957, 1962, 1967, 1972, 1977, 1982, 1987, 1992, 1997, 2002, 2007], \"y\": [72.49, 73.47, 73.68, 73.73, 74.46, 76.11, 76.99, 77.23, 78.77, 78.95, 80.5, 81.757]}, {\"mode\": \"lines\", \"name\": \"Ireland\", \"type\": \"scatter\", \"x\": [1952, 1957, 1962, 1967, 1972, 1977, 1982, 1987, 1992, 1997, 2002, 2007], \"y\": [66.91, 68.9, 70.29, 71.08, 71.28, 72.03, 73.1, 74.36, 75.467, 76.122, 77.783, 78.885]}, {\"mode\": \"lines\", \"name\": \"Italy\", \"type\": \"scatter\", \"x\": [1952, 1957, 1962, 1967, 1972, 1977, 1982, 1987, 1992, 1997, 2002, 2007], \"y\": [65.94, 67.81, 69.24, 71.06, 72.19, 73.48, 74.98, 76.42, 77.44, 78.82, 80.24, 80.546]}, {\"mode\": \"lines\", \"name\": \"Montenegro\", \"type\": \"scatter\", \"x\": [1952, 1957, 1962, 1967, 1972, 1977, 1982, 1987, 1992, 1997, 2002, 2007], \"y\": [59.164, 61.448, 63.728, 67.178, 70.63600000000002, 73.066, 74.101, 74.865, 75.435, 75.445, 73.98100000000002, 74.543]}, {\"mode\": \"lines\", \"name\": \"Netherlands\", \"type\": \"scatter\", \"x\": [1952, 1957, 1962, 1967, 1972, 1977, 1982, 1987, 1992, 1997, 2002, 2007], \"y\": [72.13, 72.99, 73.23, 73.82, 73.75, 75.24, 76.05, 76.83, 77.42, 78.03, 78.53, 79.762]}, {\"mode\": \"lines\", \"name\": \"Norway\", \"type\": \"scatter\", \"x\": [1952, 1957, 1962, 1967, 1972, 1977, 1982, 1987, 1992, 1997, 2002, 2007], \"y\": [72.67, 73.44, 73.47, 74.08, 74.34, 75.37, 75.97, 75.89, 77.32, 78.32, 79.05, 80.196]}, {\"mode\": \"lines\", \"name\": \"Poland\", \"type\": \"scatter\", \"x\": [1952, 1957, 1962, 1967, 1972, 1977, 1982, 1987, 1992, 1997, 2002, 2007], \"y\": [61.31, 65.77, 67.64, 69.61, 70.85, 70.67, 71.32, 70.98, 70.99, 72.75, 74.67, 75.563]}, {\"mode\": \"lines\", \"name\": \"Portugal\", \"type\": \"scatter\", \"x\": [1952, 1957, 1962, 1967, 1972, 1977, 1982, 1987, 1992, 1997, 2002, 2007], \"y\": [59.82, 61.51, 64.39, 66.6, 69.26, 70.41, 72.77, 74.06, 74.86, 75.97, 77.29, 78.098]}, {\"mode\": \"lines\", \"name\": \"Romania\", \"type\": \"scatter\", \"x\": [1952, 1957, 1962, 1967, 1972, 1977, 1982, 1987, 1992, 1997, 2002, 2007], \"y\": [61.05, 64.1, 66.8, 66.8, 69.21, 69.46, 69.66, 69.53, 69.36, 69.72, 71.322, 72.476]}, {\"mode\": \"lines\", \"name\": \"Serbia\", \"type\": \"scatter\", \"x\": [1952, 1957, 1962, 1967, 1972, 1977, 1982, 1987, 1992, 1997, 2002, 2007], \"y\": [57.996, 61.685, 64.531, 66.914, 68.7, 70.3, 70.16199999999999, 71.218, 71.65899999999998, 72.232, 73.21300000000002, 74.002]}, {\"mode\": \"lines\", \"name\": \"Slovak Republic\", \"type\": \"scatter\", \"x\": [1952, 1957, 1962, 1967, 1972, 1977, 1982, 1987, 1992, 1997, 2002, 2007], \"y\": [64.36, 67.45, 70.33, 70.98, 70.35, 70.45, 70.8, 71.08, 71.38, 72.71, 73.8, 74.663]}, {\"mode\": \"lines\", \"name\": \"Slovenia\", \"type\": \"scatter\", \"x\": [1952, 1957, 1962, 1967, 1972, 1977, 1982, 1987, 1992, 1997, 2002, 2007], \"y\": [65.57, 67.85, 69.15, 69.18, 69.82, 70.97, 71.063, 72.25, 73.64, 75.13, 76.66, 77.926]}, {\"mode\": \"lines\", \"name\": \"Spain\", \"type\": \"scatter\", \"x\": [1952, 1957, 1962, 1967, 1972, 1977, 1982, 1987, 1992, 1997, 2002, 2007], \"y\": [64.94, 66.66, 69.69, 71.44, 73.06, 74.39, 76.3, 76.9, 77.57, 78.77, 79.78, 80.941]}, {\"mode\": \"lines\", \"name\": \"Sweden\", \"type\": \"scatter\", \"x\": [1952, 1957, 1962, 1967, 1972, 1977, 1982, 1987, 1992, 1997, 2002, 2007], \"y\": [71.86, 72.49, 73.37, 74.16, 74.72, 75.44, 76.42, 77.19, 78.16, 79.39, 80.04, 80.884]}, {\"mode\": \"lines\", \"name\": \"Switzerland\", \"type\": \"scatter\", \"x\": [1952, 1957, 1962, 1967, 1972, 1977, 1982, 1987, 1992, 1997, 2002, 2007], \"y\": [69.62, 70.56, 71.32, 72.77, 73.78, 75.39, 76.21, 77.41, 78.03, 79.37, 80.62, 81.70100000000002]}, {\"mode\": \"lines\", \"name\": \"Turkey\", \"type\": \"scatter\", \"x\": [1952, 1957, 1962, 1967, 1972, 1977, 1982, 1987, 1992, 1997, 2002, 2007], \"y\": [43.585, 48.07899999999999, 52.098, 54.33600000000001, 57.005, 59.507, 61.036, 63.108, 66.146, 68.835, 70.845, 71.777]}, {\"mode\": \"lines\", \"name\": \"United Kingdom\", \"type\": \"scatter\", \"x\": [1952, 1957, 1962, 1967, 1972, 1977, 1982, 1987, 1992, 1997, 2002, 2007], \"y\": [69.18, 70.42, 70.76, 71.36, 72.01, 72.76, 74.04, 75.007, 76.42, 77.218, 78.471, 79.425]}],\n",
       "                        {\"autosize\": false, \"template\": {\"data\": {\"bar\": [{\"error_x\": {\"color\": \"#2a3f5f\"}, \"error_y\": {\"color\": \"#2a3f5f\"}, \"marker\": {\"line\": {\"color\": \"#E5ECF6\", \"width\": 0.5}}, \"type\": \"bar\"}], \"barpolar\": [{\"marker\": {\"line\": {\"color\": \"#E5ECF6\", \"width\": 0.5}}, \"type\": \"barpolar\"}], \"carpet\": [{\"aaxis\": {\"endlinecolor\": \"#2a3f5f\", \"gridcolor\": \"white\", \"linecolor\": \"white\", \"minorgridcolor\": \"white\", \"startlinecolor\": \"#2a3f5f\"}, \"baxis\": {\"endlinecolor\": \"#2a3f5f\", \"gridcolor\": \"white\", \"linecolor\": \"white\", \"minorgridcolor\": \"white\", \"startlinecolor\": \"#2a3f5f\"}, \"type\": \"carpet\"}], \"choropleth\": [{\"colorbar\": {\"outlinewidth\": 0, \"ticks\": \"\"}, \"type\": \"choropleth\"}], \"contour\": [{\"colorbar\": {\"outlinewidth\": 0, \"ticks\": \"\"}, \"colorscale\": [[0.0, \"#0d0887\"], [0.1111111111111111, \"#46039f\"], [0.2222222222222222, \"#7201a8\"], [0.3333333333333333, \"#9c179e\"], [0.4444444444444444, \"#bd3786\"], [0.5555555555555556, \"#d8576b\"], [0.6666666666666666, \"#ed7953\"], [0.7777777777777778, \"#fb9f3a\"], [0.8888888888888888, \"#fdca26\"], [1.0, \"#f0f921\"]], \"type\": \"contour\"}], \"contourcarpet\": [{\"colorbar\": {\"outlinewidth\": 0, \"ticks\": \"\"}, \"type\": \"contourcarpet\"}], \"heatmap\": [{\"colorbar\": {\"outlinewidth\": 0, \"ticks\": \"\"}, \"colorscale\": [[0.0, \"#0d0887\"], [0.1111111111111111, \"#46039f\"], [0.2222222222222222, \"#7201a8\"], [0.3333333333333333, \"#9c179e\"], [0.4444444444444444, \"#bd3786\"], [0.5555555555555556, \"#d8576b\"], [0.6666666666666666, \"#ed7953\"], [0.7777777777777778, \"#fb9f3a\"], [0.8888888888888888, \"#fdca26\"], [1.0, \"#f0f921\"]], \"type\": \"heatmap\"}], \"heatmapgl\": [{\"colorbar\": {\"outlinewidth\": 0, \"ticks\": \"\"}, \"colorscale\": [[0.0, \"#0d0887\"], [0.1111111111111111, \"#46039f\"], [0.2222222222222222, \"#7201a8\"], [0.3333333333333333, \"#9c179e\"], [0.4444444444444444, \"#bd3786\"], [0.5555555555555556, \"#d8576b\"], [0.6666666666666666, \"#ed7953\"], [0.7777777777777778, \"#fb9f3a\"], [0.8888888888888888, \"#fdca26\"], [1.0, \"#f0f921\"]], \"type\": \"heatmapgl\"}], \"histogram\": [{\"marker\": {\"colorbar\": {\"outlinewidth\": 0, \"ticks\": \"\"}}, \"type\": \"histogram\"}], \"histogram2d\": [{\"colorbar\": {\"outlinewidth\": 0, \"ticks\": \"\"}, \"colorscale\": [[0.0, \"#0d0887\"], [0.1111111111111111, \"#46039f\"], [0.2222222222222222, \"#7201a8\"], [0.3333333333333333, \"#9c179e\"], [0.4444444444444444, \"#bd3786\"], [0.5555555555555556, \"#d8576b\"], [0.6666666666666666, \"#ed7953\"], [0.7777777777777778, \"#fb9f3a\"], [0.8888888888888888, \"#fdca26\"], [1.0, \"#f0f921\"]], \"type\": \"histogram2d\"}], \"histogram2dcontour\": [{\"colorbar\": {\"outlinewidth\": 0, \"ticks\": \"\"}, \"colorscale\": [[0.0, \"#0d0887\"], [0.1111111111111111, \"#46039f\"], [0.2222222222222222, \"#7201a8\"], [0.3333333333333333, \"#9c179e\"], [0.4444444444444444, \"#bd3786\"], [0.5555555555555556, \"#d8576b\"], [0.6666666666666666, \"#ed7953\"], [0.7777777777777778, \"#fb9f3a\"], [0.8888888888888888, \"#fdca26\"], [1.0, \"#f0f921\"]], \"type\": \"histogram2dcontour\"}], \"mesh3d\": [{\"colorbar\": {\"outlinewidth\": 0, \"ticks\": \"\"}, \"type\": \"mesh3d\"}], \"parcoords\": [{\"line\": {\"colorbar\": {\"outlinewidth\": 0, \"ticks\": \"\"}}, \"type\": \"parcoords\"}], \"pie\": [{\"automargin\": true, \"type\": \"pie\"}], \"scatter\": [{\"marker\": {\"colorbar\": {\"outlinewidth\": 0, \"ticks\": \"\"}}, \"type\": \"scatter\"}], \"scatter3d\": [{\"line\": {\"colorbar\": {\"outlinewidth\": 0, \"ticks\": \"\"}}, \"marker\": {\"colorbar\": {\"outlinewidth\": 0, \"ticks\": \"\"}}, \"type\": \"scatter3d\"}], \"scattercarpet\": [{\"marker\": {\"colorbar\": {\"outlinewidth\": 0, \"ticks\": \"\"}}, \"type\": \"scattercarpet\"}], \"scattergeo\": [{\"marker\": {\"colorbar\": {\"outlinewidth\": 0, \"ticks\": \"\"}}, \"type\": \"scattergeo\"}], \"scattergl\": [{\"marker\": {\"colorbar\": {\"outlinewidth\": 0, \"ticks\": \"\"}}, \"type\": \"scattergl\"}], \"scattermapbox\": [{\"marker\": {\"colorbar\": {\"outlinewidth\": 0, \"ticks\": \"\"}}, \"type\": \"scattermapbox\"}], \"scatterpolar\": [{\"marker\": {\"colorbar\": {\"outlinewidth\": 0, \"ticks\": \"\"}}, \"type\": \"scatterpolar\"}], \"scatterpolargl\": [{\"marker\": {\"colorbar\": {\"outlinewidth\": 0, \"ticks\": \"\"}}, \"type\": \"scatterpolargl\"}], \"scatterternary\": [{\"marker\": {\"colorbar\": {\"outlinewidth\": 0, \"ticks\": \"\"}}, \"type\": \"scatterternary\"}], \"surface\": [{\"colorbar\": {\"outlinewidth\": 0, \"ticks\": \"\"}, \"colorscale\": [[0.0, \"#0d0887\"], [0.1111111111111111, \"#46039f\"], [0.2222222222222222, \"#7201a8\"], [0.3333333333333333, \"#9c179e\"], [0.4444444444444444, \"#bd3786\"], [0.5555555555555556, \"#d8576b\"], [0.6666666666666666, \"#ed7953\"], [0.7777777777777778, \"#fb9f3a\"], [0.8888888888888888, \"#fdca26\"], [1.0, \"#f0f921\"]], \"type\": \"surface\"}], \"table\": [{\"cells\": {\"fill\": {\"color\": \"#EBF0F8\"}, \"line\": {\"color\": \"white\"}}, \"header\": {\"fill\": {\"color\": \"#C8D4E3\"}, \"line\": {\"color\": \"white\"}}, \"type\": \"table\"}]}, \"layout\": {\"annotationdefaults\": {\"arrowcolor\": \"#2a3f5f\", \"arrowhead\": 0, \"arrowwidth\": 1}, \"coloraxis\": {\"colorbar\": {\"outlinewidth\": 0, \"ticks\": \"\"}}, \"colorscale\": {\"diverging\": [[0, \"#8e0152\"], [0.1, \"#c51b7d\"], [0.2, \"#de77ae\"], [0.3, \"#f1b6da\"], [0.4, \"#fde0ef\"], [0.5, \"#f7f7f7\"], [0.6, \"#e6f5d0\"], [0.7, \"#b8e186\"], [0.8, \"#7fbc41\"], [0.9, \"#4d9221\"], [1, \"#276419\"]], \"sequential\": [[0.0, \"#0d0887\"], [0.1111111111111111, \"#46039f\"], [0.2222222222222222, \"#7201a8\"], [0.3333333333333333, \"#9c179e\"], [0.4444444444444444, \"#bd3786\"], [0.5555555555555556, \"#d8576b\"], [0.6666666666666666, \"#ed7953\"], [0.7777777777777778, \"#fb9f3a\"], [0.8888888888888888, \"#fdca26\"], [1.0, \"#f0f921\"]], \"sequentialminus\": [[0.0, \"#0d0887\"], [0.1111111111111111, \"#46039f\"], [0.2222222222222222, \"#7201a8\"], [0.3333333333333333, \"#9c179e\"], [0.4444444444444444, \"#bd3786\"], [0.5555555555555556, \"#d8576b\"], [0.6666666666666666, \"#ed7953\"], [0.7777777777777778, \"#fb9f3a\"], [0.8888888888888888, \"#fdca26\"], [1.0, \"#f0f921\"]]}, \"colorway\": [\"#636efa\", \"#EF553B\", \"#00cc96\", \"#ab63fa\", \"#FFA15A\", \"#19d3f3\", \"#FF6692\", \"#B6E880\", \"#FF97FF\", \"#FECB52\"], \"font\": {\"color\": \"#2a3f5f\"}, \"geo\": {\"bgcolor\": \"white\", \"lakecolor\": \"white\", \"landcolor\": \"#E5ECF6\", \"showlakes\": true, \"showland\": true, \"subunitcolor\": \"white\"}, \"hoverlabel\": {\"align\": \"left\"}, \"hovermode\": \"closest\", \"mapbox\": {\"style\": \"light\"}, \"paper_bgcolor\": \"white\", \"plot_bgcolor\": \"#E5ECF6\", \"polar\": {\"angularaxis\": {\"gridcolor\": \"white\", \"linecolor\": \"white\", \"ticks\": \"\"}, \"bgcolor\": \"#E5ECF6\", \"radialaxis\": {\"gridcolor\": \"white\", \"linecolor\": \"white\", \"ticks\": \"\"}}, \"scene\": {\"xaxis\": {\"backgroundcolor\": \"#E5ECF6\", \"gridcolor\": \"white\", \"gridwidth\": 2, \"linecolor\": \"white\", \"showbackground\": true, \"ticks\": \"\", \"zerolinecolor\": \"white\"}, \"yaxis\": {\"backgroundcolor\": \"#E5ECF6\", \"gridcolor\": \"white\", \"gridwidth\": 2, \"linecolor\": \"white\", \"showbackground\": true, \"ticks\": \"\", \"zerolinecolor\": \"white\"}, \"zaxis\": {\"backgroundcolor\": \"#E5ECF6\", \"gridcolor\": \"white\", \"gridwidth\": 2, \"linecolor\": \"white\", \"showbackground\": true, \"ticks\": \"\", \"zerolinecolor\": \"white\"}}, \"shapedefaults\": {\"line\": {\"color\": \"#2a3f5f\"}}, \"ternary\": {\"aaxis\": {\"gridcolor\": \"white\", \"linecolor\": \"white\", \"ticks\": \"\"}, \"baxis\": {\"gridcolor\": \"white\", \"linecolor\": \"white\", \"ticks\": \"\"}, \"bgcolor\": \"#E5ECF6\", \"caxis\": {\"gridcolor\": \"white\", \"linecolor\": \"white\", \"ticks\": \"\"}}, \"title\": {\"x\": 0.05}, \"xaxis\": {\"automargin\": true, \"gridcolor\": \"white\", \"linecolor\": \"white\", \"ticks\": \"\", \"title\": {\"standoff\": 15}, \"zerolinecolor\": \"white\", \"zerolinewidth\": 2}, \"yaxis\": {\"automargin\": true, \"gridcolor\": \"white\", \"linecolor\": \"white\", \"ticks\": \"\", \"title\": {\"standoff\": 15}, \"zerolinecolor\": \"white\", \"zerolinewidth\": 2}}}, \"xaxis\": {\"linecolor\": \"rgb(204, 204, 204)\", \"linewidth\": 2, \"ticks\": \"outside\", \"title\": {\"text\": \"year\"}}, \"yaxis\": {\"linecolor\": \"rgb(204, 204, 204)\", \"linewidth\": 2, \"ticks\": \"outside\", \"title\": {\"text\": \"life expectancy\"}}},\n",
       "                        {\"responsive\": true}\n",
       "                    ).then(function(){\n",
       "                            \n",
       "var gd = document.getElementById('58a80569-1397-498e-a977-61f7562b6887');\n",
       "var x = new MutationObserver(function (mutations, observer) {{\n",
       "        var display = window.getComputedStyle(gd).display;\n",
       "        if (!display || display === 'none') {{\n",
       "            console.log([gd, 'removed!']);\n",
       "            Plotly.purge(gd);\n",
       "            observer.disconnect();\n",
       "        }}\n",
       "}});\n",
       "\n",
       "// Listen for the removal of the full notebook cells\n",
       "var notebookContainer = gd.closest('#notebook-container');\n",
       "if (notebookContainer) {{\n",
       "    x.observe(notebookContainer, {childList: true});\n",
       "}}\n",
       "\n",
       "// Listen for the clearing of the current output cell\n",
       "var outputEl = gd.closest('.output');\n",
       "if (outputEl) {{\n",
       "    x.observe(outputEl, {childList: true});\n",
       "}}\n",
       "\n",
       "                        })\n",
       "                };\n",
       "                });\n",
       "            </script>\n",
       "        </div>"
      ]
     },
     "metadata": {},
     "output_type": "display_data"
    }
   ],
   "source": [
    "import plotly.graph_objs as go\n",
    "\n",
    "countries = europe['country'].unique()\n",
    "\n",
    "fig = go.Figure()\n",
    "\n",
    "# Creating traces by looping over countries\n",
    "for country in countries:\n",
    "    is_country = europe['country'] == country\n",
    "    trace = go.Scatter(x=europe[is_country]['year'],\n",
    "                    y=europe[is_country]['lifeExp'],\n",
    "                    mode=\"lines\",\n",
    "                    name=country)\n",
    "    fig.add_trace(trace)\n",
    "\n",
    "fig.update_layout(xaxis=dict(\n",
    "        title=\"year\",\n",
    "        linecolor='rgb(204, 204, 204)',\n",
    "        linewidth=2,\n",
    "        ticks='outside',\n",
    "    ),\n",
    "    yaxis=dict(\n",
    "        title=\"life expectancy\",\n",
    "        linecolor='rgb(204, 204, 204)',\n",
    "        linewidth=2,\n",
    "        ticks='outside',\n",
    "    ),\n",
    "    autosize=False,\n",
    ")\n",
    "\n",
    "fig.show()"
   ]
  },
  {
   "cell_type": "code",
   "execution_count": 37,
   "metadata": {},
   "outputs": [
    {
     "data": {
      "application/vnd.plotly.v1+json": {
       "config": {
        "plotlyServerURL": "https://plot.ly"
       },
       "data": [
        {
         "mode": "lines",
         "name": "Norway",
         "type": "scatter",
         "x": [
          1952,
          1957,
          1962,
          1967,
          1972,
          1977,
          1982,
          1987,
          1992,
          1997,
          2002,
          2007
         ],
         "y": [
          72.67,
          73.44,
          73.47,
          74.08,
          74.34,
          75.37,
          75.97,
          75.89,
          77.32,
          78.32,
          79.05,
          80.196
         ]
        },
        {
         "mode": "lines",
         "name": "Sweden",
         "type": "scatter",
         "x": [
          1952,
          1957,
          1962,
          1967,
          1972,
          1977,
          1982,
          1987,
          1992,
          1997,
          2002,
          2007
         ],
         "y": [
          71.86,
          72.49,
          73.37,
          74.16,
          74.72,
          75.44,
          76.42,
          77.19,
          78.16,
          79.39,
          80.04,
          80.884
         ]
        },
        {
         "mode": "lines",
         "name": "Denmark",
         "type": "scatter",
         "x": [
          1952,
          1957,
          1962,
          1967,
          1972,
          1977,
          1982,
          1987,
          1992,
          1997,
          2002,
          2007
         ],
         "y": [
          70.78,
          71.81,
          72.35,
          72.96,
          73.47,
          74.69,
          74.63,
          74.8,
          75.33,
          76.11,
          77.18,
          78.332
         ]
        }
       ],
       "layout": {
        "autosize": false,
        "height": 450,
        "template": {
         "data": {
          "bar": [
           {
            "error_x": {
             "color": "#2a3f5f"
            },
            "error_y": {
             "color": "#2a3f5f"
            },
            "marker": {
             "line": {
              "color": "#E5ECF6",
              "width": 0.5
             }
            },
            "type": "bar"
           }
          ],
          "barpolar": [
           {
            "marker": {
             "line": {
              "color": "#E5ECF6",
              "width": 0.5
             }
            },
            "type": "barpolar"
           }
          ],
          "carpet": [
           {
            "aaxis": {
             "endlinecolor": "#2a3f5f",
             "gridcolor": "white",
             "linecolor": "white",
             "minorgridcolor": "white",
             "startlinecolor": "#2a3f5f"
            },
            "baxis": {
             "endlinecolor": "#2a3f5f",
             "gridcolor": "white",
             "linecolor": "white",
             "minorgridcolor": "white",
             "startlinecolor": "#2a3f5f"
            },
            "type": "carpet"
           }
          ],
          "choropleth": [
           {
            "colorbar": {
             "outlinewidth": 0,
             "ticks": ""
            },
            "type": "choropleth"
           }
          ],
          "contour": [
           {
            "colorbar": {
             "outlinewidth": 0,
             "ticks": ""
            },
            "colorscale": [
             [
              0,
              "#0d0887"
             ],
             [
              0.1111111111111111,
              "#46039f"
             ],
             [
              0.2222222222222222,
              "#7201a8"
             ],
             [
              0.3333333333333333,
              "#9c179e"
             ],
             [
              0.4444444444444444,
              "#bd3786"
             ],
             [
              0.5555555555555556,
              "#d8576b"
             ],
             [
              0.6666666666666666,
              "#ed7953"
             ],
             [
              0.7777777777777778,
              "#fb9f3a"
             ],
             [
              0.8888888888888888,
              "#fdca26"
             ],
             [
              1,
              "#f0f921"
             ]
            ],
            "type": "contour"
           }
          ],
          "contourcarpet": [
           {
            "colorbar": {
             "outlinewidth": 0,
             "ticks": ""
            },
            "type": "contourcarpet"
           }
          ],
          "heatmap": [
           {
            "colorbar": {
             "outlinewidth": 0,
             "ticks": ""
            },
            "colorscale": [
             [
              0,
              "#0d0887"
             ],
             [
              0.1111111111111111,
              "#46039f"
             ],
             [
              0.2222222222222222,
              "#7201a8"
             ],
             [
              0.3333333333333333,
              "#9c179e"
             ],
             [
              0.4444444444444444,
              "#bd3786"
             ],
             [
              0.5555555555555556,
              "#d8576b"
             ],
             [
              0.6666666666666666,
              "#ed7953"
             ],
             [
              0.7777777777777778,
              "#fb9f3a"
             ],
             [
              0.8888888888888888,
              "#fdca26"
             ],
             [
              1,
              "#f0f921"
             ]
            ],
            "type": "heatmap"
           }
          ],
          "heatmapgl": [
           {
            "colorbar": {
             "outlinewidth": 0,
             "ticks": ""
            },
            "colorscale": [
             [
              0,
              "#0d0887"
             ],
             [
              0.1111111111111111,
              "#46039f"
             ],
             [
              0.2222222222222222,
              "#7201a8"
             ],
             [
              0.3333333333333333,
              "#9c179e"
             ],
             [
              0.4444444444444444,
              "#bd3786"
             ],
             [
              0.5555555555555556,
              "#d8576b"
             ],
             [
              0.6666666666666666,
              "#ed7953"
             ],
             [
              0.7777777777777778,
              "#fb9f3a"
             ],
             [
              0.8888888888888888,
              "#fdca26"
             ],
             [
              1,
              "#f0f921"
             ]
            ],
            "type": "heatmapgl"
           }
          ],
          "histogram": [
           {
            "marker": {
             "colorbar": {
              "outlinewidth": 0,
              "ticks": ""
             }
            },
            "type": "histogram"
           }
          ],
          "histogram2d": [
           {
            "colorbar": {
             "outlinewidth": 0,
             "ticks": ""
            },
            "colorscale": [
             [
              0,
              "#0d0887"
             ],
             [
              0.1111111111111111,
              "#46039f"
             ],
             [
              0.2222222222222222,
              "#7201a8"
             ],
             [
              0.3333333333333333,
              "#9c179e"
             ],
             [
              0.4444444444444444,
              "#bd3786"
             ],
             [
              0.5555555555555556,
              "#d8576b"
             ],
             [
              0.6666666666666666,
              "#ed7953"
             ],
             [
              0.7777777777777778,
              "#fb9f3a"
             ],
             [
              0.8888888888888888,
              "#fdca26"
             ],
             [
              1,
              "#f0f921"
             ]
            ],
            "type": "histogram2d"
           }
          ],
          "histogram2dcontour": [
           {
            "colorbar": {
             "outlinewidth": 0,
             "ticks": ""
            },
            "colorscale": [
             [
              0,
              "#0d0887"
             ],
             [
              0.1111111111111111,
              "#46039f"
             ],
             [
              0.2222222222222222,
              "#7201a8"
             ],
             [
              0.3333333333333333,
              "#9c179e"
             ],
             [
              0.4444444444444444,
              "#bd3786"
             ],
             [
              0.5555555555555556,
              "#d8576b"
             ],
             [
              0.6666666666666666,
              "#ed7953"
             ],
             [
              0.7777777777777778,
              "#fb9f3a"
             ],
             [
              0.8888888888888888,
              "#fdca26"
             ],
             [
              1,
              "#f0f921"
             ]
            ],
            "type": "histogram2dcontour"
           }
          ],
          "mesh3d": [
           {
            "colorbar": {
             "outlinewidth": 0,
             "ticks": ""
            },
            "type": "mesh3d"
           }
          ],
          "parcoords": [
           {
            "line": {
             "colorbar": {
              "outlinewidth": 0,
              "ticks": ""
             }
            },
            "type": "parcoords"
           }
          ],
          "pie": [
           {
            "automargin": true,
            "type": "pie"
           }
          ],
          "scatter": [
           {
            "marker": {
             "colorbar": {
              "outlinewidth": 0,
              "ticks": ""
             }
            },
            "type": "scatter"
           }
          ],
          "scatter3d": [
           {
            "line": {
             "colorbar": {
              "outlinewidth": 0,
              "ticks": ""
             }
            },
            "marker": {
             "colorbar": {
              "outlinewidth": 0,
              "ticks": ""
             }
            },
            "type": "scatter3d"
           }
          ],
          "scattercarpet": [
           {
            "marker": {
             "colorbar": {
              "outlinewidth": 0,
              "ticks": ""
             }
            },
            "type": "scattercarpet"
           }
          ],
          "scattergeo": [
           {
            "marker": {
             "colorbar": {
              "outlinewidth": 0,
              "ticks": ""
             }
            },
            "type": "scattergeo"
           }
          ],
          "scattergl": [
           {
            "marker": {
             "colorbar": {
              "outlinewidth": 0,
              "ticks": ""
             }
            },
            "type": "scattergl"
           }
          ],
          "scattermapbox": [
           {
            "marker": {
             "colorbar": {
              "outlinewidth": 0,
              "ticks": ""
             }
            },
            "type": "scattermapbox"
           }
          ],
          "scatterpolar": [
           {
            "marker": {
             "colorbar": {
              "outlinewidth": 0,
              "ticks": ""
             }
            },
            "type": "scatterpolar"
           }
          ],
          "scatterpolargl": [
           {
            "marker": {
             "colorbar": {
              "outlinewidth": 0,
              "ticks": ""
             }
            },
            "type": "scatterpolargl"
           }
          ],
          "scatterternary": [
           {
            "marker": {
             "colorbar": {
              "outlinewidth": 0,
              "ticks": ""
             }
            },
            "type": "scatterternary"
           }
          ],
          "surface": [
           {
            "colorbar": {
             "outlinewidth": 0,
             "ticks": ""
            },
            "colorscale": [
             [
              0,
              "#0d0887"
             ],
             [
              0.1111111111111111,
              "#46039f"
             ],
             [
              0.2222222222222222,
              "#7201a8"
             ],
             [
              0.3333333333333333,
              "#9c179e"
             ],
             [
              0.4444444444444444,
              "#bd3786"
             ],
             [
              0.5555555555555556,
              "#d8576b"
             ],
             [
              0.6666666666666666,
              "#ed7953"
             ],
             [
              0.7777777777777778,
              "#fb9f3a"
             ],
             [
              0.8888888888888888,
              "#fdca26"
             ],
             [
              1,
              "#f0f921"
             ]
            ],
            "type": "surface"
           }
          ],
          "table": [
           {
            "cells": {
             "fill": {
              "color": "#EBF0F8"
             },
             "line": {
              "color": "white"
             }
            },
            "header": {
             "fill": {
              "color": "#C8D4E3"
             },
             "line": {
              "color": "white"
             }
            },
            "type": "table"
           }
          ]
         },
         "layout": {
          "annotationdefaults": {
           "arrowcolor": "#2a3f5f",
           "arrowhead": 0,
           "arrowwidth": 1
          },
          "coloraxis": {
           "colorbar": {
            "outlinewidth": 0,
            "ticks": ""
           }
          },
          "colorscale": {
           "diverging": [
            [
             0,
             "#8e0152"
            ],
            [
             0.1,
             "#c51b7d"
            ],
            [
             0.2,
             "#de77ae"
            ],
            [
             0.3,
             "#f1b6da"
            ],
            [
             0.4,
             "#fde0ef"
            ],
            [
             0.5,
             "#f7f7f7"
            ],
            [
             0.6,
             "#e6f5d0"
            ],
            [
             0.7,
             "#b8e186"
            ],
            [
             0.8,
             "#7fbc41"
            ],
            [
             0.9,
             "#4d9221"
            ],
            [
             1,
             "#276419"
            ]
           ],
           "sequential": [
            [
             0,
             "#0d0887"
            ],
            [
             0.1111111111111111,
             "#46039f"
            ],
            [
             0.2222222222222222,
             "#7201a8"
            ],
            [
             0.3333333333333333,
             "#9c179e"
            ],
            [
             0.4444444444444444,
             "#bd3786"
            ],
            [
             0.5555555555555556,
             "#d8576b"
            ],
            [
             0.6666666666666666,
             "#ed7953"
            ],
            [
             0.7777777777777778,
             "#fb9f3a"
            ],
            [
             0.8888888888888888,
             "#fdca26"
            ],
            [
             1,
             "#f0f921"
            ]
           ],
           "sequentialminus": [
            [
             0,
             "#0d0887"
            ],
            [
             0.1111111111111111,
             "#46039f"
            ],
            [
             0.2222222222222222,
             "#7201a8"
            ],
            [
             0.3333333333333333,
             "#9c179e"
            ],
            [
             0.4444444444444444,
             "#bd3786"
            ],
            [
             0.5555555555555556,
             "#d8576b"
            ],
            [
             0.6666666666666666,
             "#ed7953"
            ],
            [
             0.7777777777777778,
             "#fb9f3a"
            ],
            [
             0.8888888888888888,
             "#fdca26"
            ],
            [
             1,
             "#f0f921"
            ]
           ]
          },
          "colorway": [
           "#636efa",
           "#EF553B",
           "#00cc96",
           "#ab63fa",
           "#FFA15A",
           "#19d3f3",
           "#FF6692",
           "#B6E880",
           "#FF97FF",
           "#FECB52"
          ],
          "font": {
           "color": "#2a3f5f"
          },
          "geo": {
           "bgcolor": "white",
           "lakecolor": "white",
           "landcolor": "#E5ECF6",
           "showlakes": true,
           "showland": true,
           "subunitcolor": "white"
          },
          "hoverlabel": {
           "align": "left"
          },
          "hovermode": "closest",
          "mapbox": {
           "style": "light"
          },
          "paper_bgcolor": "white",
          "plot_bgcolor": "#E5ECF6",
          "polar": {
           "angularaxis": {
            "gridcolor": "white",
            "linecolor": "white",
            "ticks": ""
           },
           "bgcolor": "#E5ECF6",
           "radialaxis": {
            "gridcolor": "white",
            "linecolor": "white",
            "ticks": ""
           }
          },
          "scene": {
           "xaxis": {
            "backgroundcolor": "#E5ECF6",
            "gridcolor": "white",
            "gridwidth": 2,
            "linecolor": "white",
            "showbackground": true,
            "ticks": "",
            "zerolinecolor": "white"
           },
           "yaxis": {
            "backgroundcolor": "#E5ECF6",
            "gridcolor": "white",
            "gridwidth": 2,
            "linecolor": "white",
            "showbackground": true,
            "ticks": "",
            "zerolinecolor": "white"
           },
           "zaxis": {
            "backgroundcolor": "#E5ECF6",
            "gridcolor": "white",
            "gridwidth": 2,
            "linecolor": "white",
            "showbackground": true,
            "ticks": "",
            "zerolinecolor": "white"
           }
          },
          "shapedefaults": {
           "line": {
            "color": "#2a3f5f"
           }
          },
          "ternary": {
           "aaxis": {
            "gridcolor": "white",
            "linecolor": "white",
            "ticks": ""
           },
           "baxis": {
            "gridcolor": "white",
            "linecolor": "white",
            "ticks": ""
           },
           "bgcolor": "#E5ECF6",
           "caxis": {
            "gridcolor": "white",
            "linecolor": "white",
            "ticks": ""
           }
          },
          "title": {
           "x": 0.05
          },
          "xaxis": {
           "automargin": true,
           "gridcolor": "white",
           "linecolor": "white",
           "ticks": "",
           "title": {
            "standoff": 15
           },
           "zerolinecolor": "white",
           "zerolinewidth": 2
          },
          "yaxis": {
           "automargin": true,
           "gridcolor": "white",
           "linecolor": "white",
           "ticks": "",
           "title": {
            "standoff": 15
           },
           "zerolinecolor": "white",
           "zerolinewidth": 2
          }
         }
        },
        "width": 700,
        "xaxis": {
         "autorange": true,
         "linecolor": "rgb(204, 204, 204)",
         "linewidth": 2,
         "range": [
          1952,
          2007
         ],
         "ticks": "outside",
         "title": {
          "text": "year"
         },
         "type": "linear"
        },
        "yaxis": {
         "autorange": true,
         "linecolor": "rgb(204, 204, 204)",
         "linewidth": 2,
         "range": [
          70.21866666666666,
          81.44533333333334
         ],
         "ticks": "outside",
         "title": {
          "text": "life expectancy"
         },
         "type": "linear"
        }
       }
      },
      "image/png": "[encoded data removed]",
      "text/html": [
       "<div>\n",
       "        \n",
       "        \n",
       "            <div id=\"6a84b960-2d91-4961-b84a-564229c1b349\" class=\"plotly-graph-div\" style=\"height:525px; width:100%;\"></div>\n",
       "            <script type=\"text/javascript\">\n",
       "                require([\"plotly\"], function(Plotly) {\n",
       "                    window.PLOTLYENV=window.PLOTLYENV || {};\n",
       "                    \n",
       "                if (document.getElementById(\"6a84b960-2d91-4961-b84a-564229c1b349\")) {\n",
       "                    Plotly.newPlot(\n",
       "                        '6a84b960-2d91-4961-b84a-564229c1b349',\n",
       "                        [{\"mode\": \"lines\", \"name\": \"Norway\", \"type\": \"scatter\", \"x\": [1952, 1957, 1962, 1967, 1972, 1977, 1982, 1987, 1992, 1997, 2002, 2007], \"y\": [72.67, 73.44, 73.47, 74.08, 74.34, 75.37, 75.97, 75.89, 77.32, 78.32, 79.05, 80.196]}, {\"mode\": \"lines\", \"name\": \"Sweden\", \"type\": \"scatter\", \"x\": [1952, 1957, 1962, 1967, 1972, 1977, 1982, 1987, 1992, 1997, 2002, 2007], \"y\": [71.86, 72.49, 73.37, 74.16, 74.72, 75.44, 76.42, 77.19, 78.16, 79.39, 80.04, 80.884]}, {\"mode\": \"lines\", \"name\": \"Denmark\", \"type\": \"scatter\", \"x\": [1952, 1957, 1962, 1967, 1972, 1977, 1982, 1987, 1992, 1997, 2002, 2007], \"y\": [70.78, 71.81, 72.35, 72.96, 73.47, 74.69, 74.63, 74.8, 75.33, 76.11, 77.18, 78.332]}],\n",
       "                        {\"autosize\": false, \"template\": {\"data\": {\"bar\": [{\"error_x\": {\"color\": \"#2a3f5f\"}, \"error_y\": {\"color\": \"#2a3f5f\"}, \"marker\": {\"line\": {\"color\": \"#E5ECF6\", \"width\": 0.5}}, \"type\": \"bar\"}], \"barpolar\": [{\"marker\": {\"line\": {\"color\": \"#E5ECF6\", \"width\": 0.5}}, \"type\": \"barpolar\"}], \"carpet\": [{\"aaxis\": {\"endlinecolor\": \"#2a3f5f\", \"gridcolor\": \"white\", \"linecolor\": \"white\", \"minorgridcolor\": \"white\", \"startlinecolor\": \"#2a3f5f\"}, \"baxis\": {\"endlinecolor\": \"#2a3f5f\", \"gridcolor\": \"white\", \"linecolor\": \"white\", \"minorgridcolor\": \"white\", \"startlinecolor\": \"#2a3f5f\"}, \"type\": \"carpet\"}], \"choropleth\": [{\"colorbar\": {\"outlinewidth\": 0, \"ticks\": \"\"}, \"type\": \"choropleth\"}], \"contour\": [{\"colorbar\": {\"outlinewidth\": 0, \"ticks\": \"\"}, \"colorscale\": [[0.0, \"#0d0887\"], [0.1111111111111111, \"#46039f\"], [0.2222222222222222, \"#7201a8\"], [0.3333333333333333, \"#9c179e\"], [0.4444444444444444, \"#bd3786\"], [0.5555555555555556, \"#d8576b\"], [0.6666666666666666, \"#ed7953\"], [0.7777777777777778, \"#fb9f3a\"], [0.8888888888888888, \"#fdca26\"], [1.0, \"#f0f921\"]], \"type\": \"contour\"}], \"contourcarpet\": [{\"colorbar\": {\"outlinewidth\": 0, \"ticks\": \"\"}, \"type\": \"contourcarpet\"}], \"heatmap\": [{\"colorbar\": {\"outlinewidth\": 0, \"ticks\": \"\"}, \"colorscale\": [[0.0, \"#0d0887\"], [0.1111111111111111, \"#46039f\"], [0.2222222222222222, \"#7201a8\"], [0.3333333333333333, \"#9c179e\"], [0.4444444444444444, \"#bd3786\"], [0.5555555555555556, \"#d8576b\"], [0.6666666666666666, \"#ed7953\"], [0.7777777777777778, \"#fb9f3a\"], [0.8888888888888888, \"#fdca26\"], [1.0, \"#f0f921\"]], \"type\": \"heatmap\"}], \"heatmapgl\": [{\"colorbar\": {\"outlinewidth\": 0, \"ticks\": \"\"}, \"colorscale\": [[0.0, \"#0d0887\"], [0.1111111111111111, \"#46039f\"], [0.2222222222222222, \"#7201a8\"], [0.3333333333333333, \"#9c179e\"], [0.4444444444444444, \"#bd3786\"], [0.5555555555555556, \"#d8576b\"], [0.6666666666666666, \"#ed7953\"], [0.7777777777777778, \"#fb9f3a\"], [0.8888888888888888, \"#fdca26\"], [1.0, \"#f0f921\"]], \"type\": \"heatmapgl\"}], \"histogram\": [{\"marker\": {\"colorbar\": {\"outlinewidth\": 0, \"ticks\": \"\"}}, \"type\": \"histogram\"}], \"histogram2d\": [{\"colorbar\": {\"outlinewidth\": 0, \"ticks\": \"\"}, \"colorscale\": [[0.0, \"#0d0887\"], [0.1111111111111111, \"#46039f\"], [0.2222222222222222, \"#7201a8\"], [0.3333333333333333, \"#9c179e\"], [0.4444444444444444, \"#bd3786\"], [0.5555555555555556, \"#d8576b\"], [0.6666666666666666, \"#ed7953\"], [0.7777777777777778, \"#fb9f3a\"], [0.8888888888888888, \"#fdca26\"], [1.0, \"#f0f921\"]], \"type\": \"histogram2d\"}], \"histogram2dcontour\": [{\"colorbar\": {\"outlinewidth\": 0, \"ticks\": \"\"}, \"colorscale\": [[0.0, \"#0d0887\"], [0.1111111111111111, \"#46039f\"], [0.2222222222222222, \"#7201a8\"], [0.3333333333333333, \"#9c179e\"], [0.4444444444444444, \"#bd3786\"], [0.5555555555555556, \"#d8576b\"], [0.6666666666666666, \"#ed7953\"], [0.7777777777777778, \"#fb9f3a\"], [0.8888888888888888, \"#fdca26\"], [1.0, \"#f0f921\"]], \"type\": \"histogram2dcontour\"}], \"mesh3d\": [{\"colorbar\": {\"outlinewidth\": 0, \"ticks\": \"\"}, \"type\": \"mesh3d\"}], \"parcoords\": [{\"line\": {\"colorbar\": {\"outlinewidth\": 0, \"ticks\": \"\"}}, \"type\": \"parcoords\"}], \"pie\": [{\"automargin\": true, \"type\": \"pie\"}], \"scatter\": [{\"marker\": {\"colorbar\": {\"outlinewidth\": 0, \"ticks\": \"\"}}, \"type\": \"scatter\"}], \"scatter3d\": [{\"line\": {\"colorbar\": {\"outlinewidth\": 0, \"ticks\": \"\"}}, \"marker\": {\"colorbar\": {\"outlinewidth\": 0, \"ticks\": \"\"}}, \"type\": \"scatter3d\"}], \"scattercarpet\": [{\"marker\": {\"colorbar\": {\"outlinewidth\": 0, \"ticks\": \"\"}}, \"type\": \"scattercarpet\"}], \"scattergeo\": [{\"marker\": {\"colorbar\": {\"outlinewidth\": 0, \"ticks\": \"\"}}, \"type\": \"scattergeo\"}], \"scattergl\": [{\"marker\": {\"colorbar\": {\"outlinewidth\": 0, \"ticks\": \"\"}}, \"type\": \"scattergl\"}], \"scattermapbox\": [{\"marker\": {\"colorbar\": {\"outlinewidth\": 0, \"ticks\": \"\"}}, \"type\": \"scattermapbox\"}], \"scatterpolar\": [{\"marker\": {\"colorbar\": {\"outlinewidth\": 0, \"ticks\": \"\"}}, \"type\": \"scatterpolar\"}], \"scatterpolargl\": [{\"marker\": {\"colorbar\": {\"outlinewidth\": 0, \"ticks\": \"\"}}, \"type\": \"scatterpolargl\"}], \"scatterternary\": [{\"marker\": {\"colorbar\": {\"outlinewidth\": 0, \"ticks\": \"\"}}, \"type\": \"scatterternary\"}], \"surface\": [{\"colorbar\": {\"outlinewidth\": 0, \"ticks\": \"\"}, \"colorscale\": [[0.0, \"#0d0887\"], [0.1111111111111111, \"#46039f\"], [0.2222222222222222, \"#7201a8\"], [0.3333333333333333, \"#9c179e\"], [0.4444444444444444, \"#bd3786\"], [0.5555555555555556, \"#d8576b\"], [0.6666666666666666, \"#ed7953\"], [0.7777777777777778, \"#fb9f3a\"], [0.8888888888888888, \"#fdca26\"], [1.0, \"#f0f921\"]], \"type\": \"surface\"}], \"table\": [{\"cells\": {\"fill\": {\"color\": \"#EBF0F8\"}, \"line\": {\"color\": \"white\"}}, \"header\": {\"fill\": {\"color\": \"#C8D4E3\"}, \"line\": {\"color\": \"white\"}}, \"type\": \"table\"}]}, \"layout\": {\"annotationdefaults\": {\"arrowcolor\": \"#2a3f5f\", \"arrowhead\": 0, \"arrowwidth\": 1}, \"coloraxis\": {\"colorbar\": {\"outlinewidth\": 0, \"ticks\": \"\"}}, \"colorscale\": {\"diverging\": [[0, \"#8e0152\"], [0.1, \"#c51b7d\"], [0.2, \"#de77ae\"], [0.3, \"#f1b6da\"], [0.4, \"#fde0ef\"], [0.5, \"#f7f7f7\"], [0.6, \"#e6f5d0\"], [0.7, \"#b8e186\"], [0.8, \"#7fbc41\"], [0.9, \"#4d9221\"], [1, \"#276419\"]], \"sequential\": [[0.0, \"#0d0887\"], [0.1111111111111111, \"#46039f\"], [0.2222222222222222, \"#7201a8\"], [0.3333333333333333, \"#9c179e\"], [0.4444444444444444, \"#bd3786\"], [0.5555555555555556, \"#d8576b\"], [0.6666666666666666, \"#ed7953\"], [0.7777777777777778, \"#fb9f3a\"], [0.8888888888888888, \"#fdca26\"], [1.0, \"#f0f921\"]], \"sequentialminus\": [[0.0, \"#0d0887\"], [0.1111111111111111, \"#46039f\"], [0.2222222222222222, \"#7201a8\"], [0.3333333333333333, \"#9c179e\"], [0.4444444444444444, \"#bd3786\"], [0.5555555555555556, \"#d8576b\"], [0.6666666666666666, \"#ed7953\"], [0.7777777777777778, \"#fb9f3a\"], [0.8888888888888888, \"#fdca26\"], [1.0, \"#f0f921\"]]}, \"colorway\": [\"#636efa\", \"#EF553B\", \"#00cc96\", \"#ab63fa\", \"#FFA15A\", \"#19d3f3\", \"#FF6692\", \"#B6E880\", \"#FF97FF\", \"#FECB52\"], \"font\": {\"color\": \"#2a3f5f\"}, \"geo\": {\"bgcolor\": \"white\", \"lakecolor\": \"white\", \"landcolor\": \"#E5ECF6\", \"showlakes\": true, \"showland\": true, \"subunitcolor\": \"white\"}, \"hoverlabel\": {\"align\": \"left\"}, \"hovermode\": \"closest\", \"mapbox\": {\"style\": \"light\"}, \"paper_bgcolor\": \"white\", \"plot_bgcolor\": \"#E5ECF6\", \"polar\": {\"angularaxis\": {\"gridcolor\": \"white\", \"linecolor\": \"white\", \"ticks\": \"\"}, \"bgcolor\": \"#E5ECF6\", \"radialaxis\": {\"gridcolor\": \"white\", \"linecolor\": \"white\", \"ticks\": \"\"}}, \"scene\": {\"xaxis\": {\"backgroundcolor\": \"#E5ECF6\", \"gridcolor\": \"white\", \"gridwidth\": 2, \"linecolor\": \"white\", \"showbackground\": true, \"ticks\": \"\", \"zerolinecolor\": \"white\"}, \"yaxis\": {\"backgroundcolor\": \"#E5ECF6\", \"gridcolor\": \"white\", \"gridwidth\": 2, \"linecolor\": \"white\", \"showbackground\": true, \"ticks\": \"\", \"zerolinecolor\": \"white\"}, \"zaxis\": {\"backgroundcolor\": \"#E5ECF6\", \"gridcolor\": \"white\", \"gridwidth\": 2, \"linecolor\": \"white\", \"showbackground\": true, \"ticks\": \"\", \"zerolinecolor\": \"white\"}}, \"shapedefaults\": {\"line\": {\"color\": \"#2a3f5f\"}}, \"ternary\": {\"aaxis\": {\"gridcolor\": \"white\", \"linecolor\": \"white\", \"ticks\": \"\"}, \"baxis\": {\"gridcolor\": \"white\", \"linecolor\": \"white\", \"ticks\": \"\"}, \"bgcolor\": \"#E5ECF6\", \"caxis\": {\"gridcolor\": \"white\", \"linecolor\": \"white\", \"ticks\": \"\"}}, \"title\": {\"x\": 0.05}, \"xaxis\": {\"automargin\": true, \"gridcolor\": \"white\", \"linecolor\": \"white\", \"ticks\": \"\", \"title\": {\"standoff\": 15}, \"zerolinecolor\": \"white\", \"zerolinewidth\": 2}, \"yaxis\": {\"automargin\": true, \"gridcolor\": \"white\", \"linecolor\": \"white\", \"ticks\": \"\", \"title\": {\"standoff\": 15}, \"zerolinecolor\": \"white\", \"zerolinewidth\": 2}}}, \"xaxis\": {\"linecolor\": \"rgb(204, 204, 204)\", \"linewidth\": 2, \"ticks\": \"outside\", \"title\": {\"text\": \"year\"}}, \"yaxis\": {\"linecolor\": \"rgb(204, 204, 204)\", \"linewidth\": 2, \"ticks\": \"outside\", \"title\": {\"text\": \"life expectancy\"}}},\n",
       "                        {\"responsive\": true}\n",
       "                    ).then(function(){\n",
       "                            \n",
       "var gd = document.getElementById('6a84b960-2d91-4961-b84a-564229c1b349');\n",
       "var x = new MutationObserver(function (mutations, observer) {{\n",
       "        var display = window.getComputedStyle(gd).display;\n",
       "        if (!display || display === 'none') {{\n",
       "            console.log([gd, 'removed!']);\n",
       "            Plotly.purge(gd);\n",
       "            observer.disconnect();\n",
       "        }}\n",
       "}});\n",
       "\n",
       "// Listen for the removal of the full notebook cells\n",
       "var notebookContainer = gd.closest('#notebook-container');\n",
       "if (notebookContainer) {{\n",
       "    x.observe(notebookContainer, {childList: true});\n",
       "}}\n",
       "\n",
       "// Listen for the clearing of the current output cell\n",
       "var outputEl = gd.closest('.output');\n",
       "if (outputEl) {{\n",
       "    x.observe(outputEl, {childList: true});\n",
       "}}\n",
       "\n",
       "                        })\n",
       "                };\n",
       "                });\n",
       "            </script>\n",
       "        </div>"
      ]
     },
     "metadata": {},
     "output_type": "display_data"
    }
   ],
   "source": [
    "scandinavians = ['Norway', 'Sweden', 'Denmark']\n",
    "is_scandinavia = europe['country'].isin(scandinavians)\n",
    "scandinavia = europe[is_scandinavia]\n",
    " \n",
    "fig = go.Figure()\n",
    "\n",
    "# Creating traces by looping over countries\n",
    "for country in scandinavians:\n",
    "    is_country = europe['country'] == country\n",
    "    trace = go.Scatter(x=europe[is_country]['year'],\n",
    "                    y=europe[is_country]['lifeExp'],\n",
    "                    mode=\"lines\",\n",
    "                    name=country)\n",
    "    fig.add_trace(trace)\n",
    "\n",
    "fig.update_layout(xaxis=dict(\n",
    "        title=\"year\",\n",
    "        linecolor='rgb(204, 204, 204)',\n",
    "        linewidth=2,\n",
    "        ticks='outside',\n",
    "    ),\n",
    "    yaxis=dict(\n",
    "        title=\"life expectancy\",\n",
    "        linecolor='rgb(204, 204, 204)',\n",
    "        linewidth=2,\n",
    "        ticks='outside',\n",
    "    ),\n",
    "    autosize=False,\n",
    ")\n",
    "\n",
    "fig.show()"
   ]
  },
  {
   "cell_type": "markdown",
   "metadata": {},
   "source": [
    "### Bar charts\n",
    "\n",
    "To illustrate bar charts we'll look at the GDP in Scandinavia over the years."
   ]
  },
  {
   "cell_type": "code",
   "execution_count": 120,
   "metadata": {},
   "outputs": [
    {
     "data": {
      "application/vnd.plotly.v1+json": {
       "config": {
        "plotlyServerURL": "https://plot.ly"
       },
       "data": [
        {
         "name": "Norway",
         "type": "bar",
         "x": [
          1952,
          1957,
          1962,
          1967,
          1972,
          1977,
          1982,
          1987,
          1992,
          1997,
          2002,
          2007
         ],
         "y": [
          10095.42172,
          11653.97304,
          13450.40151,
          16361.87647,
          18965.05551,
          23311.34939,
          26298.63531,
          31540.9748,
          33965.66115,
          41283.16433,
          44683.97525,
          49357.19017
         ]
        },
        {
         "name": "Sweden",
         "type": "bar",
         "x": [
          1952,
          1957,
          1962,
          1967,
          1972,
          1977,
          1982,
          1987,
          1992,
          1997,
          2002,
          2007
         ],
         "y": [
          8527.844662000001,
          9911.878226,
          12329.44192,
          15258.29697,
          17832.02464,
          18855.72521,
          20667.38125,
          23586.92927,
          23880.01683,
          25266.59499,
          29341.630930000007,
          33859.74835
         ]
        },
        {
         "name": "Denmark",
         "type": "bar",
         "x": [
          1952,
          1957,
          1962,
          1967,
          1972,
          1977,
          1982,
          1987,
          1992,
          1997,
          2002,
          2007
         ],
         "y": [
          9692.385245,
          11099.65935,
          13583.31351,
          15937.21123,
          18866.20721,
          20422.9015,
          21688.04048,
          25116.17581,
          26406.73985,
          29804.34567,
          32166.50006,
          35278.41874
         ]
        }
       ],
       "layout": {
        "autosize": false,
        "height": 450,
        "template": {
         "data": {
          "bar": [
           {
            "error_x": {
             "color": "#2a3f5f"
            },
            "error_y": {
             "color": "#2a3f5f"
            },
            "marker": {
             "line": {
              "color": "#E5ECF6",
              "width": 0.5
             }
            },
            "type": "bar"
           }
          ],
          "barpolar": [
           {
            "marker": {
             "line": {
              "color": "#E5ECF6",
              "width": 0.5
             }
            },
            "type": "barpolar"
           }
          ],
          "carpet": [
           {
            "aaxis": {
             "endlinecolor": "#2a3f5f",
             "gridcolor": "white",
             "linecolor": "white",
             "minorgridcolor": "white",
             "startlinecolor": "#2a3f5f"
            },
            "baxis": {
             "endlinecolor": "#2a3f5f",
             "gridcolor": "white",
             "linecolor": "white",
             "minorgridcolor": "white",
             "startlinecolor": "#2a3f5f"
            },
            "type": "carpet"
           }
          ],
          "choropleth": [
           {
            "colorbar": {
             "outlinewidth": 0,
             "ticks": ""
            },
            "type": "choropleth"
           }
          ],
          "contour": [
           {
            "colorbar": {
             "outlinewidth": 0,
             "ticks": ""
            },
            "colorscale": [
             [
              0,
              "#0d0887"
             ],
             [
              0.1111111111111111,
              "#46039f"
             ],
             [
              0.2222222222222222,
              "#7201a8"
             ],
             [
              0.3333333333333333,
              "#9c179e"
             ],
             [
              0.4444444444444444,
              "#bd3786"
             ],
             [
              0.5555555555555556,
              "#d8576b"
             ],
             [
              0.6666666666666666,
              "#ed7953"
             ],
             [
              0.7777777777777778,
              "#fb9f3a"
             ],
             [
              0.8888888888888888,
              "#fdca26"
             ],
             [
              1,
              "#f0f921"
             ]
            ],
            "type": "contour"
           }
          ],
          "contourcarpet": [
           {
            "colorbar": {
             "outlinewidth": 0,
             "ticks": ""
            },
            "type": "contourcarpet"
           }
          ],
          "heatmap": [
           {
            "colorbar": {
             "outlinewidth": 0,
             "ticks": ""
            },
            "colorscale": [
             [
              0,
              "#0d0887"
             ],
             [
              0.1111111111111111,
              "#46039f"
             ],
             [
              0.2222222222222222,
              "#7201a8"
             ],
             [
              0.3333333333333333,
              "#9c179e"
             ],
             [
              0.4444444444444444,
              "#bd3786"
             ],
             [
              0.5555555555555556,
              "#d8576b"
             ],
             [
              0.6666666666666666,
              "#ed7953"
             ],
             [
              0.7777777777777778,
              "#fb9f3a"
             ],
             [
              0.8888888888888888,
              "#fdca26"
             ],
             [
              1,
              "#f0f921"
             ]
            ],
            "type": "heatmap"
           }
          ],
          "heatmapgl": [
           {
            "colorbar": {
             "outlinewidth": 0,
             "ticks": ""
            },
            "colorscale": [
             [
              0,
              "#0d0887"
             ],
             [
              0.1111111111111111,
              "#46039f"
             ],
             [
              0.2222222222222222,
              "#7201a8"
             ],
             [
              0.3333333333333333,
              "#9c179e"
             ],
             [
              0.4444444444444444,
              "#bd3786"
             ],
             [
              0.5555555555555556,
              "#d8576b"
             ],
             [
              0.6666666666666666,
              "#ed7953"
             ],
             [
              0.7777777777777778,
              "#fb9f3a"
             ],
             [
              0.8888888888888888,
              "#fdca26"
             ],
             [
              1,
              "#f0f921"
             ]
            ],
            "type": "heatmapgl"
           }
          ],
          "histogram": [
           {
            "marker": {
             "colorbar": {
              "outlinewidth": 0,
              "ticks": ""
             }
            },
            "type": "histogram"
           }
          ],
          "histogram2d": [
           {
            "colorbar": {
             "outlinewidth": 0,
             "ticks": ""
            },
            "colorscale": [
             [
              0,
              "#0d0887"
             ],
             [
              0.1111111111111111,
              "#46039f"
             ],
             [
              0.2222222222222222,
              "#7201a8"
             ],
             [
              0.3333333333333333,
              "#9c179e"
             ],
             [
              0.4444444444444444,
              "#bd3786"
             ],
             [
              0.5555555555555556,
              "#d8576b"
             ],
             [
              0.6666666666666666,
              "#ed7953"
             ],
             [
              0.7777777777777778,
              "#fb9f3a"
             ],
             [
              0.8888888888888888,
              "#fdca26"
             ],
             [
              1,
              "#f0f921"
             ]
            ],
            "type": "histogram2d"
           }
          ],
          "histogram2dcontour": [
           {
            "colorbar": {
             "outlinewidth": 0,
             "ticks": ""
            },
            "colorscale": [
             [
              0,
              "#0d0887"
             ],
             [
              0.1111111111111111,
              "#46039f"
             ],
             [
              0.2222222222222222,
              "#7201a8"
             ],
             [
              0.3333333333333333,
              "#9c179e"
             ],
             [
              0.4444444444444444,
              "#bd3786"
             ],
             [
              0.5555555555555556,
              "#d8576b"
             ],
             [
              0.6666666666666666,
              "#ed7953"
             ],
             [
              0.7777777777777778,
              "#fb9f3a"
             ],
             [
              0.8888888888888888,
              "#fdca26"
             ],
             [
              1,
              "#f0f921"
             ]
            ],
            "type": "histogram2dcontour"
           }
          ],
          "mesh3d": [
           {
            "colorbar": {
             "outlinewidth": 0,
             "ticks": ""
            },
            "type": "mesh3d"
           }
          ],
          "parcoords": [
           {
            "line": {
             "colorbar": {
              "outlinewidth": 0,
              "ticks": ""
             }
            },
            "type": "parcoords"
           }
          ],
          "pie": [
           {
            "automargin": true,
            "type": "pie"
           }
          ],
          "scatter": [
           {
            "marker": {
             "colorbar": {
              "outlinewidth": 0,
              "ticks": ""
             }
            },
            "type": "scatter"
           }
          ],
          "scatter3d": [
           {
            "line": {
             "colorbar": {
              "outlinewidth": 0,
              "ticks": ""
             }
            },
            "marker": {
             "colorbar": {
              "outlinewidth": 0,
              "ticks": ""
             }
            },
            "type": "scatter3d"
           }
          ],
          "scattercarpet": [
           {
            "marker": {
             "colorbar": {
              "outlinewidth": 0,
              "ticks": ""
             }
            },
            "type": "scattercarpet"
           }
          ],
          "scattergeo": [
           {
            "marker": {
             "colorbar": {
              "outlinewidth": 0,
              "ticks": ""
             }
            },
            "type": "scattergeo"
           }
          ],
          "scattergl": [
           {
            "marker": {
             "colorbar": {
              "outlinewidth": 0,
              "ticks": ""
             }
            },
            "type": "scattergl"
           }
          ],
          "scattermapbox": [
           {
            "marker": {
             "colorbar": {
              "outlinewidth": 0,
              "ticks": ""
             }
            },
            "type": "scattermapbox"
           }
          ],
          "scatterpolar": [
           {
            "marker": {
             "colorbar": {
              "outlinewidth": 0,
              "ticks": ""
             }
            },
            "type": "scatterpolar"
           }
          ],
          "scatterpolargl": [
           {
            "marker": {
             "colorbar": {
              "outlinewidth": 0,
              "ticks": ""
             }
            },
            "type": "scatterpolargl"
           }
          ],
          "scatterternary": [
           {
            "marker": {
             "colorbar": {
              "outlinewidth": 0,
              "ticks": ""
             }
            },
            "type": "scatterternary"
           }
          ],
          "surface": [
           {
            "colorbar": {
             "outlinewidth": 0,
             "ticks": ""
            },
            "colorscale": [
             [
              0,
              "#0d0887"
             ],
             [
              0.1111111111111111,
              "#46039f"
             ],
             [
              0.2222222222222222,
              "#7201a8"
             ],
             [
              0.3333333333333333,
              "#9c179e"
             ],
             [
              0.4444444444444444,
              "#bd3786"
             ],
             [
              0.5555555555555556,
              "#d8576b"
             ],
             [
              0.6666666666666666,
              "#ed7953"
             ],
             [
              0.7777777777777778,
              "#fb9f3a"
             ],
             [
              0.8888888888888888,
              "#fdca26"
             ],
             [
              1,
              "#f0f921"
             ]
            ],
            "type": "surface"
           }
          ],
          "table": [
           {
            "cells": {
             "fill": {
              "color": "#EBF0F8"
             },
             "line": {
              "color": "white"
             }
            },
            "header": {
             "fill": {
              "color": "#C8D4E3"
             },
             "line": {
              "color": "white"
             }
            },
            "type": "table"
           }
          ]
         },
         "layout": {
          "annotationdefaults": {
           "arrowcolor": "#2a3f5f",
           "arrowhead": 0,
           "arrowwidth": 1
          },
          "coloraxis": {
           "colorbar": {
            "outlinewidth": 0,
            "ticks": ""
           }
          },
          "colorscale": {
           "diverging": [
            [
             0,
             "#8e0152"
            ],
            [
             0.1,
             "#c51b7d"
            ],
            [
             0.2,
             "#de77ae"
            ],
            [
             0.3,
             "#f1b6da"
            ],
            [
             0.4,
             "#fde0ef"
            ],
            [
             0.5,
             "#f7f7f7"
            ],
            [
             0.6,
             "#e6f5d0"
            ],
            [
             0.7,
             "#b8e186"
            ],
            [
             0.8,
             "#7fbc41"
            ],
            [
             0.9,
             "#4d9221"
            ],
            [
             1,
             "#276419"
            ]
           ],
           "sequential": [
            [
             0,
             "#0d0887"
            ],
            [
             0.1111111111111111,
             "#46039f"
            ],
            [
             0.2222222222222222,
             "#7201a8"
            ],
            [
             0.3333333333333333,
             "#9c179e"
            ],
            [
             0.4444444444444444,
             "#bd3786"
            ],
            [
             0.5555555555555556,
             "#d8576b"
            ],
            [
             0.6666666666666666,
             "#ed7953"
            ],
            [
             0.7777777777777778,
             "#fb9f3a"
            ],
            [
             0.8888888888888888,
             "#fdca26"
            ],
            [
             1,
             "#f0f921"
            ]
           ],
           "sequentialminus": [
            [
             0,
             "#0d0887"
            ],
            [
             0.1111111111111111,
             "#46039f"
            ],
            [
             0.2222222222222222,
             "#7201a8"
            ],
            [
             0.3333333333333333,
             "#9c179e"
            ],
            [
             0.4444444444444444,
             "#bd3786"
            ],
            [
             0.5555555555555556,
             "#d8576b"
            ],
            [
             0.6666666666666666,
             "#ed7953"
            ],
            [
             0.7777777777777778,
             "#fb9f3a"
            ],
            [
             0.8888888888888888,
             "#fdca26"
            ],
            [
             1,
             "#f0f921"
            ]
           ]
          },
          "colorway": [
           "#636efa",
           "#EF553B",
           "#00cc96",
           "#ab63fa",
           "#FFA15A",
           "#19d3f3",
           "#FF6692",
           "#B6E880",
           "#FF97FF",
           "#FECB52"
          ],
          "font": {
           "color": "#2a3f5f"
          },
          "geo": {
           "bgcolor": "white",
           "lakecolor": "white",
           "landcolor": "#E5ECF6",
           "showlakes": true,
           "showland": true,
           "subunitcolor": "white"
          },
          "hoverlabel": {
           "align": "left"
          },
          "hovermode": "closest",
          "mapbox": {
           "style": "light"
          },
          "paper_bgcolor": "white",
          "plot_bgcolor": "#E5ECF6",
          "polar": {
           "angularaxis": {
            "gridcolor": "white",
            "linecolor": "white",
            "ticks": ""
           },
           "bgcolor": "#E5ECF6",
           "radialaxis": {
            "gridcolor": "white",
            "linecolor": "white",
            "ticks": ""
           }
          },
          "scene": {
           "xaxis": {
            "backgroundcolor": "#E5ECF6",
            "gridcolor": "white",
            "gridwidth": 2,
            "linecolor": "white",
            "showbackground": true,
            "ticks": "",
            "zerolinecolor": "white"
           },
           "yaxis": {
            "backgroundcolor": "#E5ECF6",
            "gridcolor": "white",
            "gridwidth": 2,
            "linecolor": "white",
            "showbackground": true,
            "ticks": "",
            "zerolinecolor": "white"
           },
           "zaxis": {
            "backgroundcolor": "#E5ECF6",
            "gridcolor": "white",
            "gridwidth": 2,
            "linecolor": "white",
            "showbackground": true,
            "ticks": "",
            "zerolinecolor": "white"
           }
          },
          "shapedefaults": {
           "line": {
            "color": "#2a3f5f"
           }
          },
          "ternary": {
           "aaxis": {
            "gridcolor": "white",
            "linecolor": "white",
            "ticks": ""
           },
           "baxis": {
            "gridcolor": "white",
            "linecolor": "white",
            "ticks": ""
           },
           "bgcolor": "#E5ECF6",
           "caxis": {
            "gridcolor": "white",
            "linecolor": "white",
            "ticks": ""
           }
          },
          "title": {
           "x": 0.05
          },
          "xaxis": {
           "automargin": true,
           "gridcolor": "white",
           "linecolor": "white",
           "ticks": "",
           "title": {
            "standoff": 15
           },
           "zerolinecolor": "white",
           "zerolinewidth": 2
          },
          "yaxis": {
           "automargin": true,
           "gridcolor": "white",
           "linecolor": "white",
           "ticks": "",
           "title": {
            "standoff": 15
           },
           "zerolinecolor": "white",
           "zerolinewidth": 2
          }
         }
        },
        "width": 700,
        "xaxis": {
         "autorange": true,
         "linecolor": "rgb(204, 204, 204)",
         "linewidth": 2,
         "range": [
          1949.5,
          2009.5
         ],
         "ticks": "outside",
         "title": {
          "text": "year"
         },
         "type": "linear"
        },
        "yaxis": {
         "autorange": true,
         "linecolor": "rgb(204, 204, 204)",
         "linewidth": 2,
         "range": [
          0,
          51954.93702105263
         ],
         "ticks": "outside",
         "title": {
          "text": "GDP per capita"
         },
         "type": "linear"
        }
       }
      },
      "image/png": "[encoded data removed]",
      "text/html": [
       "<div>\n",
       "        \n",
       "        \n",
       "            <div id=\"0338799a-29b4-488e-af0c-495266d9fc5d\" class=\"plotly-graph-div\" style=\"height:525px; width:100%;\"></div>\n",
       "            <script type=\"text/javascript\">\n",
       "                require([\"plotly\"], function(Plotly) {\n",
       "                    window.PLOTLYENV=window.PLOTLYENV || {};\n",
       "                    \n",
       "                if (document.getElementById(\"0338799a-29b4-488e-af0c-495266d9fc5d\")) {\n",
       "                    Plotly.newPlot(\n",
       "                        '0338799a-29b4-488e-af0c-495266d9fc5d',\n",
       "                        [{\"name\": \"Norway\", \"type\": \"bar\", \"x\": [1952, 1957, 1962, 1967, 1972, 1977, 1982, 1987, 1992, 1997, 2002, 2007], \"y\": [10095.42172, 11653.97304, 13450.40151, 16361.87647, 18965.05551, 23311.34939, 26298.63531, 31540.9748, 33965.66115, 41283.16433, 44683.97525, 49357.19017]}, {\"name\": \"Sweden\", \"type\": \"bar\", \"x\": [1952, 1957, 1962, 1967, 1972, 1977, 1982, 1987, 1992, 1997, 2002, 2007], \"y\": [8527.844662000001, 9911.878226, 12329.44192, 15258.29697, 17832.02464, 18855.72521, 20667.38125, 23586.92927, 23880.01683, 25266.59499, 29341.630930000007, 33859.74835]}, {\"name\": \"Denmark\", \"type\": \"bar\", \"x\": [1952, 1957, 1962, 1967, 1972, 1977, 1982, 1987, 1992, 1997, 2002, 2007], \"y\": [9692.385245, 11099.65935, 13583.31351, 15937.21123, 18866.20721, 20422.9015, 21688.04048, 25116.17581, 26406.73985, 29804.34567, 32166.50006, 35278.41874]}],\n",
       "                        {\"autosize\": false, \"template\": {\"data\": {\"bar\": [{\"error_x\": {\"color\": \"#2a3f5f\"}, \"error_y\": {\"color\": \"#2a3f5f\"}, \"marker\": {\"line\": {\"color\": \"#E5ECF6\", \"width\": 0.5}}, \"type\": \"bar\"}], \"barpolar\": [{\"marker\": {\"line\": {\"color\": \"#E5ECF6\", \"width\": 0.5}}, \"type\": \"barpolar\"}], \"carpet\": [{\"aaxis\": {\"endlinecolor\": \"#2a3f5f\", \"gridcolor\": \"white\", \"linecolor\": \"white\", \"minorgridcolor\": \"white\", \"startlinecolor\": \"#2a3f5f\"}, \"baxis\": {\"endlinecolor\": \"#2a3f5f\", \"gridcolor\": \"white\", \"linecolor\": \"white\", \"minorgridcolor\": \"white\", \"startlinecolor\": \"#2a3f5f\"}, \"type\": \"carpet\"}], \"choropleth\": [{\"colorbar\": {\"outlinewidth\": 0, \"ticks\": \"\"}, \"type\": \"choropleth\"}], \"contour\": [{\"colorbar\": {\"outlinewidth\": 0, \"ticks\": \"\"}, \"colorscale\": [[0.0, \"#0d0887\"], [0.1111111111111111, \"#46039f\"], [0.2222222222222222, \"#7201a8\"], [0.3333333333333333, \"#9c179e\"], [0.4444444444444444, \"#bd3786\"], [0.5555555555555556, \"#d8576b\"], [0.6666666666666666, \"#ed7953\"], [0.7777777777777778, \"#fb9f3a\"], [0.8888888888888888, \"#fdca26\"], [1.0, \"#f0f921\"]], \"type\": \"contour\"}], \"contourcarpet\": [{\"colorbar\": {\"outlinewidth\": 0, \"ticks\": \"\"}, \"type\": \"contourcarpet\"}], \"heatmap\": [{\"colorbar\": {\"outlinewidth\": 0, \"ticks\": \"\"}, \"colorscale\": [[0.0, \"#0d0887\"], [0.1111111111111111, \"#46039f\"], [0.2222222222222222, \"#7201a8\"], [0.3333333333333333, \"#9c179e\"], [0.4444444444444444, \"#bd3786\"], [0.5555555555555556, \"#d8576b\"], [0.6666666666666666, \"#ed7953\"], [0.7777777777777778, \"#fb9f3a\"], [0.8888888888888888, \"#fdca26\"], [1.0, \"#f0f921\"]], \"type\": \"heatmap\"}], \"heatmapgl\": [{\"colorbar\": {\"outlinewidth\": 0, \"ticks\": \"\"}, \"colorscale\": [[0.0, \"#0d0887\"], [0.1111111111111111, \"#46039f\"], [0.2222222222222222, \"#7201a8\"], [0.3333333333333333, \"#9c179e\"], [0.4444444444444444, \"#bd3786\"], [0.5555555555555556, \"#d8576b\"], [0.6666666666666666, \"#ed7953\"], [0.7777777777777778, \"#fb9f3a\"], [0.8888888888888888, \"#fdca26\"], [1.0, \"#f0f921\"]], \"type\": \"heatmapgl\"}], \"histogram\": [{\"marker\": {\"colorbar\": {\"outlinewidth\": 0, \"ticks\": \"\"}}, \"type\": \"histogram\"}], \"histogram2d\": [{\"colorbar\": {\"outlinewidth\": 0, \"ticks\": \"\"}, \"colorscale\": [[0.0, \"#0d0887\"], [0.1111111111111111, \"#46039f\"], [0.2222222222222222, \"#7201a8\"], [0.3333333333333333, \"#9c179e\"], [0.4444444444444444, \"#bd3786\"], [0.5555555555555556, \"#d8576b\"], [0.6666666666666666, \"#ed7953\"], [0.7777777777777778, \"#fb9f3a\"], [0.8888888888888888, \"#fdca26\"], [1.0, \"#f0f921\"]], \"type\": \"histogram2d\"}], \"histogram2dcontour\": [{\"colorbar\": {\"outlinewidth\": 0, \"ticks\": \"\"}, \"colorscale\": [[0.0, \"#0d0887\"], [0.1111111111111111, \"#46039f\"], [0.2222222222222222, \"#7201a8\"], [0.3333333333333333, \"#9c179e\"], [0.4444444444444444, \"#bd3786\"], [0.5555555555555556, \"#d8576b\"], [0.6666666666666666, \"#ed7953\"], [0.7777777777777778, \"#fb9f3a\"], [0.8888888888888888, \"#fdca26\"], [1.0, \"#f0f921\"]], \"type\": \"histogram2dcontour\"}], \"mesh3d\": [{\"colorbar\": {\"outlinewidth\": 0, \"ticks\": \"\"}, \"type\": \"mesh3d\"}], \"parcoords\": [{\"line\": {\"colorbar\": {\"outlinewidth\": 0, \"ticks\": \"\"}}, \"type\": \"parcoords\"}], \"pie\": [{\"automargin\": true, \"type\": \"pie\"}], \"scatter\": [{\"marker\": {\"colorbar\": {\"outlinewidth\": 0, \"ticks\": \"\"}}, \"type\": \"scatter\"}], \"scatter3d\": [{\"line\": {\"colorbar\": {\"outlinewidth\": 0, \"ticks\": \"\"}}, \"marker\": {\"colorbar\": {\"outlinewidth\": 0, \"ticks\": \"\"}}, \"type\": \"scatter3d\"}], \"scattercarpet\": [{\"marker\": {\"colorbar\": {\"outlinewidth\": 0, \"ticks\": \"\"}}, \"type\": \"scattercarpet\"}], \"scattergeo\": [{\"marker\": {\"colorbar\": {\"outlinewidth\": 0, \"ticks\": \"\"}}, \"type\": \"scattergeo\"}], \"scattergl\": [{\"marker\": {\"colorbar\": {\"outlinewidth\": 0, \"ticks\": \"\"}}, \"type\": \"scattergl\"}], \"scattermapbox\": [{\"marker\": {\"colorbar\": {\"outlinewidth\": 0, \"ticks\": \"\"}}, \"type\": \"scattermapbox\"}], \"scatterpolar\": [{\"marker\": {\"colorbar\": {\"outlinewidth\": 0, \"ticks\": \"\"}}, \"type\": \"scatterpolar\"}], \"scatterpolargl\": [{\"marker\": {\"colorbar\": {\"outlinewidth\": 0, \"ticks\": \"\"}}, \"type\": \"scatterpolargl\"}], \"scatterternary\": [{\"marker\": {\"colorbar\": {\"outlinewidth\": 0, \"ticks\": \"\"}}, \"type\": \"scatterternary\"}], \"surface\": [{\"colorbar\": {\"outlinewidth\": 0, \"ticks\": \"\"}, \"colorscale\": [[0.0, \"#0d0887\"], [0.1111111111111111, \"#46039f\"], [0.2222222222222222, \"#7201a8\"], [0.3333333333333333, \"#9c179e\"], [0.4444444444444444, \"#bd3786\"], [0.5555555555555556, \"#d8576b\"], [0.6666666666666666, \"#ed7953\"], [0.7777777777777778, \"#fb9f3a\"], [0.8888888888888888, \"#fdca26\"], [1.0, \"#f0f921\"]], \"type\": \"surface\"}], \"table\": [{\"cells\": {\"fill\": {\"color\": \"#EBF0F8\"}, \"line\": {\"color\": \"white\"}}, \"header\": {\"fill\": {\"color\": \"#C8D4E3\"}, \"line\": {\"color\": \"white\"}}, \"type\": \"table\"}]}, \"layout\": {\"annotationdefaults\": {\"arrowcolor\": \"#2a3f5f\", \"arrowhead\": 0, \"arrowwidth\": 1}, \"coloraxis\": {\"colorbar\": {\"outlinewidth\": 0, \"ticks\": \"\"}}, \"colorscale\": {\"diverging\": [[0, \"#8e0152\"], [0.1, \"#c51b7d\"], [0.2, \"#de77ae\"], [0.3, \"#f1b6da\"], [0.4, \"#fde0ef\"], [0.5, \"#f7f7f7\"], [0.6, \"#e6f5d0\"], [0.7, \"#b8e186\"], [0.8, \"#7fbc41\"], [0.9, \"#4d9221\"], [1, \"#276419\"]], \"sequential\": [[0.0, \"#0d0887\"], [0.1111111111111111, \"#46039f\"], [0.2222222222222222, \"#7201a8\"], [0.3333333333333333, \"#9c179e\"], [0.4444444444444444, \"#bd3786\"], [0.5555555555555556, \"#d8576b\"], [0.6666666666666666, \"#ed7953\"], [0.7777777777777778, \"#fb9f3a\"], [0.8888888888888888, \"#fdca26\"], [1.0, \"#f0f921\"]], \"sequentialminus\": [[0.0, \"#0d0887\"], [0.1111111111111111, \"#46039f\"], [0.2222222222222222, \"#7201a8\"], [0.3333333333333333, \"#9c179e\"], [0.4444444444444444, \"#bd3786\"], [0.5555555555555556, \"#d8576b\"], [0.6666666666666666, \"#ed7953\"], [0.7777777777777778, \"#fb9f3a\"], [0.8888888888888888, \"#fdca26\"], [1.0, \"#f0f921\"]]}, \"colorway\": [\"#636efa\", \"#EF553B\", \"#00cc96\", \"#ab63fa\", \"#FFA15A\", \"#19d3f3\", \"#FF6692\", \"#B6E880\", \"#FF97FF\", \"#FECB52\"], \"font\": {\"color\": \"#2a3f5f\"}, \"geo\": {\"bgcolor\": \"white\", \"lakecolor\": \"white\", \"landcolor\": \"#E5ECF6\", \"showlakes\": true, \"showland\": true, \"subunitcolor\": \"white\"}, \"hoverlabel\": {\"align\": \"left\"}, \"hovermode\": \"closest\", \"mapbox\": {\"style\": \"light\"}, \"paper_bgcolor\": \"white\", \"plot_bgcolor\": \"#E5ECF6\", \"polar\": {\"angularaxis\": {\"gridcolor\": \"white\", \"linecolor\": \"white\", \"ticks\": \"\"}, \"bgcolor\": \"#E5ECF6\", \"radialaxis\": {\"gridcolor\": \"white\", \"linecolor\": \"white\", \"ticks\": \"\"}}, \"scene\": {\"xaxis\": {\"backgroundcolor\": \"#E5ECF6\", \"gridcolor\": \"white\", \"gridwidth\": 2, \"linecolor\": \"white\", \"showbackground\": true, \"ticks\": \"\", \"zerolinecolor\": \"white\"}, \"yaxis\": {\"backgroundcolor\": \"#E5ECF6\", \"gridcolor\": \"white\", \"gridwidth\": 2, \"linecolor\": \"white\", \"showbackground\": true, \"ticks\": \"\", \"zerolinecolor\": \"white\"}, \"zaxis\": {\"backgroundcolor\": \"#E5ECF6\", \"gridcolor\": \"white\", \"gridwidth\": 2, \"linecolor\": \"white\", \"showbackground\": true, \"ticks\": \"\", \"zerolinecolor\": \"white\"}}, \"shapedefaults\": {\"line\": {\"color\": \"#2a3f5f\"}}, \"ternary\": {\"aaxis\": {\"gridcolor\": \"white\", \"linecolor\": \"white\", \"ticks\": \"\"}, \"baxis\": {\"gridcolor\": \"white\", \"linecolor\": \"white\", \"ticks\": \"\"}, \"bgcolor\": \"#E5ECF6\", \"caxis\": {\"gridcolor\": \"white\", \"linecolor\": \"white\", \"ticks\": \"\"}}, \"title\": {\"x\": 0.05}, \"xaxis\": {\"automargin\": true, \"gridcolor\": \"white\", \"linecolor\": \"white\", \"ticks\": \"\", \"title\": {\"standoff\": 15}, \"zerolinecolor\": \"white\", \"zerolinewidth\": 2}, \"yaxis\": {\"automargin\": true, \"gridcolor\": \"white\", \"linecolor\": \"white\", \"ticks\": \"\", \"title\": {\"standoff\": 15}, \"zerolinecolor\": \"white\", \"zerolinewidth\": 2}}}, \"xaxis\": {\"linecolor\": \"rgb(204, 204, 204)\", \"linewidth\": 2, \"ticks\": \"outside\", \"title\": {\"text\": \"year\"}}, \"yaxis\": {\"linecolor\": \"rgb(204, 204, 204)\", \"linewidth\": 2, \"ticks\": \"outside\", \"title\": {\"text\": \"GDP per capita\"}}},\n",
       "                        {\"responsive\": true}\n",
       "                    ).then(function(){\n",
       "                            \n",
       "var gd = document.getElementById('0338799a-29b4-488e-af0c-495266d9fc5d');\n",
       "var x = new MutationObserver(function (mutations, observer) {{\n",
       "        var display = window.getComputedStyle(gd).display;\n",
       "        if (!display || display === 'none') {{\n",
       "            console.log([gd, 'removed!']);\n",
       "            Plotly.purge(gd);\n",
       "            observer.disconnect();\n",
       "        }}\n",
       "}});\n",
       "\n",
       "// Listen for the removal of the full notebook cells\n",
       "var notebookContainer = gd.closest('#notebook-container');\n",
       "if (notebookContainer) {{\n",
       "    x.observe(notebookContainer, {childList: true});\n",
       "}}\n",
       "\n",
       "// Listen for the clearing of the current output cell\n",
       "var outputEl = gd.closest('.output');\n",
       "if (outputEl) {{\n",
       "    x.observe(outputEl, {childList: true});\n",
       "}}\n",
       "\n",
       "                        })\n",
       "                };\n",
       "                });\n",
       "            </script>\n",
       "        </div>"
      ]
     },
     "metadata": {},
     "output_type": "display_data"
    }
   ],
   "source": [
    "fig = go.Figure()\n",
    "\n",
    "# Creating traces by looping over countries\n",
    "for country in scandinavians:\n",
    "    is_country = europe['country'] == country\n",
    "    trace = go.Bar(x=europe[is_country]['year'],\n",
    "                    y=europe[is_country]['gdpPercap'],\n",
    "                    name=country)\n",
    "    fig.add_trace(trace)\n",
    "\n",
    "fig.update_layout(xaxis=dict(\n",
    "        title=\"year\",\n",
    "        linecolor='rgb(204, 204, 204)',\n",
    "        linewidth=2,\n",
    "        ticks='outside',\n",
    "    ),\n",
    "    yaxis=dict(\n",
    "        title=\"GDP per capita\",\n",
    "        linecolor='rgb(204, 204, 204)',\n",
    "        linewidth=2,\n",
    "        ticks='outside',\n",
    "    ),\n",
    "    autosize=False,\n",
    ")\n",
    "\n",
    "fig.show()"
   ]
  },
  {
   "cell_type": "markdown",
   "metadata": {},
   "source": [
    "### Bubble plots\n",
    "\n",
    "To illustrate scatter plots we'll look at life expectancy vs. income per country, where we'll scale the bubble by population size. This is the most well known graphic by Gapminder."
   ]
  },
  {
   "cell_type": "code",
   "execution_count": 124,
   "metadata": {},
   "outputs": [
    {
     "name": "stderr",
     "output_type": "stream",
     "text": [
      "/home/alexandra/anaconda3/envs/data_analysis/lib/python3.7/site-packages/ipykernel_launcher.py:22: SettingWithCopyWarning:\n",
      "\n",
      "\n",
      "A value is trying to be set on a copy of a slice from a DataFrame.\n",
      "Try using .loc[row_indexer,col_indexer] = value instead\n",
      "\n",
      "See the caveats in the documentation: http://pandas.pydata.org/pandas-docs/stable/user_guide/indexing.html#returning-a-view-versus-a-copy\n",
      "\n"
     ]
    },
    {
     "data": {
      "application/vnd.plotly.v1+json": {
       "config": {
        "plotlyServerURL": "https://plot.ly"
       },
       "data": [
        {
         "marker": {
          "line": {
           "width": 2
          },
          "size": [
           25268405,
           656397,
           135656790,
           12926707,
           1280400000,
           6762476,
           1034172547,
           211060000,
           66907826,
           24001816,
           6029529,
           127065841,
           5307470,
           22215365,
           47969150,
           2111561,
           3677780,
           22662365,
           2674234,
           45598081,
           25873917,
           2713462,
           153403524,
           82995088,
           24501530,
           4197776,
           19576783,
           17155814,
           22454239,
           62806748,
           80908147,
           3389578,
           18701257
          ],
          "sizemode": "area",
          "sizeref": 390935.84
         },
         "mode": "markers",
         "name": "Asia",
         "text": [
          "Country: Afghanistan<br>Life Expectancy: 42.129<br>GDP per capita: 726.7340548<br>Population: 25268405<br>Year: 2002",
          "Country: Bahrain<br>Life Expectancy: 74.795<br>GDP per capita: 23403.55927<br>Population: 656397<br>Year: 2002",
          "Country: Bangladesh<br>Life Expectancy: 62.01300000000001<br>GDP per capita: 1136.3904300000004<br>Population: 135656790<br>Year: 2002",
          "Country: Cambodia<br>Life Expectancy: 56.752<br>GDP per capita: 896.2260152999999<br>Population: 12926707<br>Year: 2002",
          "Country: China<br>Life Expectancy: 72.028<br>GDP per capita: 3119.280896<br>Population: 1280400000<br>Year: 2002",
          "Country: Hong Kong, China<br>Life Expectancy: 81.495<br>GDP per capita: 30209.015160000006<br>Population: 6762476<br>Year: 2002",
          "Country: India<br>Life Expectancy: 62.879<br>GDP per capita: 1746.769454<br>Population: 1034172547<br>Year: 2002",
          "Country: Indonesia<br>Life Expectancy: 68.58800000000001<br>GDP per capita: 2873.91287<br>Population: 211060000<br>Year: 2002",
          "Country: Iran<br>Life Expectancy: 69.45100000000001<br>GDP per capita: 9240.761975<br>Population: 66907826<br>Year: 2002",
          "Country: Iraq<br>Life Expectancy: 57.04600000000001<br>GDP per capita: 4390.717312<br>Population: 24001816<br>Year: 2002",
          "Country: Israel<br>Life Expectancy: 79.696<br>GDP per capita: 21905.59514<br>Population: 6029529<br>Year: 2002",
          "Country: Japan<br>Life Expectancy: 82.0<br>GDP per capita: 28604.5919<br>Population: 127065841<br>Year: 2002",
          "Country: Jordan<br>Life Expectancy: 71.263<br>GDP per capita: 3844.917194<br>Population: 5307470<br>Year: 2002",
          "Country: Korea, Dem. Rep.<br>Life Expectancy: 66.66199999999999<br>GDP per capita: 1646.758151<br>Population: 22215365<br>Year: 2002",
          "Country: Korea, Rep.<br>Life Expectancy: 77.045<br>GDP per capita: 19233.98818<br>Population: 47969150<br>Year: 2002",
          "Country: Kuwait<br>Life Expectancy: 76.904<br>GDP per capita: 35110.10566<br>Population: 2111561<br>Year: 2002",
          "Country: Lebanon<br>Life Expectancy: 71.028<br>GDP per capita: 9313.93883<br>Population: 3677780<br>Year: 2002",
          "Country: Malaysia<br>Life Expectancy: 73.044<br>GDP per capita: 10206.97794<br>Population: 22662365<br>Year: 2002",
          "Country: Mongolia<br>Life Expectancy: 65.033<br>GDP per capita: 2140.739323<br>Population: 2674234<br>Year: 2002",
          "Country: Myanmar<br>Life Expectancy: 59.908<br>GDP per capita: 611.0<br>Population: 45598081<br>Year: 2002",
          "Country: Nepal<br>Life Expectancy: 61.34<br>GDP per capita: 1057.206311<br>Population: 25873917<br>Year: 2002",
          "Country: Oman<br>Life Expectancy: 74.193<br>GDP per capita: 19774.83687<br>Population: 2713462<br>Year: 2002",
          "Country: Pakistan<br>Life Expectancy: 63.61<br>GDP per capita: 2092.712441<br>Population: 153403524<br>Year: 2002",
          "Country: Philippines<br>Life Expectancy: 70.303<br>GDP per capita: 2650.921068<br>Population: 82995088<br>Year: 2002",
          "Country: Saudi Arabia<br>Life Expectancy: 71.626<br>GDP per capita: 19014.54118<br>Population: 24501530<br>Year: 2002",
          "Country: Singapore<br>Life Expectancy: 78.77<br>GDP per capita: 36023.1054<br>Population: 4197776<br>Year: 2002",
          "Country: Sri Lanka<br>Life Expectancy: 70.815<br>GDP per capita: 3015.378833<br>Population: 19576783<br>Year: 2002",
          "Country: Syria<br>Life Expectancy: 73.053<br>GDP per capita: 4090.925331<br>Population: 17155814<br>Year: 2002",
          "Country: Taiwan<br>Life Expectancy: 76.99<br>GDP per capita: 23235.42329<br>Population: 22454239<br>Year: 2002",
          "Country: Thailand<br>Life Expectancy: 68.564<br>GDP per capita: 5913.187529<br>Population: 62806748<br>Year: 2002",
          "Country: Vietnam<br>Life Expectancy: 73.017<br>GDP per capita: 1764.456677<br>Population: 80908147<br>Year: 2002",
          "Country: West Bank and Gaza<br>Life Expectancy: 72.37<br>GDP per capita: 4515.487575<br>Population: 3389578<br>Year: 2002",
          "Country: Yemen, Rep.<br>Life Expectancy: 60.308<br>GDP per capita: 2234.820827<br>Population: 18701257<br>Year: 2002"
         ],
         "type": "scatter",
         "x": [
          726.7340548,
          23403.55927,
          1136.3904300000004,
          896.2260152999999,
          3119.280896,
          30209.015160000006,
          1746.769454,
          2873.91287,
          9240.761975,
          4390.717312,
          21905.59514,
          28604.5919,
          3844.917194,
          1646.758151,
          19233.98818,
          35110.10566,
          9313.93883,
          10206.97794,
          2140.739323,
          611,
          1057.206311,
          19774.83687,
          2092.712441,
          2650.921068,
          19014.54118,
          36023.1054,
          3015.378833,
          4090.925331,
          23235.42329,
          5913.187529,
          1764.456677,
          4515.487575,
          2234.820827
         ],
         "y": [
          42.129,
          74.795,
          62.01300000000001,
          56.752,
          72.028,
          81.495,
          62.879,
          68.58800000000001,
          69.45100000000001,
          57.04600000000001,
          79.696,
          82,
          71.263,
          66.66199999999999,
          77.045,
          76.904,
          71.028,
          73.044,
          65.033,
          59.908,
          61.34,
          74.193,
          63.61,
          70.303,
          71.626,
          78.77,
          70.815,
          73.053,
          76.99,
          68.564,
          73.017,
          72.37,
          60.308
         ]
        },
        {
         "marker": {
          "line": {
           "width": 2
          },
          "size": [
           3508512,
           8148312,
           10311970,
           4165416,
           7661799,
           4481020,
           10256295,
           5374693,
           5193039,
           59925035,
           82350671,
           10603863,
           10083313,
           288030,
           3879155,
           57926999,
           720230,
           16122830,
           4535591,
           38625976,
           10433867,
           22404337,
           10111559,
           5410052,
           2011497,
           40152517,
           8954175,
           7361757,
           67308928,
           59912431
          ],
          "sizemode": "area",
          "sizeref": 390935.84
         },
         "mode": "markers",
         "name": "Europe",
         "text": [
          "Country: Albania<br>Life Expectancy: 75.65100000000002<br>GDP per capita: 4604.211737<br>Population: 3508512<br>Year: 2002",
          "Country: Austria<br>Life Expectancy: 78.98<br>GDP per capita: 32417.60769<br>Population: 8148312<br>Year: 2002",
          "Country: Belgium<br>Life Expectancy: 78.32<br>GDP per capita: 30485.88375<br>Population: 10311970<br>Year: 2002",
          "Country: Bosnia and Herzegovina<br>Life Expectancy: 74.09<br>GDP per capita: 6018.975239<br>Population: 4165416<br>Year: 2002",
          "Country: Bulgaria<br>Life Expectancy: 72.14<br>GDP per capita: 7696.777725<br>Population: 7661799<br>Year: 2002",
          "Country: Croatia<br>Life Expectancy: 74.876<br>GDP per capita: 11628.38895<br>Population: 4481020<br>Year: 2002",
          "Country: Czech Republic<br>Life Expectancy: 75.51<br>GDP per capita: 17596.210219999994<br>Population: 10256295<br>Year: 2002",
          "Country: Denmark<br>Life Expectancy: 77.18<br>GDP per capita: 32166.50006<br>Population: 5374693<br>Year: 2002",
          "Country: Finland<br>Life Expectancy: 78.37<br>GDP per capita: 28204.59057<br>Population: 5193039<br>Year: 2002",
          "Country: France<br>Life Expectancy: 79.59<br>GDP per capita: 28926.03234<br>Population: 59925035<br>Year: 2002",
          "Country: Germany<br>Life Expectancy: 78.67<br>GDP per capita: 30035.80198<br>Population: 82350671<br>Year: 2002",
          "Country: Greece<br>Life Expectancy: 78.256<br>GDP per capita: 22514.2548<br>Population: 10603863<br>Year: 2002",
          "Country: Hungary<br>Life Expectancy: 72.59<br>GDP per capita: 14843.93556<br>Population: 10083313<br>Year: 2002",
          "Country: Iceland<br>Life Expectancy: 80.5<br>GDP per capita: 31163.20196<br>Population: 288030<br>Year: 2002",
          "Country: Ireland<br>Life Expectancy: 77.783<br>GDP per capita: 34077.04939<br>Population: 3879155<br>Year: 2002",
          "Country: Italy<br>Life Expectancy: 80.24<br>GDP per capita: 27968.09817<br>Population: 57926999<br>Year: 2002",
          "Country: Montenegro<br>Life Expectancy: 73.98100000000002<br>GDP per capita: 6557.194282<br>Population: 720230<br>Year: 2002",
          "Country: Netherlands<br>Life Expectancy: 78.53<br>GDP per capita: 33724.75778<br>Population: 16122830<br>Year: 2002",
          "Country: Norway<br>Life Expectancy: 79.05<br>GDP per capita: 44683.97525<br>Population: 4535591<br>Year: 2002",
          "Country: Poland<br>Life Expectancy: 74.67<br>GDP per capita: 12002.23908<br>Population: 38625976<br>Year: 2002",
          "Country: Portugal<br>Life Expectancy: 77.29<br>GDP per capita: 19970.90787<br>Population: 10433867<br>Year: 2002",
          "Country: Romania<br>Life Expectancy: 71.322<br>GDP per capita: 7885.360081<br>Population: 22404337<br>Year: 2002",
          "Country: Serbia<br>Life Expectancy: 73.21300000000002<br>GDP per capita: 7236.075251<br>Population: 10111559<br>Year: 2002",
          "Country: Slovak Republic<br>Life Expectancy: 73.8<br>GDP per capita: 13638.778369999998<br>Population: 5410052<br>Year: 2002",
          "Country: Slovenia<br>Life Expectancy: 76.66<br>GDP per capita: 20660.01936<br>Population: 2011497<br>Year: 2002",
          "Country: Spain<br>Life Expectancy: 79.78<br>GDP per capita: 24835.47166<br>Population: 40152517<br>Year: 2002",
          "Country: Sweden<br>Life Expectancy: 80.04<br>GDP per capita: 29341.630930000007<br>Population: 8954175<br>Year: 2002",
          "Country: Switzerland<br>Life Expectancy: 80.62<br>GDP per capita: 34480.95771<br>Population: 7361757<br>Year: 2002",
          "Country: Turkey<br>Life Expectancy: 70.845<br>GDP per capita: 6508.085718<br>Population: 67308928<br>Year: 2002",
          "Country: United Kingdom<br>Life Expectancy: 78.471<br>GDP per capita: 29478.99919<br>Population: 59912431<br>Year: 2002"
         ],
         "type": "scatter",
         "x": [
          4604.211737,
          32417.60769,
          30485.88375,
          6018.975239,
          7696.777725,
          11628.38895,
          17596.210219999994,
          32166.50006,
          28204.59057,
          28926.03234,
          30035.80198,
          22514.2548,
          14843.93556,
          31163.20196,
          34077.04939,
          27968.09817,
          6557.194282,
          33724.75778,
          44683.97525,
          12002.23908,
          19970.90787,
          7885.360081,
          7236.075251,
          13638.778369999998,
          20660.01936,
          24835.47166,
          29341.630930000007,
          34480.95771,
          6508.085718,
          29478.99919
         ],
         "y": [
          75.65100000000002,
          78.98,
          78.32,
          74.09,
          72.14,
          74.876,
          75.51,
          77.18,
          78.37,
          79.59,
          78.67,
          78.256,
          72.59,
          80.5,
          77.783,
          80.24,
          73.98100000000002,
          78.53,
          79.05,
          74.67,
          77.29,
          71.322,
          73.21300000000002,
          73.8,
          76.66,
          79.78,
          80.04,
          80.62,
          70.845,
          78.471
         ]
        },
        {
         "marker": {
          "line": {
           "width": 2
          },
          "size": [
           31287142,
           10866106,
           7026113,
           1630347,
           12251209,
           7021078,
           15929988,
           4048013,
           8835739,
           614382,
           55379852,
           3328795,
           16252726,
           447416,
           73312559,
           495627,
           4414865,
           67946797,
           1299304,
           1457766,
           20550751,
           8807818,
           1332459,
           31386842,
           2046772,
           2814651,
           5368585,
           16473477,
           11824495,
           10580176,
           2828858,
           1200206,
           31167783,
           18473780,
           1972153,
           11140655,
           119901274,
           743981,
           7852401,
           170372,
           10870037,
           5359092,
           7753310,
           44433622,
           37090298,
           1130269,
           34593779,
           4977378,
           9770575,
           24739869,
           10595811,
           11926563
          ],
          "sizemode": "area",
          "sizeref": 390935.84
         },
         "mode": "markers",
         "name": "Africa",
         "text": [
          "Country: Algeria<br>Life Expectancy: 70.994<br>GDP per capita: 5288.040382<br>Population: 31287142<br>Year: 2002",
          "Country: Angola<br>Life Expectancy: 41.003<br>GDP per capita: 2773.287312<br>Population: 10866106<br>Year: 2002",
          "Country: Benin<br>Life Expectancy: 54.40600000000001<br>GDP per capita: 1372.877931<br>Population: 7026113<br>Year: 2002",
          "Country: Botswana<br>Life Expectancy: 46.63399999999999<br>GDP per capita: 11003.60508<br>Population: 1630347<br>Year: 2002",
          "Country: Burkina Faso<br>Life Expectancy: 50.65<br>GDP per capita: 1037.645221<br>Population: 12251209<br>Year: 2002",
          "Country: Burundi<br>Life Expectancy: 47.36<br>GDP per capita: 446.4035126<br>Population: 7021078<br>Year: 2002",
          "Country: Cameroon<br>Life Expectancy: 49.856<br>GDP per capita: 1934.011449<br>Population: 15929988<br>Year: 2002",
          "Country: Central African Republic<br>Life Expectancy: 43.308<br>GDP per capita: 738.6906068<br>Population: 4048013<br>Year: 2002",
          "Country: Chad<br>Life Expectancy: 50.525<br>GDP per capita: 1156.18186<br>Population: 8835739<br>Year: 2002",
          "Country: Comoros<br>Life Expectancy: 62.974<br>GDP per capita: 1075.811558<br>Population: 614382<br>Year: 2002",
          "Country: Congo, Dem. Rep.<br>Life Expectancy: 44.966<br>GDP per capita: 241.1658765<br>Population: 55379852<br>Year: 2002",
          "Country: Congo, Rep.<br>Life Expectancy: 52.97<br>GDP per capita: 3484.06197<br>Population: 3328795<br>Year: 2002",
          "Country: Cote d'Ivoire<br>Life Expectancy: 46.832<br>GDP per capita: 1648.800823<br>Population: 16252726<br>Year: 2002",
          "Country: Djibouti<br>Life Expectancy: 53.37300000000001<br>GDP per capita: 1908.260867<br>Population: 447416<br>Year: 2002",
          "Country: Egypt<br>Life Expectancy: 69.806<br>GDP per capita: 4754.604414<br>Population: 73312559<br>Year: 2002",
          "Country: Equatorial Guinea<br>Life Expectancy: 49.348<br>GDP per capita: 7703.4959<br>Population: 495627<br>Year: 2002",
          "Country: Eritrea<br>Life Expectancy: 55.24<br>GDP per capita: 765.3500015<br>Population: 4414865<br>Year: 2002",
          "Country: Ethiopia<br>Life Expectancy: 50.725<br>GDP per capita: 530.0535319<br>Population: 67946797<br>Year: 2002",
          "Country: Gabon<br>Life Expectancy: 56.761<br>GDP per capita: 12521.71392<br>Population: 1299304<br>Year: 2002",
          "Country: Gambia<br>Life Expectancy: 58.041<br>GDP per capita: 660.5855997<br>Population: 1457766<br>Year: 2002",
          "Country: Ghana<br>Life Expectancy: 58.453<br>GDP per capita: 1111.9845779999996<br>Population: 20550751<br>Year: 2002",
          "Country: Guinea<br>Life Expectancy: 53.676<br>GDP per capita: 945.5835837<br>Population: 8807818<br>Year: 2002",
          "Country: Guinea-Bissau<br>Life Expectancy: 45.504<br>GDP per capita: 575.7047176<br>Population: 1332459<br>Year: 2002",
          "Country: Kenya<br>Life Expectancy: 50.992<br>GDP per capita: 1287.514732<br>Population: 31386842<br>Year: 2002",
          "Country: Lesotho<br>Life Expectancy: 44.593<br>GDP per capita: 1275.184575<br>Population: 2046772<br>Year: 2002",
          "Country: Liberia<br>Life Expectancy: 43.753<br>GDP per capita: 531.4823679<br>Population: 2814651<br>Year: 2002",
          "Country: Libya<br>Life Expectancy: 72.737<br>GDP per capita: 9534.677467<br>Population: 5368585<br>Year: 2002",
          "Country: Madagascar<br>Life Expectancy: 57.286<br>GDP per capita: 894.6370822<br>Population: 16473477<br>Year: 2002",
          "Country: Malawi<br>Life Expectancy: 45.00899999999999<br>GDP per capita: 665.4231186000002<br>Population: 11824495<br>Year: 2002",
          "Country: Mali<br>Life Expectancy: 51.81800000000001<br>GDP per capita: 951.4097518<br>Population: 10580176<br>Year: 2002",
          "Country: Mauritania<br>Life Expectancy: 62.247<br>GDP per capita: 1579.019543<br>Population: 2828858<br>Year: 2002",
          "Country: Mauritius<br>Life Expectancy: 71.954<br>GDP per capita: 9021.815894<br>Population: 1200206<br>Year: 2002",
          "Country: Morocco<br>Life Expectancy: 69.615<br>GDP per capita: 3258.495584<br>Population: 31167783<br>Year: 2002",
          "Country: Mozambique<br>Life Expectancy: 44.026<br>GDP per capita: 633.6179466<br>Population: 18473780<br>Year: 2002",
          "Country: Namibia<br>Life Expectancy: 51.479<br>GDP per capita: 4072.324751<br>Population: 1972153<br>Year: 2002",
          "Country: Niger<br>Life Expectancy: 54.496<br>GDP per capita: 601.0745012<br>Population: 11140655<br>Year: 2002",
          "Country: Nigeria<br>Life Expectancy: 46.608<br>GDP per capita: 1615.286395<br>Population: 119901274<br>Year: 2002",
          "Country: Reunion<br>Life Expectancy: 75.744<br>GDP per capita: 6316.1652<br>Population: 743981<br>Year: 2002",
          "Country: Rwanda<br>Life Expectancy: 43.413<br>GDP per capita: 785.6537647999999<br>Population: 7852401<br>Year: 2002",
          "Country: Sao Tome and Principe<br>Life Expectancy: 64.337<br>GDP per capita: 1353.09239<br>Population: 170372<br>Year: 2002",
          "Country: Senegal<br>Life Expectancy: 61.6<br>GDP per capita: 1519.635262<br>Population: 10870037<br>Year: 2002",
          "Country: Sierra Leone<br>Life Expectancy: 41.012<br>GDP per capita: 699.4897129999998<br>Population: 5359092<br>Year: 2002",
          "Country: Somalia<br>Life Expectancy: 45.93600000000001<br>GDP per capita: 882.0818218000002<br>Population: 7753310<br>Year: 2002",
          "Country: South Africa<br>Life Expectancy: 53.365<br>GDP per capita: 7710.946444<br>Population: 44433622<br>Year: 2002",
          "Country: Sudan<br>Life Expectancy: 56.369<br>GDP per capita: 1993.398314<br>Population: 37090298<br>Year: 2002",
          "Country: Swaziland<br>Life Expectancy: 43.869<br>GDP per capita: 4128.116943<br>Population: 1130269<br>Year: 2002",
          "Country: Tanzania<br>Life Expectancy: 49.651<br>GDP per capita: 899.0742111<br>Population: 34593779<br>Year: 2002",
          "Country: Togo<br>Life Expectancy: 57.56100000000001<br>GDP per capita: 886.2205765000001<br>Population: 4977378<br>Year: 2002",
          "Country: Tunisia<br>Life Expectancy: 73.042<br>GDP per capita: 5722.895654999998<br>Population: 9770575<br>Year: 2002",
          "Country: Uganda<br>Life Expectancy: 47.813<br>GDP per capita: 927.7210018<br>Population: 24739869<br>Year: 2002",
          "Country: Zambia<br>Life Expectancy: 39.19300000000001<br>GDP per capita: 1071.6139380000004<br>Population: 10595811<br>Year: 2002",
          "Country: Zimbabwe<br>Life Expectancy: 39.989<br>GDP per capita: 672.0386227000001<br>Population: 11926563<br>Year: 2002"
         ],
         "type": "scatter",
         "x": [
          5288.040382,
          2773.287312,
          1372.877931,
          11003.60508,
          1037.645221,
          446.4035126,
          1934.011449,
          738.6906068,
          1156.18186,
          1075.811558,
          241.1658765,
          3484.06197,
          1648.800823,
          1908.260867,
          4754.604414,
          7703.4959,
          765.3500015,
          530.0535319,
          12521.71392,
          660.5855997,
          1111.9845779999996,
          945.5835837,
          575.7047176,
          1287.514732,
          1275.184575,
          531.4823679,
          9534.677467,
          894.6370822,
          665.4231186000002,
          951.4097518,
          1579.019543,
          9021.815894,
          3258.495584,
          633.6179466,
          4072.324751,
          601.0745012,
          1615.286395,
          6316.1652,
          785.6537647999999,
          1353.09239,
          1519.635262,
          699.4897129999998,
          882.0818218000002,
          7710.946444,
          1993.398314,
          4128.116943,
          899.0742111,
          886.2205765000001,
          5722.895654999998,
          927.7210018,
          1071.6139380000004,
          672.0386227000001
         ],
         "y": [
          70.994,
          41.003,
          54.40600000000001,
          46.63399999999999,
          50.65,
          47.36,
          49.856,
          43.308,
          50.525,
          62.974,
          44.966,
          52.97,
          46.832,
          53.37300000000001,
          69.806,
          49.348,
          55.24,
          50.725,
          56.761,
          58.041,
          58.453,
          53.676,
          45.504,
          50.992,
          44.593,
          43.753,
          72.737,
          57.286,
          45.00899999999999,
          51.81800000000001,
          62.247,
          71.954,
          69.615,
          44.026,
          51.479,
          54.496,
          46.608,
          75.744,
          43.413,
          64.337,
          61.6,
          41.012,
          45.93600000000001,
          53.365,
          56.369,
          43.869,
          49.651,
          57.56100000000001,
          73.042,
          47.813,
          39.19300000000001,
          39.989
         ]
        },
        {
         "marker": {
          "line": {
           "width": 2
          },
          "size": [
           38331121,
           8445134,
           179914212,
           31902268,
           15497046,
           41008227,
           3834934,
           11226999,
           8650322,
           12921234,
           6353681,
           11178650,
           7607651,
           6677328,
           2664659,
           102479927,
           5146848,
           2990875,
           5884491,
           26769436,
           3859606,
           1101832,
           287675526,
           3363085,
           24287670
          ],
          "sizemode": "area",
          "sizeref": 390935.84
         },
         "mode": "markers",
         "name": "Americas",
         "text": [
          "Country: Argentina<br>Life Expectancy: 74.34<br>GDP per capita: 8797.640716<br>Population: 38331121<br>Year: 2002",
          "Country: Bolivia<br>Life Expectancy: 63.883<br>GDP per capita: 3413.26269<br>Population: 8445134<br>Year: 2002",
          "Country: Brazil<br>Life Expectancy: 71.006<br>GDP per capita: 8131.212843000001<br>Population: 179914212<br>Year: 2002",
          "Country: Canada<br>Life Expectancy: 79.77<br>GDP per capita: 33328.96507<br>Population: 31902268<br>Year: 2002",
          "Country: Chile<br>Life Expectancy: 77.86<br>GDP per capita: 10778.78385<br>Population: 15497046<br>Year: 2002",
          "Country: Colombia<br>Life Expectancy: 71.682<br>GDP per capita: 5755.259962<br>Population: 41008227<br>Year: 2002",
          "Country: Costa Rica<br>Life Expectancy: 78.123<br>GDP per capita: 7723.447195000002<br>Population: 3834934<br>Year: 2002",
          "Country: Cuba<br>Life Expectancy: 77.158<br>GDP per capita: 6340.646683<br>Population: 11226999<br>Year: 2002",
          "Country: Dominican Republic<br>Life Expectancy: 70.847<br>GDP per capita: 4563.808154<br>Population: 8650322<br>Year: 2002",
          "Country: Ecuador<br>Life Expectancy: 74.173<br>GDP per capita: 5773.044512<br>Population: 12921234<br>Year: 2002",
          "Country: El Salvador<br>Life Expectancy: 70.734<br>GDP per capita: 5351.568665999999<br>Population: 6353681<br>Year: 2002",
          "Country: Guatemala<br>Life Expectancy: 68.97800000000001<br>GDP per capita: 4858.347495<br>Population: 11178650<br>Year: 2002",
          "Country: Haiti<br>Life Expectancy: 58.137<br>GDP per capita: 1270.364932<br>Population: 7607651<br>Year: 2002",
          "Country: Honduras<br>Life Expectancy: 68.565<br>GDP per capita: 3099.72866<br>Population: 6677328<br>Year: 2002",
          "Country: Jamaica<br>Life Expectancy: 72.047<br>GDP per capita: 6994.774861<br>Population: 2664659<br>Year: 2002",
          "Country: Mexico<br>Life Expectancy: 74.902<br>GDP per capita: 10742.44053<br>Population: 102479927<br>Year: 2002",
          "Country: Nicaragua<br>Life Expectancy: 70.836<br>GDP per capita: 2474.548819<br>Population: 5146848<br>Year: 2002",
          "Country: Panama<br>Life Expectancy: 74.712<br>GDP per capita: 7356.0319340000015<br>Population: 2990875<br>Year: 2002",
          "Country: Paraguay<br>Life Expectancy: 70.755<br>GDP per capita: 3783.674243<br>Population: 5884491<br>Year: 2002",
          "Country: Peru<br>Life Expectancy: 69.906<br>GDP per capita: 5909.020073<br>Population: 26769436<br>Year: 2002",
          "Country: Puerto Rico<br>Life Expectancy: 77.778<br>GDP per capita: 18855.60618<br>Population: 3859606<br>Year: 2002",
          "Country: Trinidad and Tobago<br>Life Expectancy: 68.976<br>GDP per capita: 11460.60023<br>Population: 1101832<br>Year: 2002",
          "Country: United States<br>Life Expectancy: 77.31<br>GDP per capita: 39097.09955<br>Population: 287675526<br>Year: 2002",
          "Country: Uruguay<br>Life Expectancy: 75.307<br>GDP per capita: 7727.002004000001<br>Population: 3363085<br>Year: 2002",
          "Country: Venezuela<br>Life Expectancy: 72.766<br>GDP per capita: 8605.047831<br>Population: 24287670<br>Year: 2002"
         ],
         "type": "scatter",
         "x": [
          8797.640716,
          3413.26269,
          8131.212843000001,
          33328.96507,
          10778.78385,
          5755.259962,
          7723.447195000002,
          6340.646683,
          4563.808154,
          5773.044512,
          5351.568665999999,
          4858.347495,
          1270.364932,
          3099.72866,
          6994.774861,
          10742.44053,
          2474.548819,
          7356.0319340000015,
          3783.674243,
          5909.020073,
          18855.60618,
          11460.60023,
          39097.09955,
          7727.002004000001,
          8605.047831
         ],
         "y": [
          74.34,
          63.883,
          71.006,
          79.77,
          77.86,
          71.682,
          78.123,
          77.158,
          70.847,
          74.173,
          70.734,
          68.97800000000001,
          58.137,
          68.565,
          72.047,
          74.902,
          70.836,
          74.712,
          70.755,
          69.906,
          77.778,
          68.976,
          77.31,
          75.307,
          72.766
         ]
        },
        {
         "marker": {
          "line": {
           "width": 2
          },
          "size": [
           19546792,
           3908037
          ],
          "sizemode": "area",
          "sizeref": 390935.84
         },
         "mode": "markers",
         "name": "Oceania",
         "text": [
          "Country: Australia<br>Life Expectancy: 80.37<br>GDP per capita: 30687.75473<br>Population: 19546792<br>Year: 2002",
          "Country: New Zealand<br>Life Expectancy: 79.11<br>GDP per capita: 23189.80135<br>Population: 3908037<br>Year: 2002"
         ],
         "type": "scatter",
         "x": [
          30687.75473,
          23189.80135
         ],
         "y": [
          80.37,
          79.11
         ]
        }
       ],
       "layout": {
        "autosize": false,
        "height": 450,
        "template": {
         "data": {
          "bar": [
           {
            "error_x": {
             "color": "#2a3f5f"
            },
            "error_y": {
             "color": "#2a3f5f"
            },
            "marker": {
             "line": {
              "color": "#E5ECF6",
              "width": 0.5
             }
            },
            "type": "bar"
           }
          ],
          "barpolar": [
           {
            "marker": {
             "line": {
              "color": "#E5ECF6",
              "width": 0.5
             }
            },
            "type": "barpolar"
           }
          ],
          "carpet": [
           {
            "aaxis": {
             "endlinecolor": "#2a3f5f",
             "gridcolor": "white",
             "linecolor": "white",
             "minorgridcolor": "white",
             "startlinecolor": "#2a3f5f"
            },
            "baxis": {
             "endlinecolor": "#2a3f5f",
             "gridcolor": "white",
             "linecolor": "white",
             "minorgridcolor": "white",
             "startlinecolor": "#2a3f5f"
            },
            "type": "carpet"
           }
          ],
          "choropleth": [
           {
            "colorbar": {
             "outlinewidth": 0,
             "ticks": ""
            },
            "type": "choropleth"
           }
          ],
          "contour": [
           {
            "colorbar": {
             "outlinewidth": 0,
             "ticks": ""
            },
            "colorscale": [
             [
              0,
              "#0d0887"
             ],
             [
              0.1111111111111111,
              "#46039f"
             ],
             [
              0.2222222222222222,
              "#7201a8"
             ],
             [
              0.3333333333333333,
              "#9c179e"
             ],
             [
              0.4444444444444444,
              "#bd3786"
             ],
             [
              0.5555555555555556,
              "#d8576b"
             ],
             [
              0.6666666666666666,
              "#ed7953"
             ],
             [
              0.7777777777777778,
              "#fb9f3a"
             ],
             [
              0.8888888888888888,
              "#fdca26"
             ],
             [
              1,
              "#f0f921"
             ]
            ],
            "type": "contour"
           }
          ],
          "contourcarpet": [
           {
            "colorbar": {
             "outlinewidth": 0,
             "ticks": ""
            },
            "type": "contourcarpet"
           }
          ],
          "heatmap": [
           {
            "colorbar": {
             "outlinewidth": 0,
             "ticks": ""
            },
            "colorscale": [
             [
              0,
              "#0d0887"
             ],
             [
              0.1111111111111111,
              "#46039f"
             ],
             [
              0.2222222222222222,
              "#7201a8"
             ],
             [
              0.3333333333333333,
              "#9c179e"
             ],
             [
              0.4444444444444444,
              "#bd3786"
             ],
             [
              0.5555555555555556,
              "#d8576b"
             ],
             [
              0.6666666666666666,
              "#ed7953"
             ],
             [
              0.7777777777777778,
              "#fb9f3a"
             ],
             [
              0.8888888888888888,
              "#fdca26"
             ],
             [
              1,
              "#f0f921"
             ]
            ],
            "type": "heatmap"
           }
          ],
          "heatmapgl": [
           {
            "colorbar": {
             "outlinewidth": 0,
             "ticks": ""
            },
            "colorscale": [
             [
              0,
              "#0d0887"
             ],
             [
              0.1111111111111111,
              "#46039f"
             ],
             [
              0.2222222222222222,
              "#7201a8"
             ],
             [
              0.3333333333333333,
              "#9c179e"
             ],
             [
              0.4444444444444444,
              "#bd3786"
             ],
             [
              0.5555555555555556,
              "#d8576b"
             ],
             [
              0.6666666666666666,
              "#ed7953"
             ],
             [
              0.7777777777777778,
              "#fb9f3a"
             ],
             [
              0.8888888888888888,
              "#fdca26"
             ],
             [
              1,
              "#f0f921"
             ]
            ],
            "type": "heatmapgl"
           }
          ],
          "histogram": [
           {
            "marker": {
             "colorbar": {
              "outlinewidth": 0,
              "ticks": ""
             }
            },
            "type": "histogram"
           }
          ],
          "histogram2d": [
           {
            "colorbar": {
             "outlinewidth": 0,
             "ticks": ""
            },
            "colorscale": [
             [
              0,
              "#0d0887"
             ],
             [
              0.1111111111111111,
              "#46039f"
             ],
             [
              0.2222222222222222,
              "#7201a8"
             ],
             [
              0.3333333333333333,
              "#9c179e"
             ],
             [
              0.4444444444444444,
              "#bd3786"
             ],
             [
              0.5555555555555556,
              "#d8576b"
             ],
             [
              0.6666666666666666,
              "#ed7953"
             ],
             [
              0.7777777777777778,
              "#fb9f3a"
             ],
             [
              0.8888888888888888,
              "#fdca26"
             ],
             [
              1,
              "#f0f921"
             ]
            ],
            "type": "histogram2d"
           }
          ],
          "histogram2dcontour": [
           {
            "colorbar": {
             "outlinewidth": 0,
             "ticks": ""
            },
            "colorscale": [
             [
              0,
              "#0d0887"
             ],
             [
              0.1111111111111111,
              "#46039f"
             ],
             [
              0.2222222222222222,
              "#7201a8"
             ],
             [
              0.3333333333333333,
              "#9c179e"
             ],
             [
              0.4444444444444444,
              "#bd3786"
             ],
             [
              0.5555555555555556,
              "#d8576b"
             ],
             [
              0.6666666666666666,
              "#ed7953"
             ],
             [
              0.7777777777777778,
              "#fb9f3a"
             ],
             [
              0.8888888888888888,
              "#fdca26"
             ],
             [
              1,
              "#f0f921"
             ]
            ],
            "type": "histogram2dcontour"
           }
          ],
          "mesh3d": [
           {
            "colorbar": {
             "outlinewidth": 0,
             "ticks": ""
            },
            "type": "mesh3d"
           }
          ],
          "parcoords": [
           {
            "line": {
             "colorbar": {
              "outlinewidth": 0,
              "ticks": ""
             }
            },
            "type": "parcoords"
           }
          ],
          "pie": [
           {
            "automargin": true,
            "type": "pie"
           }
          ],
          "scatter": [
           {
            "marker": {
             "colorbar": {
              "outlinewidth": 0,
              "ticks": ""
             }
            },
            "type": "scatter"
           }
          ],
          "scatter3d": [
           {
            "line": {
             "colorbar": {
              "outlinewidth": 0,
              "ticks": ""
             }
            },
            "marker": {
             "colorbar": {
              "outlinewidth": 0,
              "ticks": ""
             }
            },
            "type": "scatter3d"
           }
          ],
          "scattercarpet": [
           {
            "marker": {
             "colorbar": {
              "outlinewidth": 0,
              "ticks": ""
             }
            },
            "type": "scattercarpet"
           }
          ],
          "scattergeo": [
           {
            "marker": {
             "colorbar": {
              "outlinewidth": 0,
              "ticks": ""
             }
            },
            "type": "scattergeo"
           }
          ],
          "scattergl": [
           {
            "marker": {
             "colorbar": {
              "outlinewidth": 0,
              "ticks": ""
             }
            },
            "type": "scattergl"
           }
          ],
          "scattermapbox": [
           {
            "marker": {
             "colorbar": {
              "outlinewidth": 0,
              "ticks": ""
             }
            },
            "type": "scattermapbox"
           }
          ],
          "scatterpolar": [
           {
            "marker": {
             "colorbar": {
              "outlinewidth": 0,
              "ticks": ""
             }
            },
            "type": "scatterpolar"
           }
          ],
          "scatterpolargl": [
           {
            "marker": {
             "colorbar": {
              "outlinewidth": 0,
              "ticks": ""
             }
            },
            "type": "scatterpolargl"
           }
          ],
          "scatterternary": [
           {
            "marker": {
             "colorbar": {
              "outlinewidth": 0,
              "ticks": ""
             }
            },
            "type": "scatterternary"
           }
          ],
          "surface": [
           {
            "colorbar": {
             "outlinewidth": 0,
             "ticks": ""
            },
            "colorscale": [
             [
              0,
              "#0d0887"
             ],
             [
              0.1111111111111111,
              "#46039f"
             ],
             [
              0.2222222222222222,
              "#7201a8"
             ],
             [
              0.3333333333333333,
              "#9c179e"
             ],
             [
              0.4444444444444444,
              "#bd3786"
             ],
             [
              0.5555555555555556,
              "#d8576b"
             ],
             [
              0.6666666666666666,
              "#ed7953"
             ],
             [
              0.7777777777777778,
              "#fb9f3a"
             ],
             [
              0.8888888888888888,
              "#fdca26"
             ],
             [
              1,
              "#f0f921"
             ]
            ],
            "type": "surface"
           }
          ],
          "table": [
           {
            "cells": {
             "fill": {
              "color": "#EBF0F8"
             },
             "line": {
              "color": "white"
             }
            },
            "header": {
             "fill": {
              "color": "#C8D4E3"
             },
             "line": {
              "color": "white"
             }
            },
            "type": "table"
           }
          ]
         },
         "layout": {
          "annotationdefaults": {
           "arrowcolor": "#2a3f5f",
           "arrowhead": 0,
           "arrowwidth": 1
          },
          "coloraxis": {
           "colorbar": {
            "outlinewidth": 0,
            "ticks": ""
           }
          },
          "colorscale": {
           "diverging": [
            [
             0,
             "#8e0152"
            ],
            [
             0.1,
             "#c51b7d"
            ],
            [
             0.2,
             "#de77ae"
            ],
            [
             0.3,
             "#f1b6da"
            ],
            [
             0.4,
             "#fde0ef"
            ],
            [
             0.5,
             "#f7f7f7"
            ],
            [
             0.6,
             "#e6f5d0"
            ],
            [
             0.7,
             "#b8e186"
            ],
            [
             0.8,
             "#7fbc41"
            ],
            [
             0.9,
             "#4d9221"
            ],
            [
             1,
             "#276419"
            ]
           ],
           "sequential": [
            [
             0,
             "#0d0887"
            ],
            [
             0.1111111111111111,
             "#46039f"
            ],
            [
             0.2222222222222222,
             "#7201a8"
            ],
            [
             0.3333333333333333,
             "#9c179e"
            ],
            [
             0.4444444444444444,
             "#bd3786"
            ],
            [
             0.5555555555555556,
             "#d8576b"
            ],
            [
             0.6666666666666666,
             "#ed7953"
            ],
            [
             0.7777777777777778,
             "#fb9f3a"
            ],
            [
             0.8888888888888888,
             "#fdca26"
            ],
            [
             1,
             "#f0f921"
            ]
           ],
           "sequentialminus": [
            [
             0,
             "#0d0887"
            ],
            [
             0.1111111111111111,
             "#46039f"
            ],
            [
             0.2222222222222222,
             "#7201a8"
            ],
            [
             0.3333333333333333,
             "#9c179e"
            ],
            [
             0.4444444444444444,
             "#bd3786"
            ],
            [
             0.5555555555555556,
             "#d8576b"
            ],
            [
             0.6666666666666666,
             "#ed7953"
            ],
            [
             0.7777777777777778,
             "#fb9f3a"
            ],
            [
             0.8888888888888888,
             "#fdca26"
            ],
            [
             1,
             "#f0f921"
            ]
           ]
          },
          "colorway": [
           "#636efa",
           "#EF553B",
           "#00cc96",
           "#ab63fa",
           "#FFA15A",
           "#19d3f3",
           "#FF6692",
           "#B6E880",
           "#FF97FF",
           "#FECB52"
          ],
          "font": {
           "color": "#2a3f5f"
          },
          "geo": {
           "bgcolor": "white",
           "lakecolor": "white",
           "landcolor": "#E5ECF6",
           "showlakes": true,
           "showland": true,
           "subunitcolor": "white"
          },
          "hoverlabel": {
           "align": "left"
          },
          "hovermode": "closest",
          "mapbox": {
           "style": "light"
          },
          "paper_bgcolor": "white",
          "plot_bgcolor": "#E5ECF6",
          "polar": {
           "angularaxis": {
            "gridcolor": "white",
            "linecolor": "white",
            "ticks": ""
           },
           "bgcolor": "#E5ECF6",
           "radialaxis": {
            "gridcolor": "white",
            "linecolor": "white",
            "ticks": ""
           }
          },
          "scene": {
           "xaxis": {
            "backgroundcolor": "#E5ECF6",
            "gridcolor": "white",
            "gridwidth": 2,
            "linecolor": "white",
            "showbackground": true,
            "ticks": "",
            "zerolinecolor": "white"
           },
           "yaxis": {
            "backgroundcolor": "#E5ECF6",
            "gridcolor": "white",
            "gridwidth": 2,
            "linecolor": "white",
            "showbackground": true,
            "ticks": "",
            "zerolinecolor": "white"
           },
           "zaxis": {
            "backgroundcolor": "#E5ECF6",
            "gridcolor": "white",
            "gridwidth": 2,
            "linecolor": "white",
            "showbackground": true,
            "ticks": "",
            "zerolinecolor": "white"
           }
          },
          "shapedefaults": {
           "line": {
            "color": "#2a3f5f"
           }
          },
          "ternary": {
           "aaxis": {
            "gridcolor": "white",
            "linecolor": "white",
            "ticks": ""
           },
           "baxis": {
            "gridcolor": "white",
            "linecolor": "white",
            "ticks": ""
           },
           "bgcolor": "#E5ECF6",
           "caxis": {
            "gridcolor": "white",
            "linecolor": "white",
            "ticks": ""
           }
          },
          "title": {
           "x": 0.05
          },
          "xaxis": {
           "automargin": true,
           "gridcolor": "white",
           "linecolor": "white",
           "ticks": "",
           "title": {
            "standoff": 15
           },
           "zerolinecolor": "white",
           "zerolinewidth": 2
          },
          "yaxis": {
           "automargin": true,
           "gridcolor": "white",
           "linecolor": "white",
           "ticks": "",
           "title": {
            "standoff": 15
           },
           "zerolinecolor": "white",
           "zerolinewidth": 2
          }
         }
        },
        "width": 700,
        "xaxis": {
         "autorange": true,
         "linecolor": "rgb(204, 204, 204)",
         "linewidth": 2,
         "range": [
          -5191.591234126039,
          47642.6952956685
         ],
         "ticks": "outside",
         "title": {
          "text": "GDP per capita"
         },
         "type": "linear"
        },
        "yaxis": {
         "autorange": true,
         "linecolor": "rgb(204, 204, 204)",
         "linewidth": 2,
         "range": [
          35.83603494871941,
          87.28873725334148
         ],
         "ticks": "outside",
         "title": {
          "text": "life expectancy"
         },
         "type": "linear"
        }
       }
      },
      "image/png": "[encoded data removed]",
      "text/html": [
       "<div>\n",
       "        \n",
       "        \n",
       "            <div id=\"3d412ce4-2b73-4019-83f6-88d47c655ed5\" class=\"plotly-graph-div\" style=\"height:525px; width:100%;\"></div>\n",
       "            <script type=\"text/javascript\">\n",
       "                require([\"plotly\"], function(Plotly) {\n",
       "                    window.PLOTLYENV=window.PLOTLYENV || {};\n",
       "                    \n",
       "                if (document.getElementById(\"3d412ce4-2b73-4019-83f6-88d47c655ed5\")) {\n",
       "                    Plotly.newPlot(\n",
       "                        '3d412ce4-2b73-4019-83f6-88d47c655ed5',\n",
       "                        [{\"marker\": {\"line\": {\"width\": 2}, \"size\": [25268405, 656397, 135656790, 12926707, 1280400000, 6762476, 1034172547, 211060000, 66907826, 24001816, 6029529, 127065841, 5307470, 22215365, 47969150, 2111561, 3677780, 22662365, 2674234, 45598081, 25873917, 2713462, 153403524, 82995088, 24501530, 4197776, 19576783, 17155814, 22454239, 62806748, 80908147, 3389578, 18701257], \"sizemode\": \"area\", \"sizeref\": 390935.84}, \"mode\": \"markers\", \"name\": \"Asia\", \"text\": [\"Country: Afghanistan<br>Life Expectancy: 42.129<br>GDP per capita: 726.7340548<br>Population: 25268405<br>Year: 2002\", \"Country: Bahrain<br>Life Expectancy: 74.795<br>GDP per capita: 23403.55927<br>Population: 656397<br>Year: 2002\", \"Country: Bangladesh<br>Life Expectancy: 62.01300000000001<br>GDP per capita: 1136.3904300000004<br>Population: 135656790<br>Year: 2002\", \"Country: Cambodia<br>Life Expectancy: 56.752<br>GDP per capita: 896.2260152999999<br>Population: 12926707<br>Year: 2002\", \"Country: China<br>Life Expectancy: 72.028<br>GDP per capita: 3119.280896<br>Population: 1280400000<br>Year: 2002\", \"Country: Hong Kong, China<br>Life Expectancy: 81.495<br>GDP per capita: 30209.015160000006<br>Population: 6762476<br>Year: 2002\", \"Country: India<br>Life Expectancy: 62.879<br>GDP per capita: 1746.769454<br>Population: 1034172547<br>Year: 2002\", \"Country: Indonesia<br>Life Expectancy: 68.58800000000001<br>GDP per capita: 2873.91287<br>Population: 211060000<br>Year: 2002\", \"Country: Iran<br>Life Expectancy: 69.45100000000001<br>GDP per capita: 9240.761975<br>Population: 66907826<br>Year: 2002\", \"Country: Iraq<br>Life Expectancy: 57.04600000000001<br>GDP per capita: 4390.717312<br>Population: 24001816<br>Year: 2002\", \"Country: Israel<br>Life Expectancy: 79.696<br>GDP per capita: 21905.59514<br>Population: 6029529<br>Year: 2002\", \"Country: Japan<br>Life Expectancy: 82.0<br>GDP per capita: 28604.5919<br>Population: 127065841<br>Year: 2002\", \"Country: Jordan<br>Life Expectancy: 71.263<br>GDP per capita: 3844.917194<br>Population: 5307470<br>Year: 2002\", \"Country: Korea, Dem. Rep.<br>Life Expectancy: 66.66199999999999<br>GDP per capita: 1646.758151<br>Population: 22215365<br>Year: 2002\", \"Country: Korea, Rep.<br>Life Expectancy: 77.045<br>GDP per capita: 19233.98818<br>Population: 47969150<br>Year: 2002\", \"Country: Kuwait<br>Life Expectancy: 76.904<br>GDP per capita: 35110.10566<br>Population: 2111561<br>Year: 2002\", \"Country: Lebanon<br>Life Expectancy: 71.028<br>GDP per capita: 9313.93883<br>Population: 3677780<br>Year: 2002\", \"Country: Malaysia<br>Life Expectancy: 73.044<br>GDP per capita: 10206.97794<br>Population: 22662365<br>Year: 2002\", \"Country: Mongolia<br>Life Expectancy: 65.033<br>GDP per capita: 2140.739323<br>Population: 2674234<br>Year: 2002\", \"Country: Myanmar<br>Life Expectancy: 59.908<br>GDP per capita: 611.0<br>Population: 45598081<br>Year: 2002\", \"Country: Nepal<br>Life Expectancy: 61.34<br>GDP per capita: 1057.206311<br>Population: 25873917<br>Year: 2002\", \"Country: Oman<br>Life Expectancy: 74.193<br>GDP per capita: 19774.83687<br>Population: 2713462<br>Year: 2002\", \"Country: Pakistan<br>Life Expectancy: 63.61<br>GDP per capita: 2092.712441<br>Population: 153403524<br>Year: 2002\", \"Country: Philippines<br>Life Expectancy: 70.303<br>GDP per capita: 2650.921068<br>Population: 82995088<br>Year: 2002\", \"Country: Saudi Arabia<br>Life Expectancy: 71.626<br>GDP per capita: 19014.54118<br>Population: 24501530<br>Year: 2002\", \"Country: Singapore<br>Life Expectancy: 78.77<br>GDP per capita: 36023.1054<br>Population: 4197776<br>Year: 2002\", \"Country: Sri Lanka<br>Life Expectancy: 70.815<br>GDP per capita: 3015.378833<br>Population: 19576783<br>Year: 2002\", \"Country: Syria<br>Life Expectancy: 73.053<br>GDP per capita: 4090.925331<br>Population: 17155814<br>Year: 2002\", \"Country: Taiwan<br>Life Expectancy: 76.99<br>GDP per capita: 23235.42329<br>Population: 22454239<br>Year: 2002\", \"Country: Thailand<br>Life Expectancy: 68.564<br>GDP per capita: 5913.187529<br>Population: 62806748<br>Year: 2002\", \"Country: Vietnam<br>Life Expectancy: 73.017<br>GDP per capita: 1764.456677<br>Population: 80908147<br>Year: 2002\", \"Country: West Bank and Gaza<br>Life Expectancy: 72.37<br>GDP per capita: 4515.487575<br>Population: 3389578<br>Year: 2002\", \"Country: Yemen, Rep.<br>Life Expectancy: 60.308<br>GDP per capita: 2234.820827<br>Population: 18701257<br>Year: 2002\"], \"type\": \"scatter\", \"x\": [726.7340548, 23403.55927, 1136.3904300000004, 896.2260152999999, 3119.280896, 30209.015160000006, 1746.769454, 2873.91287, 9240.761975, 4390.717312, 21905.59514, 28604.5919, 3844.917194, 1646.758151, 19233.98818, 35110.10566, 9313.93883, 10206.97794, 2140.739323, 611.0, 1057.206311, 19774.83687, 2092.712441, 2650.921068, 19014.54118, 36023.1054, 3015.378833, 4090.925331, 23235.42329, 5913.187529, 1764.456677, 4515.487575, 2234.820827], \"y\": [42.129, 74.795, 62.01300000000001, 56.752, 72.028, 81.495, 62.879, 68.58800000000001, 69.45100000000001, 57.04600000000001, 79.696, 82.0, 71.263, 66.66199999999999, 77.045, 76.904, 71.028, 73.044, 65.033, 59.908, 61.34, 74.193, 63.61, 70.303, 71.626, 78.77, 70.815, 73.053, 76.99, 68.564, 73.017, 72.37, 60.308]}, {\"marker\": {\"line\": {\"width\": 2}, \"size\": [3508512, 8148312, 10311970, 4165416, 7661799, 4481020, 10256295, 5374693, 5193039, 59925035, 82350671, 10603863, 10083313, 288030, 3879155, 57926999, 720230, 16122830, 4535591, 38625976, 10433867, 22404337, 10111559, 5410052, 2011497, 40152517, 8954175, 7361757, 67308928, 59912431], \"sizemode\": \"area\", \"sizeref\": 390935.84}, \"mode\": \"markers\", \"name\": \"Europe\", \"text\": [\"Country: Albania<br>Life Expectancy: 75.65100000000002<br>GDP per capita: 4604.211737<br>Population: 3508512<br>Year: 2002\", \"Country: Austria<br>Life Expectancy: 78.98<br>GDP per capita: 32417.60769<br>Population: 8148312<br>Year: 2002\", \"Country: Belgium<br>Life Expectancy: 78.32<br>GDP per capita: 30485.88375<br>Population: 10311970<br>Year: 2002\", \"Country: Bosnia and Herzegovina<br>Life Expectancy: 74.09<br>GDP per capita: 6018.975239<br>Population: 4165416<br>Year: 2002\", \"Country: Bulgaria<br>Life Expectancy: 72.14<br>GDP per capita: 7696.777725<br>Population: 7661799<br>Year: 2002\", \"Country: Croatia<br>Life Expectancy: 74.876<br>GDP per capita: 11628.38895<br>Population: 4481020<br>Year: 2002\", \"Country: Czech Republic<br>Life Expectancy: 75.51<br>GDP per capita: 17596.210219999994<br>Population: 10256295<br>Year: 2002\", \"Country: Denmark<br>Life Expectancy: 77.18<br>GDP per capita: 32166.50006<br>Population: 5374693<br>Year: 2002\", \"Country: Finland<br>Life Expectancy: 78.37<br>GDP per capita: 28204.59057<br>Population: 5193039<br>Year: 2002\", \"Country: France<br>Life Expectancy: 79.59<br>GDP per capita: 28926.03234<br>Population: 59925035<br>Year: 2002\", \"Country: Germany<br>Life Expectancy: 78.67<br>GDP per capita: 30035.80198<br>Population: 82350671<br>Year: 2002\", \"Country: Greece<br>Life Expectancy: 78.256<br>GDP per capita: 22514.2548<br>Population: 10603863<br>Year: 2002\", \"Country: Hungary<br>Life Expectancy: 72.59<br>GDP per capita: 14843.93556<br>Population: 10083313<br>Year: 2002\", \"Country: Iceland<br>Life Expectancy: 80.5<br>GDP per capita: 31163.20196<br>Population: 288030<br>Year: 2002\", \"Country: Ireland<br>Life Expectancy: 77.783<br>GDP per capita: 34077.04939<br>Population: 3879155<br>Year: 2002\", \"Country: Italy<br>Life Expectancy: 80.24<br>GDP per capita: 27968.09817<br>Population: 57926999<br>Year: 2002\", \"Country: Montenegro<br>Life Expectancy: 73.98100000000002<br>GDP per capita: 6557.194282<br>Population: 720230<br>Year: 2002\", \"Country: Netherlands<br>Life Expectancy: 78.53<br>GDP per capita: 33724.75778<br>Population: 16122830<br>Year: 2002\", \"Country: Norway<br>Life Expectancy: 79.05<br>GDP per capita: 44683.97525<br>Population: 4535591<br>Year: 2002\", \"Country: Poland<br>Life Expectancy: 74.67<br>GDP per capita: 12002.23908<br>Population: 38625976<br>Year: 2002\", \"Country: Portugal<br>Life Expectancy: 77.29<br>GDP per capita: 19970.90787<br>Population: 10433867<br>Year: 2002\", \"Country: Romania<br>Life Expectancy: 71.322<br>GDP per capita: 7885.360081<br>Population: 22404337<br>Year: 2002\", \"Country: Serbia<br>Life Expectancy: 73.21300000000002<br>GDP per capita: 7236.075251<br>Population: 10111559<br>Year: 2002\", \"Country: Slovak Republic<br>Life Expectancy: 73.8<br>GDP per capita: 13638.778369999998<br>Population: 5410052<br>Year: 2002\", \"Country: Slovenia<br>Life Expectancy: 76.66<br>GDP per capita: 20660.01936<br>Population: 2011497<br>Year: 2002\", \"Country: Spain<br>Life Expectancy: 79.78<br>GDP per capita: 24835.47166<br>Population: 40152517<br>Year: 2002\", \"Country: Sweden<br>Life Expectancy: 80.04<br>GDP per capita: 29341.630930000007<br>Population: 8954175<br>Year: 2002\", \"Country: Switzerland<br>Life Expectancy: 80.62<br>GDP per capita: 34480.95771<br>Population: 7361757<br>Year: 2002\", \"Country: Turkey<br>Life Expectancy: 70.845<br>GDP per capita: 6508.085718<br>Population: 67308928<br>Year: 2002\", \"Country: United Kingdom<br>Life Expectancy: 78.471<br>GDP per capita: 29478.99919<br>Population: 59912431<br>Year: 2002\"], \"type\": \"scatter\", \"x\": [4604.211737, 32417.60769, 30485.88375, 6018.975239, 7696.777725, 11628.38895, 17596.210219999994, 32166.50006, 28204.59057, 28926.03234, 30035.80198, 22514.2548, 14843.93556, 31163.20196, 34077.04939, 27968.09817, 6557.194282, 33724.75778, 44683.97525, 12002.23908, 19970.90787, 7885.360081, 7236.075251, 13638.778369999998, 20660.01936, 24835.47166, 29341.630930000007, 34480.95771, 6508.085718, 29478.99919], \"y\": [75.65100000000002, 78.98, 78.32, 74.09, 72.14, 74.876, 75.51, 77.18, 78.37, 79.59, 78.67, 78.256, 72.59, 80.5, 77.783, 80.24, 73.98100000000002, 78.53, 79.05, 74.67, 77.29, 71.322, 73.21300000000002, 73.8, 76.66, 79.78, 80.04, 80.62, 70.845, 78.471]}, {\"marker\": {\"line\": {\"width\": 2}, \"size\": [31287142, 10866106, 7026113, 1630347, 12251209, 7021078, 15929988, 4048013, 8835739, 614382, 55379852, 3328795, 16252726, 447416, 73312559, 495627, 4414865, 67946797, 1299304, 1457766, 20550751, 8807818, 1332459, 31386842, 2046772, 2814651, 5368585, 16473477, 11824495, 10580176, 2828858, 1200206, 31167783, 18473780, 1972153, 11140655, 119901274, 743981, 7852401, 170372, 10870037, 5359092, 7753310, 44433622, 37090298, 1130269, 34593779, 4977378, 9770575, 24739869, 10595811, 11926563], \"sizemode\": \"area\", \"sizeref\": 390935.84}, \"mode\": \"markers\", \"name\": \"Africa\", \"text\": [\"Country: Algeria<br>Life Expectancy: 70.994<br>GDP per capita: 5288.040382<br>Population: 31287142<br>Year: 2002\", \"Country: Angola<br>Life Expectancy: 41.003<br>GDP per capita: 2773.287312<br>Population: 10866106<br>Year: 2002\", \"Country: Benin<br>Life Expectancy: 54.40600000000001<br>GDP per capita: 1372.877931<br>Population: 7026113<br>Year: 2002\", \"Country: Botswana<br>Life Expectancy: 46.63399999999999<br>GDP per capita: 11003.60508<br>Population: 1630347<br>Year: 2002\", \"Country: Burkina Faso<br>Life Expectancy: 50.65<br>GDP per capita: 1037.645221<br>Population: 12251209<br>Year: 2002\", \"Country: Burundi<br>Life Expectancy: 47.36<br>GDP per capita: 446.4035126<br>Population: 7021078<br>Year: 2002\", \"Country: Cameroon<br>Life Expectancy: 49.856<br>GDP per capita: 1934.011449<br>Population: 15929988<br>Year: 2002\", \"Country: Central African Republic<br>Life Expectancy: 43.308<br>GDP per capita: 738.6906068<br>Population: 4048013<br>Year: 2002\", \"Country: Chad<br>Life Expectancy: 50.525<br>GDP per capita: 1156.18186<br>Population: 8835739<br>Year: 2002\", \"Country: Comoros<br>Life Expectancy: 62.974<br>GDP per capita: 1075.811558<br>Population: 614382<br>Year: 2002\", \"Country: Congo, Dem. Rep.<br>Life Expectancy: 44.966<br>GDP per capita: 241.1658765<br>Population: 55379852<br>Year: 2002\", \"Country: Congo, Rep.<br>Life Expectancy: 52.97<br>GDP per capita: 3484.06197<br>Population: 3328795<br>Year: 2002\", \"Country: Cote d'Ivoire<br>Life Expectancy: 46.832<br>GDP per capita: 1648.800823<br>Population: 16252726<br>Year: 2002\", \"Country: Djibouti<br>Life Expectancy: 53.37300000000001<br>GDP per capita: 1908.260867<br>Population: 447416<br>Year: 2002\", \"Country: Egypt<br>Life Expectancy: 69.806<br>GDP per capita: 4754.604414<br>Population: 73312559<br>Year: 2002\", \"Country: Equatorial Guinea<br>Life Expectancy: 49.348<br>GDP per capita: 7703.4959<br>Population: 495627<br>Year: 2002\", \"Country: Eritrea<br>Life Expectancy: 55.24<br>GDP per capita: 765.3500015<br>Population: 4414865<br>Year: 2002\", \"Country: Ethiopia<br>Life Expectancy: 50.725<br>GDP per capita: 530.0535319<br>Population: 67946797<br>Year: 2002\", \"Country: Gabon<br>Life Expectancy: 56.761<br>GDP per capita: 12521.71392<br>Population: 1299304<br>Year: 2002\", \"Country: Gambia<br>Life Expectancy: 58.041<br>GDP per capita: 660.5855997<br>Population: 1457766<br>Year: 2002\", \"Country: Ghana<br>Life Expectancy: 58.453<br>GDP per capita: 1111.9845779999996<br>Population: 20550751<br>Year: 2002\", \"Country: Guinea<br>Life Expectancy: 53.676<br>GDP per capita: 945.5835837<br>Population: 8807818<br>Year: 2002\", \"Country: Guinea-Bissau<br>Life Expectancy: 45.504<br>GDP per capita: 575.7047176<br>Population: 1332459<br>Year: 2002\", \"Country: Kenya<br>Life Expectancy: 50.992<br>GDP per capita: 1287.514732<br>Population: 31386842<br>Year: 2002\", \"Country: Lesotho<br>Life Expectancy: 44.593<br>GDP per capita: 1275.184575<br>Population: 2046772<br>Year: 2002\", \"Country: Liberia<br>Life Expectancy: 43.753<br>GDP per capita: 531.4823679<br>Population: 2814651<br>Year: 2002\", \"Country: Libya<br>Life Expectancy: 72.737<br>GDP per capita: 9534.677467<br>Population: 5368585<br>Year: 2002\", \"Country: Madagascar<br>Life Expectancy: 57.286<br>GDP per capita: 894.6370822<br>Population: 16473477<br>Year: 2002\", \"Country: Malawi<br>Life Expectancy: 45.00899999999999<br>GDP per capita: 665.4231186000002<br>Population: 11824495<br>Year: 2002\", \"Country: Mali<br>Life Expectancy: 51.81800000000001<br>GDP per capita: 951.4097518<br>Population: 10580176<br>Year: 2002\", \"Country: Mauritania<br>Life Expectancy: 62.247<br>GDP per capita: 1579.019543<br>Population: 2828858<br>Year: 2002\", \"Country: Mauritius<br>Life Expectancy: 71.954<br>GDP per capita: 9021.815894<br>Population: 1200206<br>Year: 2002\", \"Country: Morocco<br>Life Expectancy: 69.615<br>GDP per capita: 3258.495584<br>Population: 31167783<br>Year: 2002\", \"Country: Mozambique<br>Life Expectancy: 44.026<br>GDP per capita: 633.6179466<br>Population: 18473780<br>Year: 2002\", \"Country: Namibia<br>Life Expectancy: 51.479<br>GDP per capita: 4072.324751<br>Population: 1972153<br>Year: 2002\", \"Country: Niger<br>Life Expectancy: 54.496<br>GDP per capita: 601.0745012<br>Population: 11140655<br>Year: 2002\", \"Country: Nigeria<br>Life Expectancy: 46.608<br>GDP per capita: 1615.286395<br>Population: 119901274<br>Year: 2002\", \"Country: Reunion<br>Life Expectancy: 75.744<br>GDP per capita: 6316.1652<br>Population: 743981<br>Year: 2002\", \"Country: Rwanda<br>Life Expectancy: 43.413<br>GDP per capita: 785.6537647999999<br>Population: 7852401<br>Year: 2002\", \"Country: Sao Tome and Principe<br>Life Expectancy: 64.337<br>GDP per capita: 1353.09239<br>Population: 170372<br>Year: 2002\", \"Country: Senegal<br>Life Expectancy: 61.6<br>GDP per capita: 1519.635262<br>Population: 10870037<br>Year: 2002\", \"Country: Sierra Leone<br>Life Expectancy: 41.012<br>GDP per capita: 699.4897129999998<br>Population: 5359092<br>Year: 2002\", \"Country: Somalia<br>Life Expectancy: 45.93600000000001<br>GDP per capita: 882.0818218000002<br>Population: 7753310<br>Year: 2002\", \"Country: South Africa<br>Life Expectancy: 53.365<br>GDP per capita: 7710.946444<br>Population: 44433622<br>Year: 2002\", \"Country: Sudan<br>Life Expectancy: 56.369<br>GDP per capita: 1993.398314<br>Population: 37090298<br>Year: 2002\", \"Country: Swaziland<br>Life Expectancy: 43.869<br>GDP per capita: 4128.116943<br>Population: 1130269<br>Year: 2002\", \"Country: Tanzania<br>Life Expectancy: 49.651<br>GDP per capita: 899.0742111<br>Population: 34593779<br>Year: 2002\", \"Country: Togo<br>Life Expectancy: 57.56100000000001<br>GDP per capita: 886.2205765000001<br>Population: 4977378<br>Year: 2002\", \"Country: Tunisia<br>Life Expectancy: 73.042<br>GDP per capita: 5722.895654999998<br>Population: 9770575<br>Year: 2002\", \"Country: Uganda<br>Life Expectancy: 47.813<br>GDP per capita: 927.7210018<br>Population: 24739869<br>Year: 2002\", \"Country: Zambia<br>Life Expectancy: 39.19300000000001<br>GDP per capita: 1071.6139380000004<br>Population: 10595811<br>Year: 2002\", \"Country: Zimbabwe<br>Life Expectancy: 39.989<br>GDP per capita: 672.0386227000001<br>Population: 11926563<br>Year: 2002\"], \"type\": \"scatter\", \"x\": [5288.040382, 2773.287312, 1372.877931, 11003.60508, 1037.645221, 446.4035126, 1934.011449, 738.6906068, 1156.18186, 1075.811558, 241.1658765, 3484.06197, 1648.800823, 1908.260867, 4754.604414, 7703.4959, 765.3500015, 530.0535319, 12521.71392, 660.5855997, 1111.9845779999996, 945.5835837, 575.7047176, 1287.514732, 1275.184575, 531.4823679, 9534.677467, 894.6370822, 665.4231186000002, 951.4097518, 1579.019543, 9021.815894, 3258.495584, 633.6179466, 4072.324751, 601.0745012, 1615.286395, 6316.1652, 785.6537647999999, 1353.09239, 1519.635262, 699.4897129999998, 882.0818218000002, 7710.946444, 1993.398314, 4128.116943, 899.0742111, 886.2205765000001, 5722.895654999998, 927.7210018, 1071.6139380000004, 672.0386227000001], \"y\": [70.994, 41.003, 54.40600000000001, 46.63399999999999, 50.65, 47.36, 49.856, 43.308, 50.525, 62.974, 44.966, 52.97, 46.832, 53.37300000000001, 69.806, 49.348, 55.24, 50.725, 56.761, 58.041, 58.453, 53.676, 45.504, 50.992, 44.593, 43.753, 72.737, 57.286, 45.00899999999999, 51.81800000000001, 62.247, 71.954, 69.615, 44.026, 51.479, 54.496, 46.608, 75.744, 43.413, 64.337, 61.6, 41.012, 45.93600000000001, 53.365, 56.369, 43.869, 49.651, 57.56100000000001, 73.042, 47.813, 39.19300000000001, 39.989]}, {\"marker\": {\"line\": {\"width\": 2}, \"size\": [38331121, 8445134, 179914212, 31902268, 15497046, 41008227, 3834934, 11226999, 8650322, 12921234, 6353681, 11178650, 7607651, 6677328, 2664659, 102479927, 5146848, 2990875, 5884491, 26769436, 3859606, 1101832, 287675526, 3363085, 24287670], \"sizemode\": \"area\", \"sizeref\": 390935.84}, \"mode\": \"markers\", \"name\": \"Americas\", \"text\": [\"Country: Argentina<br>Life Expectancy: 74.34<br>GDP per capita: 8797.640716<br>Population: 38331121<br>Year: 2002\", \"Country: Bolivia<br>Life Expectancy: 63.883<br>GDP per capita: 3413.26269<br>Population: 8445134<br>Year: 2002\", \"Country: Brazil<br>Life Expectancy: 71.006<br>GDP per capita: 8131.212843000001<br>Population: 179914212<br>Year: 2002\", \"Country: Canada<br>Life Expectancy: 79.77<br>GDP per capita: 33328.96507<br>Population: 31902268<br>Year: 2002\", \"Country: Chile<br>Life Expectancy: 77.86<br>GDP per capita: 10778.78385<br>Population: 15497046<br>Year: 2002\", \"Country: Colombia<br>Life Expectancy: 71.682<br>GDP per capita: 5755.259962<br>Population: 41008227<br>Year: 2002\", \"Country: Costa Rica<br>Life Expectancy: 78.123<br>GDP per capita: 7723.447195000002<br>Population: 3834934<br>Year: 2002\", \"Country: Cuba<br>Life Expectancy: 77.158<br>GDP per capita: 6340.646683<br>Population: 11226999<br>Year: 2002\", \"Country: Dominican Republic<br>Life Expectancy: 70.847<br>GDP per capita: 4563.808154<br>Population: 8650322<br>Year: 2002\", \"Country: Ecuador<br>Life Expectancy: 74.173<br>GDP per capita: 5773.044512<br>Population: 12921234<br>Year: 2002\", \"Country: El Salvador<br>Life Expectancy: 70.734<br>GDP per capita: 5351.568665999999<br>Population: 6353681<br>Year: 2002\", \"Country: Guatemala<br>Life Expectancy: 68.97800000000001<br>GDP per capita: 4858.347495<br>Population: 11178650<br>Year: 2002\", \"Country: Haiti<br>Life Expectancy: 58.137<br>GDP per capita: 1270.364932<br>Population: 7607651<br>Year: 2002\", \"Country: Honduras<br>Life Expectancy: 68.565<br>GDP per capita: 3099.72866<br>Population: 6677328<br>Year: 2002\", \"Country: Jamaica<br>Life Expectancy: 72.047<br>GDP per capita: 6994.774861<br>Population: 2664659<br>Year: 2002\", \"Country: Mexico<br>Life Expectancy: 74.902<br>GDP per capita: 10742.44053<br>Population: 102479927<br>Year: 2002\", \"Country: Nicaragua<br>Life Expectancy: 70.836<br>GDP per capita: 2474.548819<br>Population: 5146848<br>Year: 2002\", \"Country: Panama<br>Life Expectancy: 74.712<br>GDP per capita: 7356.0319340000015<br>Population: 2990875<br>Year: 2002\", \"Country: Paraguay<br>Life Expectancy: 70.755<br>GDP per capita: 3783.674243<br>Population: 5884491<br>Year: 2002\", \"Country: Peru<br>Life Expectancy: 69.906<br>GDP per capita: 5909.020073<br>Population: 26769436<br>Year: 2002\", \"Country: Puerto Rico<br>Life Expectancy: 77.778<br>GDP per capita: 18855.60618<br>Population: 3859606<br>Year: 2002\", \"Country: Trinidad and Tobago<br>Life Expectancy: 68.976<br>GDP per capita: 11460.60023<br>Population: 1101832<br>Year: 2002\", \"Country: United States<br>Life Expectancy: 77.31<br>GDP per capita: 39097.09955<br>Population: 287675526<br>Year: 2002\", \"Country: Uruguay<br>Life Expectancy: 75.307<br>GDP per capita: 7727.002004000001<br>Population: 3363085<br>Year: 2002\", \"Country: Venezuela<br>Life Expectancy: 72.766<br>GDP per capita: 8605.047831<br>Population: 24287670<br>Year: 2002\"], \"type\": \"scatter\", \"x\": [8797.640716, 3413.26269, 8131.212843000001, 33328.96507, 10778.78385, 5755.259962, 7723.447195000002, 6340.646683, 4563.808154, 5773.044512, 5351.568665999999, 4858.347495, 1270.364932, 3099.72866, 6994.774861, 10742.44053, 2474.548819, 7356.0319340000015, 3783.674243, 5909.020073, 18855.60618, 11460.60023, 39097.09955, 7727.002004000001, 8605.047831], \"y\": [74.34, 63.883, 71.006, 79.77, 77.86, 71.682, 78.123, 77.158, 70.847, 74.173, 70.734, 68.97800000000001, 58.137, 68.565, 72.047, 74.902, 70.836, 74.712, 70.755, 69.906, 77.778, 68.976, 77.31, 75.307, 72.766]}, {\"marker\": {\"line\": {\"width\": 2}, \"size\": [19546792, 3908037], \"sizemode\": \"area\", \"sizeref\": 390935.84}, \"mode\": \"markers\", \"name\": \"Oceania\", \"text\": [\"Country: Australia<br>Life Expectancy: 80.37<br>GDP per capita: 30687.75473<br>Population: 19546792<br>Year: 2002\", \"Country: New Zealand<br>Life Expectancy: 79.11<br>GDP per capita: 23189.80135<br>Population: 3908037<br>Year: 2002\"], \"type\": \"scatter\", \"x\": [30687.75473, 23189.80135], \"y\": [80.37, 79.11]}],\n",
       "                        {\"autosize\": false, \"template\": {\"data\": {\"bar\": [{\"error_x\": {\"color\": \"#2a3f5f\"}, \"error_y\": {\"color\": \"#2a3f5f\"}, \"marker\": {\"line\": {\"color\": \"#E5ECF6\", \"width\": 0.5}}, \"type\": \"bar\"}], \"barpolar\": [{\"marker\": {\"line\": {\"color\": \"#E5ECF6\", \"width\": 0.5}}, \"type\": \"barpolar\"}], \"carpet\": [{\"aaxis\": {\"endlinecolor\": \"#2a3f5f\", \"gridcolor\": \"white\", \"linecolor\": \"white\", \"minorgridcolor\": \"white\", \"startlinecolor\": \"#2a3f5f\"}, \"baxis\": {\"endlinecolor\": \"#2a3f5f\", \"gridcolor\": \"white\", \"linecolor\": \"white\", \"minorgridcolor\": \"white\", \"startlinecolor\": \"#2a3f5f\"}, \"type\": \"carpet\"}], \"choropleth\": [{\"colorbar\": {\"outlinewidth\": 0, \"ticks\": \"\"}, \"type\": \"choropleth\"}], \"contour\": [{\"colorbar\": {\"outlinewidth\": 0, \"ticks\": \"\"}, \"colorscale\": [[0.0, \"#0d0887\"], [0.1111111111111111, \"#46039f\"], [0.2222222222222222, \"#7201a8\"], [0.3333333333333333, \"#9c179e\"], [0.4444444444444444, \"#bd3786\"], [0.5555555555555556, \"#d8576b\"], [0.6666666666666666, \"#ed7953\"], [0.7777777777777778, \"#fb9f3a\"], [0.8888888888888888, \"#fdca26\"], [1.0, \"#f0f921\"]], \"type\": \"contour\"}], \"contourcarpet\": [{\"colorbar\": {\"outlinewidth\": 0, \"ticks\": \"\"}, \"type\": \"contourcarpet\"}], \"heatmap\": [{\"colorbar\": {\"outlinewidth\": 0, \"ticks\": \"\"}, \"colorscale\": [[0.0, \"#0d0887\"], [0.1111111111111111, \"#46039f\"], [0.2222222222222222, \"#7201a8\"], [0.3333333333333333, \"#9c179e\"], [0.4444444444444444, \"#bd3786\"], [0.5555555555555556, \"#d8576b\"], [0.6666666666666666, \"#ed7953\"], [0.7777777777777778, \"#fb9f3a\"], [0.8888888888888888, \"#fdca26\"], [1.0, \"#f0f921\"]], \"type\": \"heatmap\"}], \"heatmapgl\": [{\"colorbar\": {\"outlinewidth\": 0, \"ticks\": \"\"}, \"colorscale\": [[0.0, \"#0d0887\"], [0.1111111111111111, \"#46039f\"], [0.2222222222222222, \"#7201a8\"], [0.3333333333333333, \"#9c179e\"], [0.4444444444444444, \"#bd3786\"], [0.5555555555555556, \"#d8576b\"], [0.6666666666666666, \"#ed7953\"], [0.7777777777777778, \"#fb9f3a\"], [0.8888888888888888, \"#fdca26\"], [1.0, \"#f0f921\"]], \"type\": \"heatmapgl\"}], \"histogram\": [{\"marker\": {\"colorbar\": {\"outlinewidth\": 0, \"ticks\": \"\"}}, \"type\": \"histogram\"}], \"histogram2d\": [{\"colorbar\": {\"outlinewidth\": 0, \"ticks\": \"\"}, \"colorscale\": [[0.0, \"#0d0887\"], [0.1111111111111111, \"#46039f\"], [0.2222222222222222, \"#7201a8\"], [0.3333333333333333, \"#9c179e\"], [0.4444444444444444, \"#bd3786\"], [0.5555555555555556, \"#d8576b\"], [0.6666666666666666, \"#ed7953\"], [0.7777777777777778, \"#fb9f3a\"], [0.8888888888888888, \"#fdca26\"], [1.0, \"#f0f921\"]], \"type\": \"histogram2d\"}], \"histogram2dcontour\": [{\"colorbar\": {\"outlinewidth\": 0, \"ticks\": \"\"}, \"colorscale\": [[0.0, \"#0d0887\"], [0.1111111111111111, \"#46039f\"], [0.2222222222222222, \"#7201a8\"], [0.3333333333333333, \"#9c179e\"], [0.4444444444444444, \"#bd3786\"], [0.5555555555555556, \"#d8576b\"], [0.6666666666666666, \"#ed7953\"], [0.7777777777777778, \"#fb9f3a\"], [0.8888888888888888, \"#fdca26\"], [1.0, \"#f0f921\"]], \"type\": \"histogram2dcontour\"}], \"mesh3d\": [{\"colorbar\": {\"outlinewidth\": 0, \"ticks\": \"\"}, \"type\": \"mesh3d\"}], \"parcoords\": [{\"line\": {\"colorbar\": {\"outlinewidth\": 0, \"ticks\": \"\"}}, \"type\": \"parcoords\"}], \"pie\": [{\"automargin\": true, \"type\": \"pie\"}], \"scatter\": [{\"marker\": {\"colorbar\": {\"outlinewidth\": 0, \"ticks\": \"\"}}, \"type\": \"scatter\"}], \"scatter3d\": [{\"line\": {\"colorbar\": {\"outlinewidth\": 0, \"ticks\": \"\"}}, \"marker\": {\"colorbar\": {\"outlinewidth\": 0, \"ticks\": \"\"}}, \"type\": \"scatter3d\"}], \"scattercarpet\": [{\"marker\": {\"colorbar\": {\"outlinewidth\": 0, \"ticks\": \"\"}}, \"type\": \"scattercarpet\"}], \"scattergeo\": [{\"marker\": {\"colorbar\": {\"outlinewidth\": 0, \"ticks\": \"\"}}, \"type\": \"scattergeo\"}], \"scattergl\": [{\"marker\": {\"colorbar\": {\"outlinewidth\": 0, \"ticks\": \"\"}}, \"type\": \"scattergl\"}], \"scattermapbox\": [{\"marker\": {\"colorbar\": {\"outlinewidth\": 0, \"ticks\": \"\"}}, \"type\": \"scattermapbox\"}], \"scatterpolar\": [{\"marker\": {\"colorbar\": {\"outlinewidth\": 0, \"ticks\": \"\"}}, \"type\": \"scatterpolar\"}], \"scatterpolargl\": [{\"marker\": {\"colorbar\": {\"outlinewidth\": 0, \"ticks\": \"\"}}, \"type\": \"scatterpolargl\"}], \"scatterternary\": [{\"marker\": {\"colorbar\": {\"outlinewidth\": 0, \"ticks\": \"\"}}, \"type\": \"scatterternary\"}], \"surface\": [{\"colorbar\": {\"outlinewidth\": 0, \"ticks\": \"\"}, \"colorscale\": [[0.0, \"#0d0887\"], [0.1111111111111111, \"#46039f\"], [0.2222222222222222, \"#7201a8\"], [0.3333333333333333, \"#9c179e\"], [0.4444444444444444, \"#bd3786\"], [0.5555555555555556, \"#d8576b\"], [0.6666666666666666, \"#ed7953\"], [0.7777777777777778, \"#fb9f3a\"], [0.8888888888888888, \"#fdca26\"], [1.0, \"#f0f921\"]], \"type\": \"surface\"}], \"table\": [{\"cells\": {\"fill\": {\"color\": \"#EBF0F8\"}, \"line\": {\"color\": \"white\"}}, \"header\": {\"fill\": {\"color\": \"#C8D4E3\"}, \"line\": {\"color\": \"white\"}}, \"type\": \"table\"}]}, \"layout\": {\"annotationdefaults\": {\"arrowcolor\": \"#2a3f5f\", \"arrowhead\": 0, \"arrowwidth\": 1}, \"coloraxis\": {\"colorbar\": {\"outlinewidth\": 0, \"ticks\": \"\"}}, \"colorscale\": {\"diverging\": [[0, \"#8e0152\"], [0.1, \"#c51b7d\"], [0.2, \"#de77ae\"], [0.3, \"#f1b6da\"], [0.4, \"#fde0ef\"], [0.5, \"#f7f7f7\"], [0.6, \"#e6f5d0\"], [0.7, \"#b8e186\"], [0.8, \"#7fbc41\"], [0.9, \"#4d9221\"], [1, \"#276419\"]], \"sequential\": [[0.0, \"#0d0887\"], [0.1111111111111111, \"#46039f\"], [0.2222222222222222, \"#7201a8\"], [0.3333333333333333, \"#9c179e\"], [0.4444444444444444, \"#bd3786\"], [0.5555555555555556, \"#d8576b\"], [0.6666666666666666, \"#ed7953\"], [0.7777777777777778, \"#fb9f3a\"], [0.8888888888888888, \"#fdca26\"], [1.0, \"#f0f921\"]], \"sequentialminus\": [[0.0, \"#0d0887\"], [0.1111111111111111, \"#46039f\"], [0.2222222222222222, \"#7201a8\"], [0.3333333333333333, \"#9c179e\"], [0.4444444444444444, \"#bd3786\"], [0.5555555555555556, \"#d8576b\"], [0.6666666666666666, \"#ed7953\"], [0.7777777777777778, \"#fb9f3a\"], [0.8888888888888888, \"#fdca26\"], [1.0, \"#f0f921\"]]}, \"colorway\": [\"#636efa\", \"#EF553B\", \"#00cc96\", \"#ab63fa\", \"#FFA15A\", \"#19d3f3\", \"#FF6692\", \"#B6E880\", \"#FF97FF\", \"#FECB52\"], \"font\": {\"color\": \"#2a3f5f\"}, \"geo\": {\"bgcolor\": \"white\", \"lakecolor\": \"white\", \"landcolor\": \"#E5ECF6\", \"showlakes\": true, \"showland\": true, \"subunitcolor\": \"white\"}, \"hoverlabel\": {\"align\": \"left\"}, \"hovermode\": \"closest\", \"mapbox\": {\"style\": \"light\"}, \"paper_bgcolor\": \"white\", \"plot_bgcolor\": \"#E5ECF6\", \"polar\": {\"angularaxis\": {\"gridcolor\": \"white\", \"linecolor\": \"white\", \"ticks\": \"\"}, \"bgcolor\": \"#E5ECF6\", \"radialaxis\": {\"gridcolor\": \"white\", \"linecolor\": \"white\", \"ticks\": \"\"}}, \"scene\": {\"xaxis\": {\"backgroundcolor\": \"#E5ECF6\", \"gridcolor\": \"white\", \"gridwidth\": 2, \"linecolor\": \"white\", \"showbackground\": true, \"ticks\": \"\", \"zerolinecolor\": \"white\"}, \"yaxis\": {\"backgroundcolor\": \"#E5ECF6\", \"gridcolor\": \"white\", \"gridwidth\": 2, \"linecolor\": \"white\", \"showbackground\": true, \"ticks\": \"\", \"zerolinecolor\": \"white\"}, \"zaxis\": {\"backgroundcolor\": \"#E5ECF6\", \"gridcolor\": \"white\", \"gridwidth\": 2, \"linecolor\": \"white\", \"showbackground\": true, \"ticks\": \"\", \"zerolinecolor\": \"white\"}}, \"shapedefaults\": {\"line\": {\"color\": \"#2a3f5f\"}}, \"ternary\": {\"aaxis\": {\"gridcolor\": \"white\", \"linecolor\": \"white\", \"ticks\": \"\"}, \"baxis\": {\"gridcolor\": \"white\", \"linecolor\": \"white\", \"ticks\": \"\"}, \"bgcolor\": \"#E5ECF6\", \"caxis\": {\"gridcolor\": \"white\", \"linecolor\": \"white\", \"ticks\": \"\"}}, \"title\": {\"x\": 0.05}, \"xaxis\": {\"automargin\": true, \"gridcolor\": \"white\", \"linecolor\": \"white\", \"ticks\": \"\", \"title\": {\"standoff\": 15}, \"zerolinecolor\": \"white\", \"zerolinewidth\": 2}, \"yaxis\": {\"automargin\": true, \"gridcolor\": \"white\", \"linecolor\": \"white\", \"ticks\": \"\", \"title\": {\"standoff\": 15}, \"zerolinecolor\": \"white\", \"zerolinewidth\": 2}}}, \"xaxis\": {\"linecolor\": \"rgb(204, 204, 204)\", \"linewidth\": 2, \"ticks\": \"outside\", \"title\": {\"text\": \"GDP per capita\"}}, \"yaxis\": {\"linecolor\": \"rgb(204, 204, 204)\", \"linewidth\": 2, \"ticks\": \"outside\", \"title\": {\"text\": \"life expectancy\"}}},\n",
       "                        {\"responsive\": true}\n",
       "                    ).then(function(){\n",
       "                            \n",
       "var gd = document.getElementById('3d412ce4-2b73-4019-83f6-88d47c655ed5');\n",
       "var x = new MutationObserver(function (mutations, observer) {{\n",
       "        var display = window.getComputedStyle(gd).display;\n",
       "        if (!display || display === 'none') {{\n",
       "            console.log([gd, 'removed!']);\n",
       "            Plotly.purge(gd);\n",
       "            observer.disconnect();\n",
       "        }}\n",
       "}});\n",
       "\n",
       "// Listen for the removal of the full notebook cells\n",
       "var notebookContainer = gd.closest('#notebook-container');\n",
       "if (notebookContainer) {{\n",
       "    x.observe(notebookContainer, {childList: true});\n",
       "}}\n",
       "\n",
       "// Listen for the clearing of the current output cell\n",
       "var outputEl = gd.closest('.output');\n",
       "if (outputEl) {{\n",
       "    x.observe(outputEl, {childList: true});\n",
       "}}\n",
       "\n",
       "                        })\n",
       "                };\n",
       "                });\n",
       "            </script>\n",
       "        </div>"
      ]
     },
     "metadata": {},
     "output_type": "display_data"
    }
   ],
   "source": [
    "import numpy as np\n",
    "\n",
    "fig = go.Figure()\n",
    "\n",
    "is_year2002 = df['year'] == 2002\n",
    "year2002 = df[is_year2002]\n",
    "\n",
    "continents = year2002['continent'].unique()\n",
    "\n",
    "# set hover text\n",
    "hover_text = []\n",
    "for index, row in year2002.iterrows():\n",
    "    hover_text.append(('Country: {country}<br>'+\n",
    "                      'Life Expectancy: {lifeExp}<br>'+\n",
    "                      'GDP per capita: {gdp}<br>'+\n",
    "                      'Population: {pop}<br>'+\n",
    "                      'Year: {year}').format(country=row['country'],\n",
    "                                            lifeExp=row['lifeExp'],\n",
    "                                            gdp=row['gdpPercap'],\n",
    "                                            pop=row['pop'],\n",
    "                                            year=row['year']))\n",
    "year2002['text'] = hover_text\n",
    "\n",
    "# loop over continents\n",
    "for continent in continents:\n",
    "    is_continent = year2002['continent'] == continent\n",
    "    pop = np.array(year2002[is_continent]['pop'].values, dtype=int)\n",
    "    sizeref = 2.*max(pop)/(100)\n",
    "    \n",
    "    countries = year2002[is_continent]['country'].values\n",
    "\n",
    "    trace = go.Scatter(x=year2002[is_continent]['gdpPercap'],\n",
    "                    y=year2002[is_continent]['lifeExp'],\n",
    "                    name=continent,\n",
    "                    marker_size=pop,\n",
    "                    text=year2002[is_continent]['text'])\n",
    "    fig.add_trace(trace)\n",
    "    fig.update_traces(mode='markers', marker=dict(sizemode='area',\n",
    "                                                  sizeref=sizeref, line_width=2))\n",
    "\n",
    "fig.update_layout(xaxis=dict(\n",
    "        title=\"GDP per capita\",\n",
    "        linecolor='rgb(204, 204, 204)',\n",
    "        linewidth=2,\n",
    "        ticks='outside',\n",
    "    ),\n",
    "    yaxis=dict(\n",
    "        title=\"life expectancy\",\n",
    "        linecolor='rgb(204, 204, 204)',\n",
    "        linewidth=2,\n",
    "        ticks='outside',\n",
    "    ),\n",
    "    autosize=False,\n",
    ")\n",
    "\n",
    "fig.show()"
   ]
  },
  {
   "cell_type": "markdown",
   "metadata": {},
   "source": [
    "This is a nice plot, but it's only one year. How did this relationship evolve over the years? To do this we use the ```FigureWidget``` object that we can pass a ```Figure``` object."
   ]
  },
  {
   "cell_type": "code",
   "execution_count": 126,
   "metadata": {},
   "outputs": [
    {
     "data": {
      "application/vnd.plotly.v1+json": {
       "config": {
        "plotlyServerURL": "https://plot.ly"
       },
       "data": [
        {
         "marker": {
          "line": {
           "width": 2
          },
          "size": [
           25268405,
           656397,
           135656790,
           12926707,
           1280400000,
           6762476,
           1034172547,
           211060000,
           66907826,
           24001816,
           6029529,
           127065841,
           5307470,
           22215365,
           47969150,
           2111561,
           3677780,
           22662365,
           2674234,
           45598081,
           25873917,
           2713462,
           153403524,
           82995088,
           24501530,
           4197776,
           19576783,
           17155814,
           22454239,
           62806748,
           80908147,
           3389578,
           18701257
          ],
          "sizemode": "area",
          "sizeref": 390935.84
         },
         "mode": "markers",
         "name": "Asia",
         "text": [
          "Country: Afghanistan<br>Life Expectancy: 42.129<br>GDP per capita: 726.7340548<br>Population: 25268405<br>Year: 2002",
          "Country: Bahrain<br>Life Expectancy: 74.795<br>GDP per capita: 23403.55927<br>Population: 656397<br>Year: 2002",
          "Country: Bangladesh<br>Life Expectancy: 62.01300000000001<br>GDP per capita: 1136.3904300000004<br>Population: 135656790<br>Year: 2002",
          "Country: Cambodia<br>Life Expectancy: 56.752<br>GDP per capita: 896.2260152999999<br>Population: 12926707<br>Year: 2002",
          "Country: China<br>Life Expectancy: 72.028<br>GDP per capita: 3119.280896<br>Population: 1280400000<br>Year: 2002",
          "Country: Hong Kong, China<br>Life Expectancy: 81.495<br>GDP per capita: 30209.015160000006<br>Population: 6762476<br>Year: 2002",
          "Country: India<br>Life Expectancy: 62.879<br>GDP per capita: 1746.769454<br>Population: 1034172547<br>Year: 2002",
          "Country: Indonesia<br>Life Expectancy: 68.58800000000001<br>GDP per capita: 2873.91287<br>Population: 211060000<br>Year: 2002",
          "Country: Iran<br>Life Expectancy: 69.45100000000001<br>GDP per capita: 9240.761975<br>Population: 66907826<br>Year: 2002",
          "Country: Iraq<br>Life Expectancy: 57.04600000000001<br>GDP per capita: 4390.717312<br>Population: 24001816<br>Year: 2002",
          "Country: Israel<br>Life Expectancy: 79.696<br>GDP per capita: 21905.59514<br>Population: 6029529<br>Year: 2002",
          "Country: Japan<br>Life Expectancy: 82.0<br>GDP per capita: 28604.5919<br>Population: 127065841<br>Year: 2002",
          "Country: Jordan<br>Life Expectancy: 71.263<br>GDP per capita: 3844.917194<br>Population: 5307470<br>Year: 2002",
          "Country: Korea, Dem. Rep.<br>Life Expectancy: 66.66199999999999<br>GDP per capita: 1646.758151<br>Population: 22215365<br>Year: 2002",
          "Country: Korea, Rep.<br>Life Expectancy: 77.045<br>GDP per capita: 19233.98818<br>Population: 47969150<br>Year: 2002",
          "Country: Kuwait<br>Life Expectancy: 76.904<br>GDP per capita: 35110.10566<br>Population: 2111561<br>Year: 2002",
          "Country: Lebanon<br>Life Expectancy: 71.028<br>GDP per capita: 9313.93883<br>Population: 3677780<br>Year: 2002",
          "Country: Malaysia<br>Life Expectancy: 73.044<br>GDP per capita: 10206.97794<br>Population: 22662365<br>Year: 2002",
          "Country: Mongolia<br>Life Expectancy: 65.033<br>GDP per capita: 2140.739323<br>Population: 2674234<br>Year: 2002",
          "Country: Myanmar<br>Life Expectancy: 59.908<br>GDP per capita: 611.0<br>Population: 45598081<br>Year: 2002",
          "Country: Nepal<br>Life Expectancy: 61.34<br>GDP per capita: 1057.206311<br>Population: 25873917<br>Year: 2002",
          "Country: Oman<br>Life Expectancy: 74.193<br>GDP per capita: 19774.83687<br>Population: 2713462<br>Year: 2002",
          "Country: Pakistan<br>Life Expectancy: 63.61<br>GDP per capita: 2092.712441<br>Population: 153403524<br>Year: 2002",
          "Country: Philippines<br>Life Expectancy: 70.303<br>GDP per capita: 2650.921068<br>Population: 82995088<br>Year: 2002",
          "Country: Saudi Arabia<br>Life Expectancy: 71.626<br>GDP per capita: 19014.54118<br>Population: 24501530<br>Year: 2002",
          "Country: Singapore<br>Life Expectancy: 78.77<br>GDP per capita: 36023.1054<br>Population: 4197776<br>Year: 2002",
          "Country: Sri Lanka<br>Life Expectancy: 70.815<br>GDP per capita: 3015.378833<br>Population: 19576783<br>Year: 2002",
          "Country: Syria<br>Life Expectancy: 73.053<br>GDP per capita: 4090.925331<br>Population: 17155814<br>Year: 2002",
          "Country: Taiwan<br>Life Expectancy: 76.99<br>GDP per capita: 23235.42329<br>Population: 22454239<br>Year: 2002",
          "Country: Thailand<br>Life Expectancy: 68.564<br>GDP per capita: 5913.187529<br>Population: 62806748<br>Year: 2002",
          "Country: Vietnam<br>Life Expectancy: 73.017<br>GDP per capita: 1764.456677<br>Population: 80908147<br>Year: 2002",
          "Country: West Bank and Gaza<br>Life Expectancy: 72.37<br>GDP per capita: 4515.487575<br>Population: 3389578<br>Year: 2002",
          "Country: Yemen, Rep.<br>Life Expectancy: 60.308<br>GDP per capita: 2234.820827<br>Population: 18701257<br>Year: 2002"
         ],
         "type": "scatter",
         "uid": "9724319d-e73b-41fe-85dd-1c01cbeb6421",
         "x": [
          726.7340548,
          23403.55927,
          1136.3904300000004,
          896.2260152999999,
          3119.280896,
          30209.015160000006,
          1746.769454,
          2873.91287,
          9240.761975,
          4390.717312,
          21905.59514,
          28604.5919,
          3844.917194,
          1646.758151,
          19233.98818,
          35110.10566,
          9313.93883,
          10206.97794,
          2140.739323,
          611,
          1057.206311,
          19774.83687,
          2092.712441,
          2650.921068,
          19014.54118,
          36023.1054,
          3015.378833,
          4090.925331,
          23235.42329,
          5913.187529,
          1764.456677,
          4515.487575,
          2234.820827
         ],
         "y": [
          42.129,
          74.795,
          62.01300000000001,
          56.752,
          72.028,
          81.495,
          62.879,
          68.58800000000001,
          69.45100000000001,
          57.04600000000001,
          79.696,
          82,
          71.263,
          66.66199999999999,
          77.045,
          76.904,
          71.028,
          73.044,
          65.033,
          59.908,
          61.34,
          74.193,
          63.61,
          70.303,
          71.626,
          78.77,
          70.815,
          73.053,
          76.99,
          68.564,
          73.017,
          72.37,
          60.308
         ]
        },
        {
         "marker": {
          "line": {
           "width": 2
          },
          "size": [
           3508512,
           8148312,
           10311970,
           4165416,
           7661799,
           4481020,
           10256295,
           5374693,
           5193039,
           59925035,
           82350671,
           10603863,
           10083313,
           288030,
           3879155,
           57926999,
           720230,
           16122830,
           4535591,
           38625976,
           10433867,
           22404337,
           10111559,
           5410052,
           2011497,
           40152517,
           8954175,
           7361757,
           67308928,
           59912431
          ],
          "sizemode": "area",
          "sizeref": 390935.84
         },
         "mode": "markers",
         "name": "Europe",
         "text": [
          "Country: Albania<br>Life Expectancy: 75.65100000000002<br>GDP per capita: 4604.211737<br>Population: 3508512<br>Year: 2002",
          "Country: Austria<br>Life Expectancy: 78.98<br>GDP per capita: 32417.60769<br>Population: 8148312<br>Year: 2002",
          "Country: Belgium<br>Life Expectancy: 78.32<br>GDP per capita: 30485.88375<br>Population: 10311970<br>Year: 2002",
          "Country: Bosnia and Herzegovina<br>Life Expectancy: 74.09<br>GDP per capita: 6018.975239<br>Population: 4165416<br>Year: 2002",
          "Country: Bulgaria<br>Life Expectancy: 72.14<br>GDP per capita: 7696.777725<br>Population: 7661799<br>Year: 2002",
          "Country: Croatia<br>Life Expectancy: 74.876<br>GDP per capita: 11628.38895<br>Population: 4481020<br>Year: 2002",
          "Country: Czech Republic<br>Life Expectancy: 75.51<br>GDP per capita: 17596.210219999994<br>Population: 10256295<br>Year: 2002",
          "Country: Denmark<br>Life Expectancy: 77.18<br>GDP per capita: 32166.50006<br>Population: 5374693<br>Year: 2002",
          "Country: Finland<br>Life Expectancy: 78.37<br>GDP per capita: 28204.59057<br>Population: 5193039<br>Year: 2002",
          "Country: France<br>Life Expectancy: 79.59<br>GDP per capita: 28926.03234<br>Population: 59925035<br>Year: 2002",
          "Country: Germany<br>Life Expectancy: 78.67<br>GDP per capita: 30035.80198<br>Population: 82350671<br>Year: 2002",
          "Country: Greece<br>Life Expectancy: 78.256<br>GDP per capita: 22514.2548<br>Population: 10603863<br>Year: 2002",
          "Country: Hungary<br>Life Expectancy: 72.59<br>GDP per capita: 14843.93556<br>Population: 10083313<br>Year: 2002",
          "Country: Iceland<br>Life Expectancy: 80.5<br>GDP per capita: 31163.20196<br>Population: 288030<br>Year: 2002",
          "Country: Ireland<br>Life Expectancy: 77.783<br>GDP per capita: 34077.04939<br>Population: 3879155<br>Year: 2002",
          "Country: Italy<br>Life Expectancy: 80.24<br>GDP per capita: 27968.09817<br>Population: 57926999<br>Year: 2002",
          "Country: Montenegro<br>Life Expectancy: 73.98100000000002<br>GDP per capita: 6557.194282<br>Population: 720230<br>Year: 2002",
          "Country: Netherlands<br>Life Expectancy: 78.53<br>GDP per capita: 33724.75778<br>Population: 16122830<br>Year: 2002",
          "Country: Norway<br>Life Expectancy: 79.05<br>GDP per capita: 44683.97525<br>Population: 4535591<br>Year: 2002",
          "Country: Poland<br>Life Expectancy: 74.67<br>GDP per capita: 12002.23908<br>Population: 38625976<br>Year: 2002",
          "Country: Portugal<br>Life Expectancy: 77.29<br>GDP per capita: 19970.90787<br>Population: 10433867<br>Year: 2002",
          "Country: Romania<br>Life Expectancy: 71.322<br>GDP per capita: 7885.360081<br>Population: 22404337<br>Year: 2002",
          "Country: Serbia<br>Life Expectancy: 73.21300000000002<br>GDP per capita: 7236.075251<br>Population: 10111559<br>Year: 2002",
          "Country: Slovak Republic<br>Life Expectancy: 73.8<br>GDP per capita: 13638.778369999998<br>Population: 5410052<br>Year: 2002",
          "Country: Slovenia<br>Life Expectancy: 76.66<br>GDP per capita: 20660.01936<br>Population: 2011497<br>Year: 2002",
          "Country: Spain<br>Life Expectancy: 79.78<br>GDP per capita: 24835.47166<br>Population: 40152517<br>Year: 2002",
          "Country: Sweden<br>Life Expectancy: 80.04<br>GDP per capita: 29341.630930000007<br>Population: 8954175<br>Year: 2002",
          "Country: Switzerland<br>Life Expectancy: 80.62<br>GDP per capita: 34480.95771<br>Population: 7361757<br>Year: 2002",
          "Country: Turkey<br>Life Expectancy: 70.845<br>GDP per capita: 6508.085718<br>Population: 67308928<br>Year: 2002",
          "Country: United Kingdom<br>Life Expectancy: 78.471<br>GDP per capita: 29478.99919<br>Population: 59912431<br>Year: 2002"
         ],
         "type": "scatter",
         "uid": "99a0ed2d-48ef-43ee-b96d-302b1f72c6a8",
         "x": [
          4604.211737,
          32417.60769,
          30485.88375,
          6018.975239,
          7696.777725,
          11628.38895,
          17596.210219999994,
          32166.50006,
          28204.59057,
          28926.03234,
          30035.80198,
          22514.2548,
          14843.93556,
          31163.20196,
          34077.04939,
          27968.09817,
          6557.194282,
          33724.75778,
          44683.97525,
          12002.23908,
          19970.90787,
          7885.360081,
          7236.075251,
          13638.778369999998,
          20660.01936,
          24835.47166,
          29341.630930000007,
          34480.95771,
          6508.085718,
          29478.99919
         ],
         "y": [
          75.65100000000002,
          78.98,
          78.32,
          74.09,
          72.14,
          74.876,
          75.51,
          77.18,
          78.37,
          79.59,
          78.67,
          78.256,
          72.59,
          80.5,
          77.783,
          80.24,
          73.98100000000002,
          78.53,
          79.05,
          74.67,
          77.29,
          71.322,
          73.21300000000002,
          73.8,
          76.66,
          79.78,
          80.04,
          80.62,
          70.845,
          78.471
         ]
        },
        {
         "marker": {
          "line": {
           "width": 2
          },
          "size": [
           31287142,
           10866106,
           7026113,
           1630347,
           12251209,
           7021078,
           15929988,
           4048013,
           8835739,
           614382,
           55379852,
           3328795,
           16252726,
           447416,
           73312559,
           495627,
           4414865,
           67946797,
           1299304,
           1457766,
           20550751,
           8807818,
           1332459,
           31386842,
           2046772,
           2814651,
           5368585,
           16473477,
           11824495,
           10580176,
           2828858,
           1200206,
           31167783,
           18473780,
           1972153,
           11140655,
           119901274,
           743981,
           7852401,
           170372,
           10870037,
           5359092,
           7753310,
           44433622,
           37090298,
           1130269,
           34593779,
           4977378,
           9770575,
           24739869,
           10595811,
           11926563
          ],
          "sizemode": "area",
          "sizeref": 390935.84
         },
         "mode": "markers",
         "name": "Africa",
         "text": [
          "Country: Algeria<br>Life Expectancy: 70.994<br>GDP per capita: 5288.040382<br>Population: 31287142<br>Year: 2002",
          "Country: Angola<br>Life Expectancy: 41.003<br>GDP per capita: 2773.287312<br>Population: 10866106<br>Year: 2002",
          "Country: Benin<br>Life Expectancy: 54.40600000000001<br>GDP per capita: 1372.877931<br>Population: 7026113<br>Year: 2002",
          "Country: Botswana<br>Life Expectancy: 46.63399999999999<br>GDP per capita: 11003.60508<br>Population: 1630347<br>Year: 2002",
          "Country: Burkina Faso<br>Life Expectancy: 50.65<br>GDP per capita: 1037.645221<br>Population: 12251209<br>Year: 2002",
          "Country: Burundi<br>Life Expectancy: 47.36<br>GDP per capita: 446.4035126<br>Population: 7021078<br>Year: 2002",
          "Country: Cameroon<br>Life Expectancy: 49.856<br>GDP per capita: 1934.011449<br>Population: 15929988<br>Year: 2002",
          "Country: Central African Republic<br>Life Expectancy: 43.308<br>GDP per capita: 738.6906068<br>Population: 4048013<br>Year: 2002",
          "Country: Chad<br>Life Expectancy: 50.525<br>GDP per capita: 1156.18186<br>Population: 8835739<br>Year: 2002",
          "Country: Comoros<br>Life Expectancy: 62.974<br>GDP per capita: 1075.811558<br>Population: 614382<br>Year: 2002",
          "Country: Congo, Dem. Rep.<br>Life Expectancy: 44.966<br>GDP per capita: 241.1658765<br>Population: 55379852<br>Year: 2002",
          "Country: Congo, Rep.<br>Life Expectancy: 52.97<br>GDP per capita: 3484.06197<br>Population: 3328795<br>Year: 2002",
          "Country: Cote d'Ivoire<br>Life Expectancy: 46.832<br>GDP per capita: 1648.800823<br>Population: 16252726<br>Year: 2002",
          "Country: Djibouti<br>Life Expectancy: 53.37300000000001<br>GDP per capita: 1908.260867<br>Population: 447416<br>Year: 2002",
          "Country: Egypt<br>Life Expectancy: 69.806<br>GDP per capita: 4754.604414<br>Population: 73312559<br>Year: 2002",
          "Country: Equatorial Guinea<br>Life Expectancy: 49.348<br>GDP per capita: 7703.4959<br>Population: 495627<br>Year: 2002",
          "Country: Eritrea<br>Life Expectancy: 55.24<br>GDP per capita: 765.3500015<br>Population: 4414865<br>Year: 2002",
          "Country: Ethiopia<br>Life Expectancy: 50.725<br>GDP per capita: 530.0535319<br>Population: 67946797<br>Year: 2002",
          "Country: Gabon<br>Life Expectancy: 56.761<br>GDP per capita: 12521.71392<br>Population: 1299304<br>Year: 2002",
          "Country: Gambia<br>Life Expectancy: 58.041<br>GDP per capita: 660.5855997<br>Population: 1457766<br>Year: 2002",
          "Country: Ghana<br>Life Expectancy: 58.453<br>GDP per capita: 1111.9845779999996<br>Population: 20550751<br>Year: 2002",
          "Country: Guinea<br>Life Expectancy: 53.676<br>GDP per capita: 945.5835837<br>Population: 8807818<br>Year: 2002",
          "Country: Guinea-Bissau<br>Life Expectancy: 45.504<br>GDP per capita: 575.7047176<br>Population: 1332459<br>Year: 2002",
          "Country: Kenya<br>Life Expectancy: 50.992<br>GDP per capita: 1287.514732<br>Population: 31386842<br>Year: 2002",
          "Country: Lesotho<br>Life Expectancy: 44.593<br>GDP per capita: 1275.184575<br>Population: 2046772<br>Year: 2002",
          "Country: Liberia<br>Life Expectancy: 43.753<br>GDP per capita: 531.4823679<br>Population: 2814651<br>Year: 2002",
          "Country: Libya<br>Life Expectancy: 72.737<br>GDP per capita: 9534.677467<br>Population: 5368585<br>Year: 2002",
          "Country: Madagascar<br>Life Expectancy: 57.286<br>GDP per capita: 894.6370822<br>Population: 16473477<br>Year: 2002",
          "Country: Malawi<br>Life Expectancy: 45.00899999999999<br>GDP per capita: 665.4231186000002<br>Population: 11824495<br>Year: 2002",
          "Country: Mali<br>Life Expectancy: 51.81800000000001<br>GDP per capita: 951.4097518<br>Population: 10580176<br>Year: 2002",
          "Country: Mauritania<br>Life Expectancy: 62.247<br>GDP per capita: 1579.019543<br>Population: 2828858<br>Year: 2002",
          "Country: Mauritius<br>Life Expectancy: 71.954<br>GDP per capita: 9021.815894<br>Population: 1200206<br>Year: 2002",
          "Country: Morocco<br>Life Expectancy: 69.615<br>GDP per capita: 3258.495584<br>Population: 31167783<br>Year: 2002",
          "Country: Mozambique<br>Life Expectancy: 44.026<br>GDP per capita: 633.6179466<br>Population: 18473780<br>Year: 2002",
          "Country: Namibia<br>Life Expectancy: 51.479<br>GDP per capita: 4072.324751<br>Population: 1972153<br>Year: 2002",
          "Country: Niger<br>Life Expectancy: 54.496<br>GDP per capita: 601.0745012<br>Population: 11140655<br>Year: 2002",
          "Country: Nigeria<br>Life Expectancy: 46.608<br>GDP per capita: 1615.286395<br>Population: 119901274<br>Year: 2002",
          "Country: Reunion<br>Life Expectancy: 75.744<br>GDP per capita: 6316.1652<br>Population: 743981<br>Year: 2002",
          "Country: Rwanda<br>Life Expectancy: 43.413<br>GDP per capita: 785.6537647999999<br>Population: 7852401<br>Year: 2002",
          "Country: Sao Tome and Principe<br>Life Expectancy: 64.337<br>GDP per capita: 1353.09239<br>Population: 170372<br>Year: 2002",
          "Country: Senegal<br>Life Expectancy: 61.6<br>GDP per capita: 1519.635262<br>Population: 10870037<br>Year: 2002",
          "Country: Sierra Leone<br>Life Expectancy: 41.012<br>GDP per capita: 699.4897129999998<br>Population: 5359092<br>Year: 2002",
          "Country: Somalia<br>Life Expectancy: 45.93600000000001<br>GDP per capita: 882.0818218000002<br>Population: 7753310<br>Year: 2002",
          "Country: South Africa<br>Life Expectancy: 53.365<br>GDP per capita: 7710.946444<br>Population: 44433622<br>Year: 2002",
          "Country: Sudan<br>Life Expectancy: 56.369<br>GDP per capita: 1993.398314<br>Population: 37090298<br>Year: 2002",
          "Country: Swaziland<br>Life Expectancy: 43.869<br>GDP per capita: 4128.116943<br>Population: 1130269<br>Year: 2002",
          "Country: Tanzania<br>Life Expectancy: 49.651<br>GDP per capita: 899.0742111<br>Population: 34593779<br>Year: 2002",
          "Country: Togo<br>Life Expectancy: 57.56100000000001<br>GDP per capita: 886.2205765000001<br>Population: 4977378<br>Year: 2002",
          "Country: Tunisia<br>Life Expectancy: 73.042<br>GDP per capita: 5722.895654999998<br>Population: 9770575<br>Year: 2002",
          "Country: Uganda<br>Life Expectancy: 47.813<br>GDP per capita: 927.7210018<br>Population: 24739869<br>Year: 2002",
          "Country: Zambia<br>Life Expectancy: 39.19300000000001<br>GDP per capita: 1071.6139380000004<br>Population: 10595811<br>Year: 2002",
          "Country: Zimbabwe<br>Life Expectancy: 39.989<br>GDP per capita: 672.0386227000001<br>Population: 11926563<br>Year: 2002"
         ],
         "type": "scatter",
         "uid": "6090a763-bd01-4673-84a4-30d2f58d6dab",
         "x": [
          5288.040382,
          2773.287312,
          1372.877931,
          11003.60508,
          1037.645221,
          446.4035126,
          1934.011449,
          738.6906068,
          1156.18186,
          1075.811558,
          241.1658765,
          3484.06197,
          1648.800823,
          1908.260867,
          4754.604414,
          7703.4959,
          765.3500015,
          530.0535319,
          12521.71392,
          660.5855997,
          1111.9845779999996,
          945.5835837,
          575.7047176,
          1287.514732,
          1275.184575,
          531.4823679,
          9534.677467,
          894.6370822,
          665.4231186000002,
          951.4097518,
          1579.019543,
          9021.815894,
          3258.495584,
          633.6179466,
          4072.324751,
          601.0745012,
          1615.286395,
          6316.1652,
          785.6537647999999,
          1353.09239,
          1519.635262,
          699.4897129999998,
          882.0818218000002,
          7710.946444,
          1993.398314,
          4128.116943,
          899.0742111,
          886.2205765000001,
          5722.895654999998,
          927.7210018,
          1071.6139380000004,
          672.0386227000001
         ],
         "y": [
          70.994,
          41.003,
          54.40600000000001,
          46.63399999999999,
          50.65,
          47.36,
          49.856,
          43.308,
          50.525,
          62.974,
          44.966,
          52.97,
          46.832,
          53.37300000000001,
          69.806,
          49.348,
          55.24,
          50.725,
          56.761,
          58.041,
          58.453,
          53.676,
          45.504,
          50.992,
          44.593,
          43.753,
          72.737,
          57.286,
          45.00899999999999,
          51.81800000000001,
          62.247,
          71.954,
          69.615,
          44.026,
          51.479,
          54.496,
          46.608,
          75.744,
          43.413,
          64.337,
          61.6,
          41.012,
          45.93600000000001,
          53.365,
          56.369,
          43.869,
          49.651,
          57.56100000000001,
          73.042,
          47.813,
          39.19300000000001,
          39.989
         ]
        },
        {
         "marker": {
          "line": {
           "width": 2
          },
          "size": [
           38331121,
           8445134,
           179914212,
           31902268,
           15497046,
           41008227,
           3834934,
           11226999,
           8650322,
           12921234,
           6353681,
           11178650,
           7607651,
           6677328,
           2664659,
           102479927,
           5146848,
           2990875,
           5884491,
           26769436,
           3859606,
           1101832,
           287675526,
           3363085,
           24287670
          ],
          "sizemode": "area",
          "sizeref": 390935.84
         },
         "mode": "markers",
         "name": "Americas",
         "text": [
          "Country: Argentina<br>Life Expectancy: 74.34<br>GDP per capita: 8797.640716<br>Population: 38331121<br>Year: 2002",
          "Country: Bolivia<br>Life Expectancy: 63.883<br>GDP per capita: 3413.26269<br>Population: 8445134<br>Year: 2002",
          "Country: Brazil<br>Life Expectancy: 71.006<br>GDP per capita: 8131.212843000001<br>Population: 179914212<br>Year: 2002",
          "Country: Canada<br>Life Expectancy: 79.77<br>GDP per capita: 33328.96507<br>Population: 31902268<br>Year: 2002",
          "Country: Chile<br>Life Expectancy: 77.86<br>GDP per capita: 10778.78385<br>Population: 15497046<br>Year: 2002",
          "Country: Colombia<br>Life Expectancy: 71.682<br>GDP per capita: 5755.259962<br>Population: 41008227<br>Year: 2002",
          "Country: Costa Rica<br>Life Expectancy: 78.123<br>GDP per capita: 7723.447195000002<br>Population: 3834934<br>Year: 2002",
          "Country: Cuba<br>Life Expectancy: 77.158<br>GDP per capita: 6340.646683<br>Population: 11226999<br>Year: 2002",
          "Country: Dominican Republic<br>Life Expectancy: 70.847<br>GDP per capita: 4563.808154<br>Population: 8650322<br>Year: 2002",
          "Country: Ecuador<br>Life Expectancy: 74.173<br>GDP per capita: 5773.044512<br>Population: 12921234<br>Year: 2002",
          "Country: El Salvador<br>Life Expectancy: 70.734<br>GDP per capita: 5351.568665999999<br>Population: 6353681<br>Year: 2002",
          "Country: Guatemala<br>Life Expectancy: 68.97800000000001<br>GDP per capita: 4858.347495<br>Population: 11178650<br>Year: 2002",
          "Country: Haiti<br>Life Expectancy: 58.137<br>GDP per capita: 1270.364932<br>Population: 7607651<br>Year: 2002",
          "Country: Honduras<br>Life Expectancy: 68.565<br>GDP per capita: 3099.72866<br>Population: 6677328<br>Year: 2002",
          "Country: Jamaica<br>Life Expectancy: 72.047<br>GDP per capita: 6994.774861<br>Population: 2664659<br>Year: 2002",
          "Country: Mexico<br>Life Expectancy: 74.902<br>GDP per capita: 10742.44053<br>Population: 102479927<br>Year: 2002",
          "Country: Nicaragua<br>Life Expectancy: 70.836<br>GDP per capita: 2474.548819<br>Population: 5146848<br>Year: 2002",
          "Country: Panama<br>Life Expectancy: 74.712<br>GDP per capita: 7356.0319340000015<br>Population: 2990875<br>Year: 2002",
          "Country: Paraguay<br>Life Expectancy: 70.755<br>GDP per capita: 3783.674243<br>Population: 5884491<br>Year: 2002",
          "Country: Peru<br>Life Expectancy: 69.906<br>GDP per capita: 5909.020073<br>Population: 26769436<br>Year: 2002",
          "Country: Puerto Rico<br>Life Expectancy: 77.778<br>GDP per capita: 18855.60618<br>Population: 3859606<br>Year: 2002",
          "Country: Trinidad and Tobago<br>Life Expectancy: 68.976<br>GDP per capita: 11460.60023<br>Population: 1101832<br>Year: 2002",
          "Country: United States<br>Life Expectancy: 77.31<br>GDP per capita: 39097.09955<br>Population: 287675526<br>Year: 2002",
          "Country: Uruguay<br>Life Expectancy: 75.307<br>GDP per capita: 7727.002004000001<br>Population: 3363085<br>Year: 2002",
          "Country: Venezuela<br>Life Expectancy: 72.766<br>GDP per capita: 8605.047831<br>Population: 24287670<br>Year: 2002"
         ],
         "type": "scatter",
         "uid": "e26f9caa-7acd-454d-85a6-9b1f5eee16da",
         "x": [
          8797.640716,
          3413.26269,
          8131.212843000001,
          33328.96507,
          10778.78385,
          5755.259962,
          7723.447195000002,
          6340.646683,
          4563.808154,
          5773.044512,
          5351.568665999999,
          4858.347495,
          1270.364932,
          3099.72866,
          6994.774861,
          10742.44053,
          2474.548819,
          7356.0319340000015,
          3783.674243,
          5909.020073,
          18855.60618,
          11460.60023,
          39097.09955,
          7727.002004000001,
          8605.047831
         ],
         "y": [
          74.34,
          63.883,
          71.006,
          79.77,
          77.86,
          71.682,
          78.123,
          77.158,
          70.847,
          74.173,
          70.734,
          68.97800000000001,
          58.137,
          68.565,
          72.047,
          74.902,
          70.836,
          74.712,
          70.755,
          69.906,
          77.778,
          68.976,
          77.31,
          75.307,
          72.766
         ]
        },
        {
         "marker": {
          "line": {
           "width": 2
          },
          "size": [
           19546792,
           3908037
          ],
          "sizemode": "area",
          "sizeref": 390935.84
         },
         "mode": "markers",
         "name": "Oceania",
         "text": [
          "Country: Australia<br>Life Expectancy: 80.37<br>GDP per capita: 30687.75473<br>Population: 19546792<br>Year: 2002",
          "Country: New Zealand<br>Life Expectancy: 79.11<br>GDP per capita: 23189.80135<br>Population: 3908037<br>Year: 2002"
         ],
         "type": "scatter",
         "uid": "683f6787-e158-4af7-b4b2-acd4e3d317bb",
         "x": [
          30687.75473,
          23189.80135
         ],
         "y": [
          80.37,
          79.11
         ]
        }
       ],
       "layout": {
        "autosize": false,
        "height": 450,
        "template": {
         "data": {
          "bar": [
           {
            "error_x": {
             "color": "#2a3f5f"
            },
            "error_y": {
             "color": "#2a3f5f"
            },
            "marker": {
             "line": {
              "color": "#E5ECF6",
              "width": 0.5
             }
            },
            "type": "bar"
           }
          ],
          "barpolar": [
           {
            "marker": {
             "line": {
              "color": "#E5ECF6",
              "width": 0.5
             }
            },
            "type": "barpolar"
           }
          ],
          "carpet": [
           {
            "aaxis": {
             "endlinecolor": "#2a3f5f",
             "gridcolor": "white",
             "linecolor": "white",
             "minorgridcolor": "white",
             "startlinecolor": "#2a3f5f"
            },
            "baxis": {
             "endlinecolor": "#2a3f5f",
             "gridcolor": "white",
             "linecolor": "white",
             "minorgridcolor": "white",
             "startlinecolor": "#2a3f5f"
            },
            "type": "carpet"
           }
          ],
          "choropleth": [
           {
            "colorbar": {
             "outlinewidth": 0,
             "ticks": ""
            },
            "type": "choropleth"
           }
          ],
          "contour": [
           {
            "colorbar": {
             "outlinewidth": 0,
             "ticks": ""
            },
            "colorscale": [
             [
              0,
              "#0d0887"
             ],
             [
              0.1111111111111111,
              "#46039f"
             ],
             [
              0.2222222222222222,
              "#7201a8"
             ],
             [
              0.3333333333333333,
              "#9c179e"
             ],
             [
              0.4444444444444444,
              "#bd3786"
             ],
             [
              0.5555555555555556,
              "#d8576b"
             ],
             [
              0.6666666666666666,
              "#ed7953"
             ],
             [
              0.7777777777777778,
              "#fb9f3a"
             ],
             [
              0.8888888888888888,
              "#fdca26"
             ],
             [
              1,
              "#f0f921"
             ]
            ],
            "type": "contour"
           }
          ],
          "contourcarpet": [
           {
            "colorbar": {
             "outlinewidth": 0,
             "ticks": ""
            },
            "type": "contourcarpet"
           }
          ],
          "heatmap": [
           {
            "colorbar": {
             "outlinewidth": 0,
             "ticks": ""
            },
            "colorscale": [
             [
              0,
              "#0d0887"
             ],
             [
              0.1111111111111111,
              "#46039f"
             ],
             [
              0.2222222222222222,
              "#7201a8"
             ],
             [
              0.3333333333333333,
              "#9c179e"
             ],
             [
              0.4444444444444444,
              "#bd3786"
             ],
             [
              0.5555555555555556,
              "#d8576b"
             ],
             [
              0.6666666666666666,
              "#ed7953"
             ],
             [
              0.7777777777777778,
              "#fb9f3a"
             ],
             [
              0.8888888888888888,
              "#fdca26"
             ],
             [
              1,
              "#f0f921"
             ]
            ],
            "type": "heatmap"
           }
          ],
          "heatmapgl": [
           {
            "colorbar": {
             "outlinewidth": 0,
             "ticks": ""
            },
            "colorscale": [
             [
              0,
              "#0d0887"
             ],
             [
              0.1111111111111111,
              "#46039f"
             ],
             [
              0.2222222222222222,
              "#7201a8"
             ],
             [
              0.3333333333333333,
              "#9c179e"
             ],
             [
              0.4444444444444444,
              "#bd3786"
             ],
             [
              0.5555555555555556,
              "#d8576b"
             ],
             [
              0.6666666666666666,
              "#ed7953"
             ],
             [
              0.7777777777777778,
              "#fb9f3a"
             ],
             [
              0.8888888888888888,
              "#fdca26"
             ],
             [
              1,
              "#f0f921"
             ]
            ],
            "type": "heatmapgl"
           }
          ],
          "histogram": [
           {
            "marker": {
             "colorbar": {
              "outlinewidth": 0,
              "ticks": ""
             }
            },
            "type": "histogram"
           }
          ],
          "histogram2d": [
           {
            "colorbar": {
             "outlinewidth": 0,
             "ticks": ""
            },
            "colorscale": [
             [
              0,
              "#0d0887"
             ],
             [
              0.1111111111111111,
              "#46039f"
             ],
             [
              0.2222222222222222,
              "#7201a8"
             ],
             [
              0.3333333333333333,
              "#9c179e"
             ],
             [
              0.4444444444444444,
              "#bd3786"
             ],
             [
              0.5555555555555556,
              "#d8576b"
             ],
             [
              0.6666666666666666,
              "#ed7953"
             ],
             [
              0.7777777777777778,
              "#fb9f3a"
             ],
             [
              0.8888888888888888,
              "#fdca26"
             ],
             [
              1,
              "#f0f921"
             ]
            ],
            "type": "histogram2d"
           }
          ],
          "histogram2dcontour": [
           {
            "colorbar": {
             "outlinewidth": 0,
             "ticks": ""
            },
            "colorscale": [
             [
              0,
              "#0d0887"
             ],
             [
              0.1111111111111111,
              "#46039f"
             ],
             [
              0.2222222222222222,
              "#7201a8"
             ],
             [
              0.3333333333333333,
              "#9c179e"
             ],
             [
              0.4444444444444444,
              "#bd3786"
             ],
             [
              0.5555555555555556,
              "#d8576b"
             ],
             [
              0.6666666666666666,
              "#ed7953"
             ],
             [
              0.7777777777777778,
              "#fb9f3a"
             ],
             [
              0.8888888888888888,
              "#fdca26"
             ],
             [
              1,
              "#f0f921"
             ]
            ],
            "type": "histogram2dcontour"
           }
          ],
          "mesh3d": [
           {
            "colorbar": {
             "outlinewidth": 0,
             "ticks": ""
            },
            "type": "mesh3d"
           }
          ],
          "parcoords": [
           {
            "line": {
             "colorbar": {
              "outlinewidth": 0,
              "ticks": ""
             }
            },
            "type": "parcoords"
           }
          ],
          "pie": [
           {
            "automargin": true,
            "type": "pie"
           }
          ],
          "scatter": [
           {
            "marker": {
             "colorbar": {
              "outlinewidth": 0,
              "ticks": ""
             }
            },
            "type": "scatter"
           }
          ],
          "scatter3d": [
           {
            "line": {
             "colorbar": {
              "outlinewidth": 0,
              "ticks": ""
             }
            },
            "marker": {
             "colorbar": {
              "outlinewidth": 0,
              "ticks": ""
             }
            },
            "type": "scatter3d"
           }
          ],
          "scattercarpet": [
           {
            "marker": {
             "colorbar": {
              "outlinewidth": 0,
              "ticks": ""
             }
            },
            "type": "scattercarpet"
           }
          ],
          "scattergeo": [
           {
            "marker": {
             "colorbar": {
              "outlinewidth": 0,
              "ticks": ""
             }
            },
            "type": "scattergeo"
           }
          ],
          "scattergl": [
           {
            "marker": {
             "colorbar": {
              "outlinewidth": 0,
              "ticks": ""
             }
            },
            "type": "scattergl"
           }
          ],
          "scattermapbox": [
           {
            "marker": {
             "colorbar": {
              "outlinewidth": 0,
              "ticks": ""
             }
            },
            "type": "scattermapbox"
           }
          ],
          "scatterpolar": [
           {
            "marker": {
             "colorbar": {
              "outlinewidth": 0,
              "ticks": ""
             }
            },
            "type": "scatterpolar"
           }
          ],
          "scatterpolargl": [
           {
            "marker": {
             "colorbar": {
              "outlinewidth": 0,
              "ticks": ""
             }
            },
            "type": "scatterpolargl"
           }
          ],
          "scatterternary": [
           {
            "marker": {
             "colorbar": {
              "outlinewidth": 0,
              "ticks": ""
             }
            },
            "type": "scatterternary"
           }
          ],
          "surface": [
           {
            "colorbar": {
             "outlinewidth": 0,
             "ticks": ""
            },
            "colorscale": [
             [
              0,
              "#0d0887"
             ],
             [
              0.1111111111111111,
              "#46039f"
             ],
             [
              0.2222222222222222,
              "#7201a8"
             ],
             [
              0.3333333333333333,
              "#9c179e"
             ],
             [
              0.4444444444444444,
              "#bd3786"
             ],
             [
              0.5555555555555556,
              "#d8576b"
             ],
             [
              0.6666666666666666,
              "#ed7953"
             ],
             [
              0.7777777777777778,
              "#fb9f3a"
             ],
             [
              0.8888888888888888,
              "#fdca26"
             ],
             [
              1,
              "#f0f921"
             ]
            ],
            "type": "surface"
           }
          ],
          "table": [
           {
            "cells": {
             "fill": {
              "color": "#EBF0F8"
             },
             "line": {
              "color": "white"
             }
            },
            "header": {
             "fill": {
              "color": "#C8D4E3"
             },
             "line": {
              "color": "white"
             }
            },
            "type": "table"
           }
          ]
         },
         "layout": {
          "annotationdefaults": {
           "arrowcolor": "#2a3f5f",
           "arrowhead": 0,
           "arrowwidth": 1
          },
          "coloraxis": {
           "colorbar": {
            "outlinewidth": 0,
            "ticks": ""
           }
          },
          "colorscale": {
           "diverging": [
            [
             0,
             "#8e0152"
            ],
            [
             0.1,
             "#c51b7d"
            ],
            [
             0.2,
             "#de77ae"
            ],
            [
             0.3,
             "#f1b6da"
            ],
            [
             0.4,
             "#fde0ef"
            ],
            [
             0.5,
             "#f7f7f7"
            ],
            [
             0.6,
             "#e6f5d0"
            ],
            [
             0.7,
             "#b8e186"
            ],
            [
             0.8,
             "#7fbc41"
            ],
            [
             0.9,
             "#4d9221"
            ],
            [
             1,
             "#276419"
            ]
           ],
           "sequential": [
            [
             0,
             "#0d0887"
            ],
            [
             0.1111111111111111,
             "#46039f"
            ],
            [
             0.2222222222222222,
             "#7201a8"
            ],
            [
             0.3333333333333333,
             "#9c179e"
            ],
            [
             0.4444444444444444,
             "#bd3786"
            ],
            [
             0.5555555555555556,
             "#d8576b"
            ],
            [
             0.6666666666666666,
             "#ed7953"
            ],
            [
             0.7777777777777778,
             "#fb9f3a"
            ],
            [
             0.8888888888888888,
             "#fdca26"
            ],
            [
             1,
             "#f0f921"
            ]
           ],
           "sequentialminus": [
            [
             0,
             "#0d0887"
            ],
            [
             0.1111111111111111,
             "#46039f"
            ],
            [
             0.2222222222222222,
             "#7201a8"
            ],
            [
             0.3333333333333333,
             "#9c179e"
            ],
            [
             0.4444444444444444,
             "#bd3786"
            ],
            [
             0.5555555555555556,
             "#d8576b"
            ],
            [
             0.6666666666666666,
             "#ed7953"
            ],
            [
             0.7777777777777778,
             "#fb9f3a"
            ],
            [
             0.8888888888888888,
             "#fdca26"
            ],
            [
             1,
             "#f0f921"
            ]
           ]
          },
          "colorway": [
           "#636efa",
           "#EF553B",
           "#00cc96",
           "#ab63fa",
           "#FFA15A",
           "#19d3f3",
           "#FF6692",
           "#B6E880",
           "#FF97FF",
           "#FECB52"
          ],
          "font": {
           "color": "#2a3f5f"
          },
          "geo": {
           "bgcolor": "white",
           "lakecolor": "white",
           "landcolor": "#E5ECF6",
           "showlakes": true,
           "showland": true,
           "subunitcolor": "white"
          },
          "hoverlabel": {
           "align": "left"
          },
          "hovermode": "closest",
          "mapbox": {
           "style": "light"
          },
          "paper_bgcolor": "white",
          "plot_bgcolor": "#E5ECF6",
          "polar": {
           "angularaxis": {
            "gridcolor": "white",
            "linecolor": "white",
            "ticks": ""
           },
           "bgcolor": "#E5ECF6",
           "radialaxis": {
            "gridcolor": "white",
            "linecolor": "white",
            "ticks": ""
           }
          },
          "scene": {
           "xaxis": {
            "backgroundcolor": "#E5ECF6",
            "gridcolor": "white",
            "gridwidth": 2,
            "linecolor": "white",
            "showbackground": true,
            "ticks": "",
            "zerolinecolor": "white"
           },
           "yaxis": {
            "backgroundcolor": "#E5ECF6",
            "gridcolor": "white",
            "gridwidth": 2,
            "linecolor": "white",
            "showbackground": true,
            "ticks": "",
            "zerolinecolor": "white"
           },
           "zaxis": {
            "backgroundcolor": "#E5ECF6",
            "gridcolor": "white",
            "gridwidth": 2,
            "linecolor": "white",
            "showbackground": true,
            "ticks": "",
            "zerolinecolor": "white"
           }
          },
          "shapedefaults": {
           "line": {
            "color": "#2a3f5f"
           }
          },
          "ternary": {
           "aaxis": {
            "gridcolor": "white",
            "linecolor": "white",
            "ticks": ""
           },
           "baxis": {
            "gridcolor": "white",
            "linecolor": "white",
            "ticks": ""
           },
           "bgcolor": "#E5ECF6",
           "caxis": {
            "gridcolor": "white",
            "linecolor": "white",
            "ticks": ""
           }
          },
          "title": {
           "x": 0.05
          },
          "xaxis": {
           "automargin": true,
           "gridcolor": "white",
           "linecolor": "white",
           "ticks": "",
           "title": {
            "standoff": 15
           },
           "zerolinecolor": "white",
           "zerolinewidth": 2
          },
          "yaxis": {
           "automargin": true,
           "gridcolor": "white",
           "linecolor": "white",
           "ticks": "",
           "title": {
            "standoff": 15
           },
           "zerolinecolor": "white",
           "zerolinewidth": 2
          }
         }
        },
        "width": 700,
        "xaxis": {
         "autorange": true,
         "linecolor": "rgb(204, 204, 204)",
         "linewidth": 2,
         "range": [
          -5191.591234126039,
          47642.6952956685
         ],
         "ticks": "outside",
         "title": {
          "text": "GDP per capita"
         },
         "type": "linear"
        },
        "yaxis": {
         "autorange": true,
         "linecolor": "rgb(204, 204, 204)",
         "linewidth": 2,
         "range": [
          35.83603494871941,
          87.28873725334148
         ],
         "ticks": "outside",
         "title": {
          "text": "life expectancy"
         },
         "type": "linear"
        }
       }
      },
      "image/png": "[encoded data removed]",
      "text/html": [
       "<div>\n",
       "        \n",
       "        \n",
       "            <div id=\"94b1d0ad-136b-4a20-940a-5f62c37b1260\" class=\"plotly-graph-div\" style=\"height:525px; width:100%;\"></div>\n",
       "            <script type=\"text/javascript\">\n",
       "                require([\"plotly\"], function(Plotly) {\n",
       "                    window.PLOTLYENV=window.PLOTLYENV || {};\n",
       "                    \n",
       "                if (document.getElementById(\"94b1d0ad-136b-4a20-940a-5f62c37b1260\")) {\n",
       "                    Plotly.newPlot(\n",
       "                        '94b1d0ad-136b-4a20-940a-5f62c37b1260',\n",
       "                        [{\"marker\": {\"line\": {\"width\": 2}, \"size\": [25268405, 656397, 135656790, 12926707, 1280400000, 6762476, 1034172547, 211060000, 66907826, 24001816, 6029529, 127065841, 5307470, 22215365, 47969150, 2111561, 3677780, 22662365, 2674234, 45598081, 25873917, 2713462, 153403524, 82995088, 24501530, 4197776, 19576783, 17155814, 22454239, 62806748, 80908147, 3389578, 18701257], \"sizemode\": \"area\", \"sizeref\": 390935.84}, \"mode\": \"markers\", \"name\": \"Asia\", \"text\": [\"Country: Afghanistan<br>Life Expectancy: 42.129<br>GDP per capita: 726.7340548<br>Population: 25268405<br>Year: 2002\", \"Country: Bahrain<br>Life Expectancy: 74.795<br>GDP per capita: 23403.55927<br>Population: 656397<br>Year: 2002\", \"Country: Bangladesh<br>Life Expectancy: 62.01300000000001<br>GDP per capita: 1136.3904300000004<br>Population: 135656790<br>Year: 2002\", \"Country: Cambodia<br>Life Expectancy: 56.752<br>GDP per capita: 896.2260152999999<br>Population: 12926707<br>Year: 2002\", \"Country: China<br>Life Expectancy: 72.028<br>GDP per capita: 3119.280896<br>Population: 1280400000<br>Year: 2002\", \"Country: Hong Kong, China<br>Life Expectancy: 81.495<br>GDP per capita: 30209.015160000006<br>Population: 6762476<br>Year: 2002\", \"Country: India<br>Life Expectancy: 62.879<br>GDP per capita: 1746.769454<br>Population: 1034172547<br>Year: 2002\", \"Country: Indonesia<br>Life Expectancy: 68.58800000000001<br>GDP per capita: 2873.91287<br>Population: 211060000<br>Year: 2002\", \"Country: Iran<br>Life Expectancy: 69.45100000000001<br>GDP per capita: 9240.761975<br>Population: 66907826<br>Year: 2002\", \"Country: Iraq<br>Life Expectancy: 57.04600000000001<br>GDP per capita: 4390.717312<br>Population: 24001816<br>Year: 2002\", \"Country: Israel<br>Life Expectancy: 79.696<br>GDP per capita: 21905.59514<br>Population: 6029529<br>Year: 2002\", \"Country: Japan<br>Life Expectancy: 82.0<br>GDP per capita: 28604.5919<br>Population: 127065841<br>Year: 2002\", \"Country: Jordan<br>Life Expectancy: 71.263<br>GDP per capita: 3844.917194<br>Population: 5307470<br>Year: 2002\", \"Country: Korea, Dem. Rep.<br>Life Expectancy: 66.66199999999999<br>GDP per capita: 1646.758151<br>Population: 22215365<br>Year: 2002\", \"Country: Korea, Rep.<br>Life Expectancy: 77.045<br>GDP per capita: 19233.98818<br>Population: 47969150<br>Year: 2002\", \"Country: Kuwait<br>Life Expectancy: 76.904<br>GDP per capita: 35110.10566<br>Population: 2111561<br>Year: 2002\", \"Country: Lebanon<br>Life Expectancy: 71.028<br>GDP per capita: 9313.93883<br>Population: 3677780<br>Year: 2002\", \"Country: Malaysia<br>Life Expectancy: 73.044<br>GDP per capita: 10206.97794<br>Population: 22662365<br>Year: 2002\", \"Country: Mongolia<br>Life Expectancy: 65.033<br>GDP per capita: 2140.739323<br>Population: 2674234<br>Year: 2002\", \"Country: Myanmar<br>Life Expectancy: 59.908<br>GDP per capita: 611.0<br>Population: 45598081<br>Year: 2002\", \"Country: Nepal<br>Life Expectancy: 61.34<br>GDP per capita: 1057.206311<br>Population: 25873917<br>Year: 2002\", \"Country: Oman<br>Life Expectancy: 74.193<br>GDP per capita: 19774.83687<br>Population: 2713462<br>Year: 2002\", \"Country: Pakistan<br>Life Expectancy: 63.61<br>GDP per capita: 2092.712441<br>Population: 153403524<br>Year: 2002\", \"Country: Philippines<br>Life Expectancy: 70.303<br>GDP per capita: 2650.921068<br>Population: 82995088<br>Year: 2002\", \"Country: Saudi Arabia<br>Life Expectancy: 71.626<br>GDP per capita: 19014.54118<br>Population: 24501530<br>Year: 2002\", \"Country: Singapore<br>Life Expectancy: 78.77<br>GDP per capita: 36023.1054<br>Population: 4197776<br>Year: 2002\", \"Country: Sri Lanka<br>Life Expectancy: 70.815<br>GDP per capita: 3015.378833<br>Population: 19576783<br>Year: 2002\", \"Country: Syria<br>Life Expectancy: 73.053<br>GDP per capita: 4090.925331<br>Population: 17155814<br>Year: 2002\", \"Country: Taiwan<br>Life Expectancy: 76.99<br>GDP per capita: 23235.42329<br>Population: 22454239<br>Year: 2002\", \"Country: Thailand<br>Life Expectancy: 68.564<br>GDP per capita: 5913.187529<br>Population: 62806748<br>Year: 2002\", \"Country: Vietnam<br>Life Expectancy: 73.017<br>GDP per capita: 1764.456677<br>Population: 80908147<br>Year: 2002\", \"Country: West Bank and Gaza<br>Life Expectancy: 72.37<br>GDP per capita: 4515.487575<br>Population: 3389578<br>Year: 2002\", \"Country: Yemen, Rep.<br>Life Expectancy: 60.308<br>GDP per capita: 2234.820827<br>Population: 18701257<br>Year: 2002\"], \"type\": \"scatter\", \"uid\": \"9724319d-e73b-41fe-85dd-1c01cbeb6421\", \"x\": [726.7340548, 23403.55927, 1136.3904300000004, 896.2260152999999, 3119.280896, 30209.015160000006, 1746.769454, 2873.91287, 9240.761975, 4390.717312, 21905.59514, 28604.5919, 3844.917194, 1646.758151, 19233.98818, 35110.10566, 9313.93883, 10206.97794, 2140.739323, 611.0, 1057.206311, 19774.83687, 2092.712441, 2650.921068, 19014.54118, 36023.1054, 3015.378833, 4090.925331, 23235.42329, 5913.187529, 1764.456677, 4515.487575, 2234.820827], \"y\": [42.129, 74.795, 62.01300000000001, 56.752, 72.028, 81.495, 62.879, 68.58800000000001, 69.45100000000001, 57.04600000000001, 79.696, 82.0, 71.263, 66.66199999999999, 77.045, 76.904, 71.028, 73.044, 65.033, 59.908, 61.34, 74.193, 63.61, 70.303, 71.626, 78.77, 70.815, 73.053, 76.99, 68.564, 73.017, 72.37, 60.308]}, {\"marker\": {\"line\": {\"width\": 2}, \"size\": [3508512, 8148312, 10311970, 4165416, 7661799, 4481020, 10256295, 5374693, 5193039, 59925035, 82350671, 10603863, 10083313, 288030, 3879155, 57926999, 720230, 16122830, 4535591, 38625976, 10433867, 22404337, 10111559, 5410052, 2011497, 40152517, 8954175, 7361757, 67308928, 59912431], \"sizemode\": \"area\", \"sizeref\": 390935.84}, \"mode\": \"markers\", \"name\": \"Europe\", \"text\": [\"Country: Albania<br>Life Expectancy: 75.65100000000002<br>GDP per capita: 4604.211737<br>Population: 3508512<br>Year: 2002\", \"Country: Austria<br>Life Expectancy: 78.98<br>GDP per capita: 32417.60769<br>Population: 8148312<br>Year: 2002\", \"Country: Belgium<br>Life Expectancy: 78.32<br>GDP per capita: 30485.88375<br>Population: 10311970<br>Year: 2002\", \"Country: Bosnia and Herzegovina<br>Life Expectancy: 74.09<br>GDP per capita: 6018.975239<br>Population: 4165416<br>Year: 2002\", \"Country: Bulgaria<br>Life Expectancy: 72.14<br>GDP per capita: 7696.777725<br>Population: 7661799<br>Year: 2002\", \"Country: Croatia<br>Life Expectancy: 74.876<br>GDP per capita: 11628.38895<br>Population: 4481020<br>Year: 2002\", \"Country: Czech Republic<br>Life Expectancy: 75.51<br>GDP per capita: 17596.210219999994<br>Population: 10256295<br>Year: 2002\", \"Country: Denmark<br>Life Expectancy: 77.18<br>GDP per capita: 32166.50006<br>Population: 5374693<br>Year: 2002\", \"Country: Finland<br>Life Expectancy: 78.37<br>GDP per capita: 28204.59057<br>Population: 5193039<br>Year: 2002\", \"Country: France<br>Life Expectancy: 79.59<br>GDP per capita: 28926.03234<br>Population: 59925035<br>Year: 2002\", \"Country: Germany<br>Life Expectancy: 78.67<br>GDP per capita: 30035.80198<br>Population: 82350671<br>Year: 2002\", \"Country: Greece<br>Life Expectancy: 78.256<br>GDP per capita: 22514.2548<br>Population: 10603863<br>Year: 2002\", \"Country: Hungary<br>Life Expectancy: 72.59<br>GDP per capita: 14843.93556<br>Population: 10083313<br>Year: 2002\", \"Country: Iceland<br>Life Expectancy: 80.5<br>GDP per capita: 31163.20196<br>Population: 288030<br>Year: 2002\", \"Country: Ireland<br>Life Expectancy: 77.783<br>GDP per capita: 34077.04939<br>Population: 3879155<br>Year: 2002\", \"Country: Italy<br>Life Expectancy: 80.24<br>GDP per capita: 27968.09817<br>Population: 57926999<br>Year: 2002\", \"Country: Montenegro<br>Life Expectancy: 73.98100000000002<br>GDP per capita: 6557.194282<br>Population: 720230<br>Year: 2002\", \"Country: Netherlands<br>Life Expectancy: 78.53<br>GDP per capita: 33724.75778<br>Population: 16122830<br>Year: 2002\", \"Country: Norway<br>Life Expectancy: 79.05<br>GDP per capita: 44683.97525<br>Population: 4535591<br>Year: 2002\", \"Country: Poland<br>Life Expectancy: 74.67<br>GDP per capita: 12002.23908<br>Population: 38625976<br>Year: 2002\", \"Country: Portugal<br>Life Expectancy: 77.29<br>GDP per capita: 19970.90787<br>Population: 10433867<br>Year: 2002\", \"Country: Romania<br>Life Expectancy: 71.322<br>GDP per capita: 7885.360081<br>Population: 22404337<br>Year: 2002\", \"Country: Serbia<br>Life Expectancy: 73.21300000000002<br>GDP per capita: 7236.075251<br>Population: 10111559<br>Year: 2002\", \"Country: Slovak Republic<br>Life Expectancy: 73.8<br>GDP per capita: 13638.778369999998<br>Population: 5410052<br>Year: 2002\", \"Country: Slovenia<br>Life Expectancy: 76.66<br>GDP per capita: 20660.01936<br>Population: 2011497<br>Year: 2002\", \"Country: Spain<br>Life Expectancy: 79.78<br>GDP per capita: 24835.47166<br>Population: 40152517<br>Year: 2002\", \"Country: Sweden<br>Life Expectancy: 80.04<br>GDP per capita: 29341.630930000007<br>Population: 8954175<br>Year: 2002\", \"Country: Switzerland<br>Life Expectancy: 80.62<br>GDP per capita: 34480.95771<br>Population: 7361757<br>Year: 2002\", \"Country: Turkey<br>Life Expectancy: 70.845<br>GDP per capita: 6508.085718<br>Population: 67308928<br>Year: 2002\", \"Country: United Kingdom<br>Life Expectancy: 78.471<br>GDP per capita: 29478.99919<br>Population: 59912431<br>Year: 2002\"], \"type\": \"scatter\", \"uid\": \"99a0ed2d-48ef-43ee-b96d-302b1f72c6a8\", \"x\": [4604.211737, 32417.60769, 30485.88375, 6018.975239, 7696.777725, 11628.38895, 17596.210219999994, 32166.50006, 28204.59057, 28926.03234, 30035.80198, 22514.2548, 14843.93556, 31163.20196, 34077.04939, 27968.09817, 6557.194282, 33724.75778, 44683.97525, 12002.23908, 19970.90787, 7885.360081, 7236.075251, 13638.778369999998, 20660.01936, 24835.47166, 29341.630930000007, 34480.95771, 6508.085718, 29478.99919], \"y\": [75.65100000000002, 78.98, 78.32, 74.09, 72.14, 74.876, 75.51, 77.18, 78.37, 79.59, 78.67, 78.256, 72.59, 80.5, 77.783, 80.24, 73.98100000000002, 78.53, 79.05, 74.67, 77.29, 71.322, 73.21300000000002, 73.8, 76.66, 79.78, 80.04, 80.62, 70.845, 78.471]}, {\"marker\": {\"line\": {\"width\": 2}, \"size\": [31287142, 10866106, 7026113, 1630347, 12251209, 7021078, 15929988, 4048013, 8835739, 614382, 55379852, 3328795, 16252726, 447416, 73312559, 495627, 4414865, 67946797, 1299304, 1457766, 20550751, 8807818, 1332459, 31386842, 2046772, 2814651, 5368585, 16473477, 11824495, 10580176, 2828858, 1200206, 31167783, 18473780, 1972153, 11140655, 119901274, 743981, 7852401, 170372, 10870037, 5359092, 7753310, 44433622, 37090298, 1130269, 34593779, 4977378, 9770575, 24739869, 10595811, 11926563], \"sizemode\": \"area\", \"sizeref\": 390935.84}, \"mode\": \"markers\", \"name\": \"Africa\", \"text\": [\"Country: Algeria<br>Life Expectancy: 70.994<br>GDP per capita: 5288.040382<br>Population: 31287142<br>Year: 2002\", \"Country: Angola<br>Life Expectancy: 41.003<br>GDP per capita: 2773.287312<br>Population: 10866106<br>Year: 2002\", \"Country: Benin<br>Life Expectancy: 54.40600000000001<br>GDP per capita: 1372.877931<br>Population: 7026113<br>Year: 2002\", \"Country: Botswana<br>Life Expectancy: 46.63399999999999<br>GDP per capita: 11003.60508<br>Population: 1630347<br>Year: 2002\", \"Country: Burkina Faso<br>Life Expectancy: 50.65<br>GDP per capita: 1037.645221<br>Population: 12251209<br>Year: 2002\", \"Country: Burundi<br>Life Expectancy: 47.36<br>GDP per capita: 446.4035126<br>Population: 7021078<br>Year: 2002\", \"Country: Cameroon<br>Life Expectancy: 49.856<br>GDP per capita: 1934.011449<br>Population: 15929988<br>Year: 2002\", \"Country: Central African Republic<br>Life Expectancy: 43.308<br>GDP per capita: 738.6906068<br>Population: 4048013<br>Year: 2002\", \"Country: Chad<br>Life Expectancy: 50.525<br>GDP per capita: 1156.18186<br>Population: 8835739<br>Year: 2002\", \"Country: Comoros<br>Life Expectancy: 62.974<br>GDP per capita: 1075.811558<br>Population: 614382<br>Year: 2002\", \"Country: Congo, Dem. Rep.<br>Life Expectancy: 44.966<br>GDP per capita: 241.1658765<br>Population: 55379852<br>Year: 2002\", \"Country: Congo, Rep.<br>Life Expectancy: 52.97<br>GDP per capita: 3484.06197<br>Population: 3328795<br>Year: 2002\", \"Country: Cote d'Ivoire<br>Life Expectancy: 46.832<br>GDP per capita: 1648.800823<br>Population: 16252726<br>Year: 2002\", \"Country: Djibouti<br>Life Expectancy: 53.37300000000001<br>GDP per capita: 1908.260867<br>Population: 447416<br>Year: 2002\", \"Country: Egypt<br>Life Expectancy: 69.806<br>GDP per capita: 4754.604414<br>Population: 73312559<br>Year: 2002\", \"Country: Equatorial Guinea<br>Life Expectancy: 49.348<br>GDP per capita: 7703.4959<br>Population: 495627<br>Year: 2002\", \"Country: Eritrea<br>Life Expectancy: 55.24<br>GDP per capita: 765.3500015<br>Population: 4414865<br>Year: 2002\", \"Country: Ethiopia<br>Life Expectancy: 50.725<br>GDP per capita: 530.0535319<br>Population: 67946797<br>Year: 2002\", \"Country: Gabon<br>Life Expectancy: 56.761<br>GDP per capita: 12521.71392<br>Population: 1299304<br>Year: 2002\", \"Country: Gambia<br>Life Expectancy: 58.041<br>GDP per capita: 660.5855997<br>Population: 1457766<br>Year: 2002\", \"Country: Ghana<br>Life Expectancy: 58.453<br>GDP per capita: 1111.9845779999996<br>Population: 20550751<br>Year: 2002\", \"Country: Guinea<br>Life Expectancy: 53.676<br>GDP per capita: 945.5835837<br>Population: 8807818<br>Year: 2002\", \"Country: Guinea-Bissau<br>Life Expectancy: 45.504<br>GDP per capita: 575.7047176<br>Population: 1332459<br>Year: 2002\", \"Country: Kenya<br>Life Expectancy: 50.992<br>GDP per capita: 1287.514732<br>Population: 31386842<br>Year: 2002\", \"Country: Lesotho<br>Life Expectancy: 44.593<br>GDP per capita: 1275.184575<br>Population: 2046772<br>Year: 2002\", \"Country: Liberia<br>Life Expectancy: 43.753<br>GDP per capita: 531.4823679<br>Population: 2814651<br>Year: 2002\", \"Country: Libya<br>Life Expectancy: 72.737<br>GDP per capita: 9534.677467<br>Population: 5368585<br>Year: 2002\", \"Country: Madagascar<br>Life Expectancy: 57.286<br>GDP per capita: 894.6370822<br>Population: 16473477<br>Year: 2002\", \"Country: Malawi<br>Life Expectancy: 45.00899999999999<br>GDP per capita: 665.4231186000002<br>Population: 11824495<br>Year: 2002\", \"Country: Mali<br>Life Expectancy: 51.81800000000001<br>GDP per capita: 951.4097518<br>Population: 10580176<br>Year: 2002\", \"Country: Mauritania<br>Life Expectancy: 62.247<br>GDP per capita: 1579.019543<br>Population: 2828858<br>Year: 2002\", \"Country: Mauritius<br>Life Expectancy: 71.954<br>GDP per capita: 9021.815894<br>Population: 1200206<br>Year: 2002\", \"Country: Morocco<br>Life Expectancy: 69.615<br>GDP per capita: 3258.495584<br>Population: 31167783<br>Year: 2002\", \"Country: Mozambique<br>Life Expectancy: 44.026<br>GDP per capita: 633.6179466<br>Population: 18473780<br>Year: 2002\", \"Country: Namibia<br>Life Expectancy: 51.479<br>GDP per capita: 4072.324751<br>Population: 1972153<br>Year: 2002\", \"Country: Niger<br>Life Expectancy: 54.496<br>GDP per capita: 601.0745012<br>Population: 11140655<br>Year: 2002\", \"Country: Nigeria<br>Life Expectancy: 46.608<br>GDP per capita: 1615.286395<br>Population: 119901274<br>Year: 2002\", \"Country: Reunion<br>Life Expectancy: 75.744<br>GDP per capita: 6316.1652<br>Population: 743981<br>Year: 2002\", \"Country: Rwanda<br>Life Expectancy: 43.413<br>GDP per capita: 785.6537647999999<br>Population: 7852401<br>Year: 2002\", \"Country: Sao Tome and Principe<br>Life Expectancy: 64.337<br>GDP per capita: 1353.09239<br>Population: 170372<br>Year: 2002\", \"Country: Senegal<br>Life Expectancy: 61.6<br>GDP per capita: 1519.635262<br>Population: 10870037<br>Year: 2002\", \"Country: Sierra Leone<br>Life Expectancy: 41.012<br>GDP per capita: 699.4897129999998<br>Population: 5359092<br>Year: 2002\", \"Country: Somalia<br>Life Expectancy: 45.93600000000001<br>GDP per capita: 882.0818218000002<br>Population: 7753310<br>Year: 2002\", \"Country: South Africa<br>Life Expectancy: 53.365<br>GDP per capita: 7710.946444<br>Population: 44433622<br>Year: 2002\", \"Country: Sudan<br>Life Expectancy: 56.369<br>GDP per capita: 1993.398314<br>Population: 37090298<br>Year: 2002\", \"Country: Swaziland<br>Life Expectancy: 43.869<br>GDP per capita: 4128.116943<br>Population: 1130269<br>Year: 2002\", \"Country: Tanzania<br>Life Expectancy: 49.651<br>GDP per capita: 899.0742111<br>Population: 34593779<br>Year: 2002\", \"Country: Togo<br>Life Expectancy: 57.56100000000001<br>GDP per capita: 886.2205765000001<br>Population: 4977378<br>Year: 2002\", \"Country: Tunisia<br>Life Expectancy: 73.042<br>GDP per capita: 5722.895654999998<br>Population: 9770575<br>Year: 2002\", \"Country: Uganda<br>Life Expectancy: 47.813<br>GDP per capita: 927.7210018<br>Population: 24739869<br>Year: 2002\", \"Country: Zambia<br>Life Expectancy: 39.19300000000001<br>GDP per capita: 1071.6139380000004<br>Population: 10595811<br>Year: 2002\", \"Country: Zimbabwe<br>Life Expectancy: 39.989<br>GDP per capita: 672.0386227000001<br>Population: 11926563<br>Year: 2002\"], \"type\": \"scatter\", \"uid\": \"6090a763-bd01-4673-84a4-30d2f58d6dab\", \"x\": [5288.040382, 2773.287312, 1372.877931, 11003.60508, 1037.645221, 446.4035126, 1934.011449, 738.6906068, 1156.18186, 1075.811558, 241.1658765, 3484.06197, 1648.800823, 1908.260867, 4754.604414, 7703.4959, 765.3500015, 530.0535319, 12521.71392, 660.5855997, 1111.9845779999996, 945.5835837, 575.7047176, 1287.514732, 1275.184575, 531.4823679, 9534.677467, 894.6370822, 665.4231186000002, 951.4097518, 1579.019543, 9021.815894, 3258.495584, 633.6179466, 4072.324751, 601.0745012, 1615.286395, 6316.1652, 785.6537647999999, 1353.09239, 1519.635262, 699.4897129999998, 882.0818218000002, 7710.946444, 1993.398314, 4128.116943, 899.0742111, 886.2205765000001, 5722.895654999998, 927.7210018, 1071.6139380000004, 672.0386227000001], \"y\": [70.994, 41.003, 54.40600000000001, 46.63399999999999, 50.65, 47.36, 49.856, 43.308, 50.525, 62.974, 44.966, 52.97, 46.832, 53.37300000000001, 69.806, 49.348, 55.24, 50.725, 56.761, 58.041, 58.453, 53.676, 45.504, 50.992, 44.593, 43.753, 72.737, 57.286, 45.00899999999999, 51.81800000000001, 62.247, 71.954, 69.615, 44.026, 51.479, 54.496, 46.608, 75.744, 43.413, 64.337, 61.6, 41.012, 45.93600000000001, 53.365, 56.369, 43.869, 49.651, 57.56100000000001, 73.042, 47.813, 39.19300000000001, 39.989]}, {\"marker\": {\"line\": {\"width\": 2}, \"size\": [38331121, 8445134, 179914212, 31902268, 15497046, 41008227, 3834934, 11226999, 8650322, 12921234, 6353681, 11178650, 7607651, 6677328, 2664659, 102479927, 5146848, 2990875, 5884491, 26769436, 3859606, 1101832, 287675526, 3363085, 24287670], \"sizemode\": \"area\", \"sizeref\": 390935.84}, \"mode\": \"markers\", \"name\": \"Americas\", \"text\": [\"Country: Argentina<br>Life Expectancy: 74.34<br>GDP per capita: 8797.640716<br>Population: 38331121<br>Year: 2002\", \"Country: Bolivia<br>Life Expectancy: 63.883<br>GDP per capita: 3413.26269<br>Population: 8445134<br>Year: 2002\", \"Country: Brazil<br>Life Expectancy: 71.006<br>GDP per capita: 8131.212843000001<br>Population: 179914212<br>Year: 2002\", \"Country: Canada<br>Life Expectancy: 79.77<br>GDP per capita: 33328.96507<br>Population: 31902268<br>Year: 2002\", \"Country: Chile<br>Life Expectancy: 77.86<br>GDP per capita: 10778.78385<br>Population: 15497046<br>Year: 2002\", \"Country: Colombia<br>Life Expectancy: 71.682<br>GDP per capita: 5755.259962<br>Population: 41008227<br>Year: 2002\", \"Country: Costa Rica<br>Life Expectancy: 78.123<br>GDP per capita: 7723.447195000002<br>Population: 3834934<br>Year: 2002\", \"Country: Cuba<br>Life Expectancy: 77.158<br>GDP per capita: 6340.646683<br>Population: 11226999<br>Year: 2002\", \"Country: Dominican Republic<br>Life Expectancy: 70.847<br>GDP per capita: 4563.808154<br>Population: 8650322<br>Year: 2002\", \"Country: Ecuador<br>Life Expectancy: 74.173<br>GDP per capita: 5773.044512<br>Population: 12921234<br>Year: 2002\", \"Country: El Salvador<br>Life Expectancy: 70.734<br>GDP per capita: 5351.568665999999<br>Population: 6353681<br>Year: 2002\", \"Country: Guatemala<br>Life Expectancy: 68.97800000000001<br>GDP per capita: 4858.347495<br>Population: 11178650<br>Year: 2002\", \"Country: Haiti<br>Life Expectancy: 58.137<br>GDP per capita: 1270.364932<br>Population: 7607651<br>Year: 2002\", \"Country: Honduras<br>Life Expectancy: 68.565<br>GDP per capita: 3099.72866<br>Population: 6677328<br>Year: 2002\", \"Country: Jamaica<br>Life Expectancy: 72.047<br>GDP per capita: 6994.774861<br>Population: 2664659<br>Year: 2002\", \"Country: Mexico<br>Life Expectancy: 74.902<br>GDP per capita: 10742.44053<br>Population: 102479927<br>Year: 2002\", \"Country: Nicaragua<br>Life Expectancy: 70.836<br>GDP per capita: 2474.548819<br>Population: 5146848<br>Year: 2002\", \"Country: Panama<br>Life Expectancy: 74.712<br>GDP per capita: 7356.0319340000015<br>Population: 2990875<br>Year: 2002\", \"Country: Paraguay<br>Life Expectancy: 70.755<br>GDP per capita: 3783.674243<br>Population: 5884491<br>Year: 2002\", \"Country: Peru<br>Life Expectancy: 69.906<br>GDP per capita: 5909.020073<br>Population: 26769436<br>Year: 2002\", \"Country: Puerto Rico<br>Life Expectancy: 77.778<br>GDP per capita: 18855.60618<br>Population: 3859606<br>Year: 2002\", \"Country: Trinidad and Tobago<br>Life Expectancy: 68.976<br>GDP per capita: 11460.60023<br>Population: 1101832<br>Year: 2002\", \"Country: United States<br>Life Expectancy: 77.31<br>GDP per capita: 39097.09955<br>Population: 287675526<br>Year: 2002\", \"Country: Uruguay<br>Life Expectancy: 75.307<br>GDP per capita: 7727.002004000001<br>Population: 3363085<br>Year: 2002\", \"Country: Venezuela<br>Life Expectancy: 72.766<br>GDP per capita: 8605.047831<br>Population: 24287670<br>Year: 2002\"], \"type\": \"scatter\", \"uid\": \"e26f9caa-7acd-454d-85a6-9b1f5eee16da\", \"x\": [8797.640716, 3413.26269, 8131.212843000001, 33328.96507, 10778.78385, 5755.259962, 7723.447195000002, 6340.646683, 4563.808154, 5773.044512, 5351.568665999999, 4858.347495, 1270.364932, 3099.72866, 6994.774861, 10742.44053, 2474.548819, 7356.0319340000015, 3783.674243, 5909.020073, 18855.60618, 11460.60023, 39097.09955, 7727.002004000001, 8605.047831], \"y\": [74.34, 63.883, 71.006, 79.77, 77.86, 71.682, 78.123, 77.158, 70.847, 74.173, 70.734, 68.97800000000001, 58.137, 68.565, 72.047, 74.902, 70.836, 74.712, 70.755, 69.906, 77.778, 68.976, 77.31, 75.307, 72.766]}, {\"marker\": {\"line\": {\"width\": 2}, \"size\": [19546792, 3908037], \"sizemode\": \"area\", \"sizeref\": 390935.84}, \"mode\": \"markers\", \"name\": \"Oceania\", \"text\": [\"Country: Australia<br>Life Expectancy: 80.37<br>GDP per capita: 30687.75473<br>Population: 19546792<br>Year: 2002\", \"Country: New Zealand<br>Life Expectancy: 79.11<br>GDP per capita: 23189.80135<br>Population: 3908037<br>Year: 2002\"], \"type\": \"scatter\", \"uid\": \"683f6787-e158-4af7-b4b2-acd4e3d317bb\", \"x\": [30687.75473, 23189.80135], \"y\": [80.37, 79.11]}],\n",
       "                        {\"autosize\": false, \"template\": {\"data\": {\"bar\": [{\"error_x\": {\"color\": \"#2a3f5f\"}, \"error_y\": {\"color\": \"#2a3f5f\"}, \"marker\": {\"line\": {\"color\": \"#E5ECF6\", \"width\": 0.5}}, \"type\": \"bar\"}], \"barpolar\": [{\"marker\": {\"line\": {\"color\": \"#E5ECF6\", \"width\": 0.5}}, \"type\": \"barpolar\"}], \"carpet\": [{\"aaxis\": {\"endlinecolor\": \"#2a3f5f\", \"gridcolor\": \"white\", \"linecolor\": \"white\", \"minorgridcolor\": \"white\", \"startlinecolor\": \"#2a3f5f\"}, \"baxis\": {\"endlinecolor\": \"#2a3f5f\", \"gridcolor\": \"white\", \"linecolor\": \"white\", \"minorgridcolor\": \"white\", \"startlinecolor\": \"#2a3f5f\"}, \"type\": \"carpet\"}], \"choropleth\": [{\"colorbar\": {\"outlinewidth\": 0, \"ticks\": \"\"}, \"type\": \"choropleth\"}], \"contour\": [{\"colorbar\": {\"outlinewidth\": 0, \"ticks\": \"\"}, \"colorscale\": [[0.0, \"#0d0887\"], [0.1111111111111111, \"#46039f\"], [0.2222222222222222, \"#7201a8\"], [0.3333333333333333, \"#9c179e\"], [0.4444444444444444, \"#bd3786\"], [0.5555555555555556, \"#d8576b\"], [0.6666666666666666, \"#ed7953\"], [0.7777777777777778, \"#fb9f3a\"], [0.8888888888888888, \"#fdca26\"], [1.0, \"#f0f921\"]], \"type\": \"contour\"}], \"contourcarpet\": [{\"colorbar\": {\"outlinewidth\": 0, \"ticks\": \"\"}, \"type\": \"contourcarpet\"}], \"heatmap\": [{\"colorbar\": {\"outlinewidth\": 0, \"ticks\": \"\"}, \"colorscale\": [[0.0, \"#0d0887\"], [0.1111111111111111, \"#46039f\"], [0.2222222222222222, \"#7201a8\"], [0.3333333333333333, \"#9c179e\"], [0.4444444444444444, \"#bd3786\"], [0.5555555555555556, \"#d8576b\"], [0.6666666666666666, \"#ed7953\"], [0.7777777777777778, \"#fb9f3a\"], [0.8888888888888888, \"#fdca26\"], [1.0, \"#f0f921\"]], \"type\": \"heatmap\"}], \"heatmapgl\": [{\"colorbar\": {\"outlinewidth\": 0, \"ticks\": \"\"}, \"colorscale\": [[0.0, \"#0d0887\"], [0.1111111111111111, \"#46039f\"], [0.2222222222222222, \"#7201a8\"], [0.3333333333333333, \"#9c179e\"], [0.4444444444444444, \"#bd3786\"], [0.5555555555555556, \"#d8576b\"], [0.6666666666666666, \"#ed7953\"], [0.7777777777777778, \"#fb9f3a\"], [0.8888888888888888, \"#fdca26\"], [1.0, \"#f0f921\"]], \"type\": \"heatmapgl\"}], \"histogram\": [{\"marker\": {\"colorbar\": {\"outlinewidth\": 0, \"ticks\": \"\"}}, \"type\": \"histogram\"}], \"histogram2d\": [{\"colorbar\": {\"outlinewidth\": 0, \"ticks\": \"\"}, \"colorscale\": [[0.0, \"#0d0887\"], [0.1111111111111111, \"#46039f\"], [0.2222222222222222, \"#7201a8\"], [0.3333333333333333, \"#9c179e\"], [0.4444444444444444, \"#bd3786\"], [0.5555555555555556, \"#d8576b\"], [0.6666666666666666, \"#ed7953\"], [0.7777777777777778, \"#fb9f3a\"], [0.8888888888888888, \"#fdca26\"], [1.0, \"#f0f921\"]], \"type\": \"histogram2d\"}], \"histogram2dcontour\": [{\"colorbar\": {\"outlinewidth\": 0, \"ticks\": \"\"}, \"colorscale\": [[0.0, \"#0d0887\"], [0.1111111111111111, \"#46039f\"], [0.2222222222222222, \"#7201a8\"], [0.3333333333333333, \"#9c179e\"], [0.4444444444444444, \"#bd3786\"], [0.5555555555555556, \"#d8576b\"], [0.6666666666666666, \"#ed7953\"], [0.7777777777777778, \"#fb9f3a\"], [0.8888888888888888, \"#fdca26\"], [1.0, \"#f0f921\"]], \"type\": \"histogram2dcontour\"}], \"mesh3d\": [{\"colorbar\": {\"outlinewidth\": 0, \"ticks\": \"\"}, \"type\": \"mesh3d\"}], \"parcoords\": [{\"line\": {\"colorbar\": {\"outlinewidth\": 0, \"ticks\": \"\"}}, \"type\": \"parcoords\"}], \"pie\": [{\"automargin\": true, \"type\": \"pie\"}], \"scatter\": [{\"marker\": {\"colorbar\": {\"outlinewidth\": 0, \"ticks\": \"\"}}, \"type\": \"scatter\"}], \"scatter3d\": [{\"line\": {\"colorbar\": {\"outlinewidth\": 0, \"ticks\": \"\"}}, \"marker\": {\"colorbar\": {\"outlinewidth\": 0, \"ticks\": \"\"}}, \"type\": \"scatter3d\"}], \"scattercarpet\": [{\"marker\": {\"colorbar\": {\"outlinewidth\": 0, \"ticks\": \"\"}}, \"type\": \"scattercarpet\"}], \"scattergeo\": [{\"marker\": {\"colorbar\": {\"outlinewidth\": 0, \"ticks\": \"\"}}, \"type\": \"scattergeo\"}], \"scattergl\": [{\"marker\": {\"colorbar\": {\"outlinewidth\": 0, \"ticks\": \"\"}}, \"type\": \"scattergl\"}], \"scattermapbox\": [{\"marker\": {\"colorbar\": {\"outlinewidth\": 0, \"ticks\": \"\"}}, \"type\": \"scattermapbox\"}], \"scatterpolar\": [{\"marker\": {\"colorbar\": {\"outlinewidth\": 0, \"ticks\": \"\"}}, \"type\": \"scatterpolar\"}], \"scatterpolargl\": [{\"marker\": {\"colorbar\": {\"outlinewidth\": 0, \"ticks\": \"\"}}, \"type\": \"scatterpolargl\"}], \"scatterternary\": [{\"marker\": {\"colorbar\": {\"outlinewidth\": 0, \"ticks\": \"\"}}, \"type\": \"scatterternary\"}], \"surface\": [{\"colorbar\": {\"outlinewidth\": 0, \"ticks\": \"\"}, \"colorscale\": [[0.0, \"#0d0887\"], [0.1111111111111111, \"#46039f\"], [0.2222222222222222, \"#7201a8\"], [0.3333333333333333, \"#9c179e\"], [0.4444444444444444, \"#bd3786\"], [0.5555555555555556, \"#d8576b\"], [0.6666666666666666, \"#ed7953\"], [0.7777777777777778, \"#fb9f3a\"], [0.8888888888888888, \"#fdca26\"], [1.0, \"#f0f921\"]], \"type\": \"surface\"}], \"table\": [{\"cells\": {\"fill\": {\"color\": \"#EBF0F8\"}, \"line\": {\"color\": \"white\"}}, \"header\": {\"fill\": {\"color\": \"#C8D4E3\"}, \"line\": {\"color\": \"white\"}}, \"type\": \"table\"}]}, \"layout\": {\"annotationdefaults\": {\"arrowcolor\": \"#2a3f5f\", \"arrowhead\": 0, \"arrowwidth\": 1}, \"coloraxis\": {\"colorbar\": {\"outlinewidth\": 0, \"ticks\": \"\"}}, \"colorscale\": {\"diverging\": [[0, \"#8e0152\"], [0.1, \"#c51b7d\"], [0.2, \"#de77ae\"], [0.3, \"#f1b6da\"], [0.4, \"#fde0ef\"], [0.5, \"#f7f7f7\"], [0.6, \"#e6f5d0\"], [0.7, \"#b8e186\"], [0.8, \"#7fbc41\"], [0.9, \"#4d9221\"], [1, \"#276419\"]], \"sequential\": [[0.0, \"#0d0887\"], [0.1111111111111111, \"#46039f\"], [0.2222222222222222, \"#7201a8\"], [0.3333333333333333, \"#9c179e\"], [0.4444444444444444, \"#bd3786\"], [0.5555555555555556, \"#d8576b\"], [0.6666666666666666, \"#ed7953\"], [0.7777777777777778, \"#fb9f3a\"], [0.8888888888888888, \"#fdca26\"], [1.0, \"#f0f921\"]], \"sequentialminus\": [[0.0, \"#0d0887\"], [0.1111111111111111, \"#46039f\"], [0.2222222222222222, \"#7201a8\"], [0.3333333333333333, \"#9c179e\"], [0.4444444444444444, \"#bd3786\"], [0.5555555555555556, \"#d8576b\"], [0.6666666666666666, \"#ed7953\"], [0.7777777777777778, \"#fb9f3a\"], [0.8888888888888888, \"#fdca26\"], [1.0, \"#f0f921\"]]}, \"colorway\": [\"#636efa\", \"#EF553B\", \"#00cc96\", \"#ab63fa\", \"#FFA15A\", \"#19d3f3\", \"#FF6692\", \"#B6E880\", \"#FF97FF\", \"#FECB52\"], \"font\": {\"color\": \"#2a3f5f\"}, \"geo\": {\"bgcolor\": \"white\", \"lakecolor\": \"white\", \"landcolor\": \"#E5ECF6\", \"showlakes\": true, \"showland\": true, \"subunitcolor\": \"white\"}, \"hoverlabel\": {\"align\": \"left\"}, \"hovermode\": \"closest\", \"mapbox\": {\"style\": \"light\"}, \"paper_bgcolor\": \"white\", \"plot_bgcolor\": \"#E5ECF6\", \"polar\": {\"angularaxis\": {\"gridcolor\": \"white\", \"linecolor\": \"white\", \"ticks\": \"\"}, \"bgcolor\": \"#E5ECF6\", \"radialaxis\": {\"gridcolor\": \"white\", \"linecolor\": \"white\", \"ticks\": \"\"}}, \"scene\": {\"xaxis\": {\"backgroundcolor\": \"#E5ECF6\", \"gridcolor\": \"white\", \"gridwidth\": 2, \"linecolor\": \"white\", \"showbackground\": true, \"ticks\": \"\", \"zerolinecolor\": \"white\"}, \"yaxis\": {\"backgroundcolor\": \"#E5ECF6\", \"gridcolor\": \"white\", \"gridwidth\": 2, \"linecolor\": \"white\", \"showbackground\": true, \"ticks\": \"\", \"zerolinecolor\": \"white\"}, \"zaxis\": {\"backgroundcolor\": \"#E5ECF6\", \"gridcolor\": \"white\", \"gridwidth\": 2, \"linecolor\": \"white\", \"showbackground\": true, \"ticks\": \"\", \"zerolinecolor\": \"white\"}}, \"shapedefaults\": {\"line\": {\"color\": \"#2a3f5f\"}}, \"ternary\": {\"aaxis\": {\"gridcolor\": \"white\", \"linecolor\": \"white\", \"ticks\": \"\"}, \"baxis\": {\"gridcolor\": \"white\", \"linecolor\": \"white\", \"ticks\": \"\"}, \"bgcolor\": \"#E5ECF6\", \"caxis\": {\"gridcolor\": \"white\", \"linecolor\": \"white\", \"ticks\": \"\"}}, \"title\": {\"x\": 0.05}, \"xaxis\": {\"automargin\": true, \"gridcolor\": \"white\", \"linecolor\": \"white\", \"ticks\": \"\", \"title\": {\"standoff\": 15}, \"zerolinecolor\": \"white\", \"zerolinewidth\": 2}, \"yaxis\": {\"automargin\": true, \"gridcolor\": \"white\", \"linecolor\": \"white\", \"ticks\": \"\", \"title\": {\"standoff\": 15}, \"zerolinecolor\": \"white\", \"zerolinewidth\": 2}}}, \"xaxis\": {\"linecolor\": \"rgb(204, 204, 204)\", \"linewidth\": 2, \"ticks\": \"outside\", \"title\": {\"text\": \"GDP per capita\"}}, \"yaxis\": {\"linecolor\": \"rgb(204, 204, 204)\", \"linewidth\": 2, \"ticks\": \"outside\", \"title\": {\"text\": \"life expectancy\"}}},\n",
       "                        {\"responsive\": true}\n",
       "                    ).then(function(){\n",
       "                            \n",
       "var gd = document.getElementById('94b1d0ad-136b-4a20-940a-5f62c37b1260');\n",
       "var x = new MutationObserver(function (mutations, observer) {{\n",
       "        var display = window.getComputedStyle(gd).display;\n",
       "        if (!display || display === 'none') {{\n",
       "            console.log([gd, 'removed!']);\n",
       "            Plotly.purge(gd);\n",
       "            observer.disconnect();\n",
       "        }}\n",
       "}});\n",
       "\n",
       "// Listen for the removal of the full notebook cells\n",
       "var notebookContainer = gd.closest('#notebook-container');\n",
       "if (notebookContainer) {{\n",
       "    x.observe(notebookContainer, {childList: true});\n",
       "}}\n",
       "\n",
       "// Listen for the clearing of the current output cell\n",
       "var outputEl = gd.closest('.output');\n",
       "if (outputEl) {{\n",
       "    x.observe(outputEl, {childList: true});\n",
       "}}\n",
       "\n",
       "                        })\n",
       "                };\n",
       "                });\n",
       "            </script>\n",
       "        </div>"
      ]
     },
     "metadata": {},
     "output_type": "display_data"
    }
   ],
   "source": [
    "widget = go.FigureWidget(fig)\n",
    "widget.show()"
   ]
  },
  {
   "cell_type": "markdown",
   "metadata": {},
   "source": [
    "Adding interactivity to a widget requires some extra imports:"
   ]
  },
  {
   "cell_type": "code",
   "execution_count": 132,
   "metadata": {},
   "outputs": [
    {
     "data": {
      "application/javascript": [
       "window.genUID = function() {\n",
       "    return 'xxxxxxxx-xxxx-4xxx-yxxx-xxxxxxxxxxxx'.replace(/[xy]/g, function(c) {\n",
       "        var r = Math.random()*16|0, v = c == 'x' ? r : (r&0x3|0x8);\n",
       "        return v.toString(16);\n",
       "    });\n",
       "};\n",
       "\n",
       "\n",
       "define('graphWidget', [\"@jupyter-widgets/base\"], function (widget) {\n",
       "\n",
       "    var GraphView = widget.DOMWidgetView.extend({\n",
       "        render: function(){\n",
       "            var that = this;\n",
       "\n",
       "            var graphId = window.genUID();\n",
       "            var loadingId = 'loading-'+graphId;\n",
       "\n",
       "\n",
       "            var _graph_url = that.model.get('_graph_url');\n",
       "\n",
       "            // variable plotlyDomain in the case of enterprise\n",
       "            var url_parts = _graph_url.split('/');\n",
       "            var plotlyDomain = url_parts[0] + '//' + url_parts[2];\n",
       "\n",
       "            if(!('plotlyDomains' in window)){\n",
       "                window.plotlyDomains = {};\n",
       "            }\n",
       "            window.plotlyDomains[graphId] = plotlyDomain;\n",
       "\n",
       "            // Place IFrame in output cell div `$el`\n",
       "            that.$el.css('width', '100%');\n",
       "            that.$graph = $(['<iframe id=\"'+graphId+'\"',\n",
       "                             'src=\"'+_graph_url+'.embed\"',\n",
       "                             'seamless',\n",
       "                             'style=\"border: none;\"',\n",
       "                             'width=\"100%\"',\n",
       "                             'height=\"600\">',\n",
       "                             '</iframe>'].join(' '));\n",
       "            that.$graph.appendTo(that.$el);\n",
       "\n",
       "            that.$loading = $('<div id=\"'+loadingId+'\">Initializing...</div>')\n",
       "                            .appendTo(that.$el);\n",
       "\n",
       "            // for some reason the 'width' is being changed in IPython 3.0.0\n",
       "            // for the containing `div` element. There's a flicker here, but\n",
       "            // I was unable to fix it otherwise.\n",
       "            setTimeout(function ()  {\n",
       "                if (IPYTHON_VERSION === '3') {\n",
       "                    $('#' + graphId)[0].parentElement.style.width = '100%';\n",
       "                }\n",
       "            }, 500);\n",
       "\n",
       "            // initialize communication with the iframe\n",
       "            if(!('pingers' in window)){\n",
       "                window.pingers = {};\n",
       "            }\n",
       "\n",
       "            window.pingers[graphId] = setInterval(function() {\n",
       "                that.graphContentWindow = $('#'+graphId)[0].contentWindow;\n",
       "                that.graphContentWindow.postMessage({task: 'ping'}, plotlyDomain);\n",
       "            }, 200);\n",
       "\n",
       "            // Assign a message listener to the 'message' events\n",
       "            // from iframe's postMessage protocol.\n",
       "            // Filter the messages by iframe src so that the right message\n",
       "            // gets passed to the right widget\n",
       "            if(!('messageListeners' in window)){\n",
       "                 window.messageListeners = {};\n",
       "            }\n",
       "\n",
       "            window.messageListeners[graphId] = function(e) {\n",
       "                if(_graph_url.indexOf(e.origin)>-1) {\n",
       "                    var frame = document.getElementById(graphId);\n",
       "\n",
       "                    if(frame === null){\n",
       "                        // frame doesn't exist in the dom anymore, clean up it's old event listener\n",
       "                        window.removeEventListener('message', window.messageListeners[graphId]);\n",
       "                        clearInterval(window.pingers[graphId]);\n",
       "                    } else if(frame.contentWindow === e.source) {\n",
       "                        // TODO: Stop event propagation, so each frame doesn't listen and filter\n",
       "                        var frameContentWindow = $('#'+graphId)[0].contentWindow;\n",
       "                        var message = e.data;\n",
       "\n",
       "                        if('pong' in message && message.pong) {\n",
       "                            $('#loading-'+graphId).hide();\n",
       "                            clearInterval(window.pingers[graphId]);\n",
       "                            that.send({event: 'pong', graphId: graphId});\n",
       "                        } else if (message.type==='hover' ||\n",
       "                                   message.type==='zoom'  ||\n",
       "                                   message.type==='click' ||\n",
       "                                   message.type==='unhover') {\n",
       "\n",
       "                            // click and hover events contain all of the data in the traces,\n",
       "                            // which can be a very large object and may take a ton of time\n",
       "                            // to pass to the python backend. Strip out the data, and require\n",
       "                            // the user to call get_figure if they need trace information\n",
       "                            if(message.type !== 'zoom') {\n",
       "                                for(var i in message.points) {\n",
       "                                    delete message.points[i].data;\n",
       "                                    delete message.points[i].fullData;\n",
       "                                }\n",
       "                            }\n",
       "                            that.send({event: message.type, message: message, graphId: graphId});\n",
       "                        } else if (message.task === 'getAttributes') {\n",
       "                            that.send({event: 'getAttributes', response: message.response});\n",
       "                        }\n",
       "                    }\n",
       "                }\n",
       "            };\n",
       "\n",
       "            window.removeEventListener('message', window.messageListeners[graphId]);\n",
       "            window.addEventListener('message', window.messageListeners[graphId]);\n",
       "\n",
       "        },\n",
       "\n",
       "        update: function() {\n",
       "            // Listen for messages from the graph widget in python\n",
       "            var jmessage = this.model.get('_message');\n",
       "            var message = JSON.parse(jmessage);\n",
       "\n",
       "            // check for duplicate messages\n",
       "            if(!('messageIds' in window)){\n",
       "                window.messageIds = {};\n",
       "            }\n",
       "\n",
       "            if(!(message.uid in window.messageIds)){\n",
       "                // message hasn't been received yet, do stuff\n",
       "                window.messageIds[message.uid] = true;\n",
       "\n",
       "                if (message.fadeTo) {\n",
       "                    this.fadeTo(message);\n",
       "                } else {\n",
       "                    var plot = $('#' + message.graphId)[0].contentWindow;\n",
       "                    plot.postMessage(message, window.plotlyDomains[message.graphId]);\n",
       "                }\n",
       "            }\n",
       "\n",
       "            return GraphView.__super__.update.apply(this);\n",
       "        },\n",
       "\n",
       "        /**\n",
       "         * Wrapper for jquery's `fadeTo` function.\n",
       "         *\n",
       "         * @param message Contains the id we need to find the element.\n",
       "         */\n",
       "        fadeTo: function (message) {\n",
       "            var plot = $('#' + message.graphId);\n",
       "            plot.fadeTo(message.duration, message.opacity);\n",
       "        }\n",
       "    });\n",
       "\n",
       "    // Register the GraphView with the widget manager.\n",
       "    return {\n",
       "        GraphView: GraphView\n",
       "    }\n",
       "\n",
       "});\n",
       "\n",
       "//@ sourceURL=graphWidget.js\n"
      ],
      "text/plain": [
       "<IPython.core.display.Javascript object>"
      ]
     },
     "metadata": {},
     "output_type": "display_data"
    }
   ],
   "source": [
    "from ipywidgets import widgets\n",
    "from IPython.display import display, clear_output, Image\n",
    "from chart_studio.widgets import GraphWidget"
   ]
  },
  {
   "cell_type": "code",
   "execution_count": null,
   "metadata": {},
   "outputs": [],
   "source": []
  }
 ],
 "metadata": {
  "kernelspec": {
   "display_name": "data_analysis",
   "language": "python",
   "name": "data_analysis"
  },
  "language_info": {
   "codemirror_mode": {
    "name": "ipython",
    "version": 3
   },
   "file_extension": ".py",
   "mimetype": "text/x-python",
   "name": "python",
   "nbconvert_exporter": "python",
   "pygments_lexer": "ipython3",
   "version": "3.7.3"
  }
 },
 "nbformat": 4,
 "nbformat_minor": 4
}
